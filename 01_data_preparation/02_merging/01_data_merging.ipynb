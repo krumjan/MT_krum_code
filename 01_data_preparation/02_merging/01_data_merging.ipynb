{
 "cells": [
  {
   "cell_type": "markdown",
   "metadata": {},
   "source": [
    "***\n",
    "### Import of required libraries\n",
    "***"
   ]
  },
  {
   "cell_type": "code",
   "execution_count": null,
   "metadata": {
    "metadata": {}
   },
   "outputs": [],
   "source": [
    "import pandas as pd\n",
    "from traffic.core import Traffic"
   ]
  },
  {
   "cell_type": "markdown",
   "metadata": {},
   "source": [
    "***\n",
    "### Import of data\n",
    "***"
   ]
  },
  {
   "cell_type": "code",
   "execution_count": null,
   "metadata": {
    "metadata": {}
   },
   "outputs": [],
   "source": [
    "# SAMAX data\n",
    "samax = Traffic.from_file(\n",
    "    \"/mnt/beegfs/store/krum/MT/inputs/samax_trajs.parquet\"\n",
    ")\n",
    "\n",
    "# Mass data\n",
    "mass = pd.read_parquet(\"/mnt/beegfs/store/krum/MT/inputs/df_mass.parquet\")\n",
    "\n",
    "# T/RH/P data\n",
    "trhp = pd.read_parquet(\"/mnt/beegfs/store/krum/MT/inputs/df_t_rh_p.parquet\")\n",
    "\n",
    "# Wind data\n",
    "wind = pd.read_parquet(\"/mnt/beegfs/store/krum/MT/inputs/df_wind.parquet\")\n",
    "\n",
    "# Flightplan data\n",
    "fp = pd.read_parquet(\"/mnt/beegfs/store/krum/MT/inputs/df_sid.parquet\")"
   ]
  },
  {
   "cell_type": "markdown",
   "metadata": {},
   "source": [
    "***\n",
    "### Merge of data\n",
    "***"
   ]
  },
  {
   "cell_type": "markdown",
   "metadata": {},
   "source": [
    "##### mass/typecode data"
   ]
  },
  {
   "cell_type": "code",
   "execution_count": null,
   "metadata": {
    "metadata": {}
   },
   "outputs": [],
   "source": [
    "# FZAG mass/typecode data\n",
    "samax.data[\"date\"] = pd.to_datetime(samax.data[\"timestamp\"].dt.date)\n",
    "samax.data = pd.merge(\n",
    "    left=samax.data,\n",
    "    right=mass,\n",
    "    left_on=[\"date\", \"callsign\"],\n",
    "    right_on=[\"date\", \"callsign\"],\n",
    "    how=\"left\",\n",
    ")"
   ]
  },
  {
   "cell_type": "markdown",
   "metadata": {},
   "source": [
    "##### T/RH/P data"
   ]
  },
  {
   "cell_type": "code",
   "execution_count": null,
   "metadata": {
    "metadata": {}
   },
   "outputs": [],
   "source": [
    "samax.data = pd.merge_asof(\n",
    "    left=samax.data.sort_values(\"timestamp\"),\n",
    "    right=trhp.sort_values(\"timestamp\"),\n",
    "    on=\"timestamp\",\n",
    "    tolerance=pd.Timedelta(\"30min\"),\n",
    ")"
   ]
  },
  {
   "cell_type": "markdown",
   "metadata": {},
   "source": [
    "##### Wind data"
   ]
  },
  {
   "cell_type": "code",
   "execution_count": null,
   "metadata": {
    "metadata": {}
   },
   "outputs": [],
   "source": [
    "samax.data = pd.merge_asof(\n",
    "    left=samax.data.sort_values(\"timestamp\"),\n",
    "    right=wind.sort_values(\"timestamp\"),\n",
    "    on=\"timestamp\",\n",
    "    tolerance=pd.Timedelta(\"30min\"),\n",
    ")"
   ]
  },
  {
   "cell_type": "markdown",
   "metadata": {},
   "source": [
    "##### Flightplan data"
   ]
  },
  {
   "cell_type": "code",
   "execution_count": null,
   "metadata": {
    "metadata": {}
   },
   "outputs": [],
   "source": [
    "samax.data = pd.merge(\n",
    "    left=samax.data,\n",
    "    right=fp,\n",
    "    left_on=[\"flight_id\"],\n",
    "    right_on=[\"flight_id\"],\n",
    "    how=\"left\",\n",
    ")"
   ]
  },
  {
   "cell_type": "markdown",
   "metadata": {},
   "source": [
    "***\n",
    "### Keep only flights with complete data and save to file\n",
    "***"
   ]
  },
  {
   "cell_type": "code",
   "execution_count": null,
   "metadata": {
    "metadata": {}
   },
   "outputs": [],
   "source": [
    "# Drop flights with missing values\n",
    "delete_ids = (\n",
    "    samax.data[\n",
    "        samax.data[\n",
    "            [\n",
    "                \"timestamp\",\n",
    "                \"latitude\",\n",
    "                \"longitude\",\n",
    "                \"altitude\",\n",
    "                \"typecode\",\n",
    "                \"toff_weight_kg\",\n",
    "                \"temperature_gnd\",\n",
    "                \"humidity_gnd\",\n",
    "                \"pressure_gnd\",\n",
    "                \"wind_x_2min_avg\",\n",
    "                \"wind_y_2min_avg\",\n",
    "                \"hour\",\n",
    "                \"weekday\",\n",
    "                \"month\",\n",
    "                \"SID\",\n",
    "            ]\n",
    "        ]\n",
    "        .isna()\n",
    "        .any(axis=1)\n",
    "    ][\"flight_id\"]\n",
    "    .unique()\n",
    "    .tolist()\n",
    ")\n",
    "samax.data = samax.data[~samax.data[\"flight_id\"].isin(delete_ids)]\n",
    "\n",
    "# Save traffic as parquet\n",
    "samax.to_parquet(\"/mnt/beegfs/store/krum/MT/traffic_complete/complete.parquet\")"
   ]
  }
 ],
 "metadata": {
  "kernelspec": {
   "display_name": "Poetry via SLURM MIAR",
   "language": "python",
   "name": "jupyter-eg-kernel-slurm-py39-poetry-1ho6psb1p"
  }
 },
 "nbformat": 4,
 "nbformat_minor": 2
}
