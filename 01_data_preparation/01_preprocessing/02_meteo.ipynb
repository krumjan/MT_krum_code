{
 "cells": [
  {
   "cell_type": "markdown",
   "metadata": {},
   "source": [
    "***\n",
    "### Import of required libraries\n",
    "***"
   ]
  },
  {
   "cell_type": "code",
   "execution_count": 1,
   "metadata": {},
   "outputs": [],
   "source": [
    "import glob\n",
    "from os.path import join as opj\n",
    "\n",
    "import pandas as pd\n",
    "import numpy as np"
   ]
  },
  {
   "cell_type": "markdown",
   "metadata": {},
   "source": [
    "***\n",
    "### Procesing of MeteoSchweiz T/RH/P data\n",
    "***"
   ]
  },
  {
   "cell_type": "code",
   "execution_count": 2,
   "metadata": {},
   "outputs": [],
   "source": [
    "# Get a list of all csv files containing weather data\n",
    "weather_data_path = \"/mnt/beegfs/store/MIAR/01_sources/meteo/T-RH_QFE-SMN_KLO\"\n",
    "list_csv = glob.glob(opj(weather_data_path, \"*.csv\"))\n",
    "\n",
    "# Concatenate all csv files into a single pandas dataframe\n",
    "df_weather = pd.concat(\n",
    "    [\n",
    "        pd.read_csv(\n",
    "            f,\n",
    "            sep=\";\",\n",
    "            header=None,\n",
    "            index_col=None,\n",
    "            parse_dates=False,\n",
    "            names=[\n",
    "                \"timestamp\",\n",
    "                \"temperature_gnd\",\n",
    "                \"humidity_gnd\",\n",
    "                \"pressure_gnd\",\n",
    "            ],\n",
    "        )\n",
    "        for f in list_csv\n",
    "    ],\n",
    "    axis=0,\n",
    ")\n",
    "\n",
    "# Transform the timestamp column into a datetime object\n",
    "df_weather[\"timestamp\"] = pd.to_datetime(\n",
    "    df_weather[\"timestamp\"], format=\"%d.%m.%Y %H:%M:%S\", utc=True\n",
    ")\n",
    "\n",
    "# Save dataframe as parquet file\n",
    "df_weather.to_parquet(\"/mnt/beegfs/store/krum/MT/inputs/df_t_rh_p.parquet\")"
   ]
  },
  {
   "cell_type": "markdown",
   "metadata": {},
   "source": [
    "***\n",
    "### Processing of MeteoSchweiz wind data\n",
    "***"
   ]
  },
  {
   "cell_type": "code",
   "execution_count": 3,
   "metadata": {},
   "outputs": [],
   "source": [
    "# Get a list of all csv files containing wind data\n",
    "wind_data_path = \"/mnt/beegfs/store/MIAR/01_sources/meteo/Wind_LSZH_2018-2023\"\n",
    "list_csv_C = glob.glob(\n",
    "    opj(wind_data_path, \"**/*Kloten_Wind_C*.csv.zip\"), recursive=True\n",
    ")\n",
    "\n",
    "# Concatenate all csv files into a single pandas dataframe\n",
    "df_wind = pd.concat(\n",
    "    [\n",
    "        pd.read_csv(\n",
    "            f,\n",
    "            sep=\";\",\n",
    "            header=None,\n",
    "            index_col=0,\n",
    "            parse_dates=True,\n",
    "            names=[\"date\", \"wind_speed_gnd\", \"wind_direction_gnd\"],\n",
    "            usecols=[0, 1, 2],\n",
    "        )\n",
    "        for f in list_csv_C\n",
    "    ],\n",
    "    axis=0,\n",
    ").sort_index()\n",
    "\n",
    "# Transform the timestamp column into a datetime object\n",
    "df_wind = df_wind.reset_index().rename(columns={\"date\": \"timestamp\"})\n",
    "df_wind[\"timestamp\"] = df_wind[\"timestamp\"].dt.tz_localize(\"UTC\")\n",
    "\n",
    "# Computation of 2min moving average for wind speed\n",
    "df_wind[\"wind_speed_gnd_2min_avg\"] = (\n",
    "    df_wind[\"wind_speed_gnd\"].rolling(window=40, min_periods=1).mean()\n",
    ")\n",
    "\n",
    "# Computation of 2min moving average for wind direction\n",
    "wind_dir_radians = np.radians(df_wind[\"wind_direction_gnd\"])\n",
    "sin_component = np.sin(wind_dir_radians)\n",
    "cos_component = np.cos(wind_dir_radians)\n",
    "sin_avg = sin_component.rolling(window=40, min_periods=1).mean()\n",
    "cos_avg = cos_component.rolling(window=40, min_periods=1).mean()\n",
    "avg_direction_radians = np.arctan2(sin_avg, cos_avg)\n",
    "avg_direction_degrees = np.degrees(avg_direction_radians)\n",
    "df_wind[\"wind_direction_gnd_2min_avg\"] = avg_direction_degrees % 360\n",
    "\n",
    "# Computation of x and y components of the wind\n",
    "df_wind[\"wind_x_2min_avg\"] = -df_wind[\"wind_speed_gnd_2min_avg\"] * np.sin(\n",
    "    np.radians(df_wind[\"wind_direction_gnd_2min_avg\"])\n",
    ")\n",
    "df_wind[\"wind_y_2min_avg\"] = -df_wind[\"wind_speed_gnd_2min_avg\"] * np.cos(\n",
    "    np.radians(df_wind[\"wind_direction_gnd_2min_avg\"])\n",
    ")\n",
    "\n",
    "# Save dataframe as parquet file\n",
    "df_wind.to_parquet(\"/mnt/beegfs/store/krum/MT/inputs/df_wind.parquet\")"
   ]
  }
 ],
 "metadata": {
  "kernelspec": {
   "display_name": "Poetry via SLURM MIAR",
   "language": "python",
   "name": "jupyter-eg-kernel-slurm-py39-poetry-1ho6psb1p"
  }
 },
 "nbformat": 4,
 "nbformat_minor": 2
}
