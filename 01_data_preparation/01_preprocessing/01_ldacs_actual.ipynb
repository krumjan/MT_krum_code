{
 "cells": [
  {
   "cell_type": "markdown",
   "metadata": {},
   "source": [
    "***\n",
    "### Import of required libraries\n",
    "***"
   ]
  },
  {
   "cell_type": "code",
   "execution_count": null,
   "metadata": {
    "metadata": {}
   },
   "outputs": [],
   "source": [
    "import glob\n",
    "\n",
    "import pandas as pd\n",
    "from tqdm.auto import tqdm\n",
    "\n",
    "from traffic.core import Traffic\n",
    "from traffic.data import airports\n",
    "\n",
    "t.to_parquet(\n",
    "    \"/mnt/beegfs/store/krum/MT/inputs/samax_trajs_columns_removed.parquet\"\n",
    ")"
   ]
  },
  {
   "cell_type": "markdown",
   "metadata": {},
   "source": [
    "***\n",
    "### Procecessing of SAMAX data\n",
    "***"
   ]
  },
  {
   "cell_type": "code",
   "execution_count": null,
   "metadata": {},
   "outputs": [],
   "source": [
    "t = Traffic.from_file(\n",
    "    \"/mnt/beegfs/store/MIAR/01_sources/SAMAX/02_runway_type/to_28.parquet\"\n",
    ")"
   ]
  },
  {
   "cell_type": "code",
   "execution_count": null,
   "metadata": {},
   "outputs": [],
   "source": [
    "t.data = t.data[\n",
    "    [\n",
    "        \"timestamp\",\n",
    "        \"icao24\",\n",
    "        \"latitude\",\n",
    "        \"longitude\",\n",
    "        \"altitude\",\n",
    "        \"callsign\",\n",
    "        \"flight_id\",\n",
    "    ]\n",
    "]"
   ]
  },
  {
   "cell_type": "code",
   "execution_count": null,
   "metadata": {},
   "outputs": [],
   "source": [
    "t.to_parquet(\n",
    "    \"/mnt/beegfs/store/krum/MT/inputs/samax_trajs_columns_removed.parquet\"\n",
    ")"
   ]
  },
  {
   "cell_type": "code",
   "execution_count": null,
   "metadata": {},
   "outputs": [],
   "source": [
    "t = (\n",
    "    t.resample(\"1s\")\n",
    "    .distance(airports[\"LSZH\"])\n",
    "    .query(\"distance < 30\")\n",
    "    .eval(max_workers=30, desc=\"Resampling and reduction to 30nm\")\n",
    ")\n",
    "t.data.drop(\n",
    "    columns=\"distance\",\n",
    "    axis=1,\n",
    "    inplace=True,\n",
    ")"
   ]
  },
  {
   "cell_type": "code",
   "execution_count": null,
   "metadata": {},
   "outputs": [],
   "source": [
    "t.to_parquet(\n",
    "    \"/mnt/beegfs/store/krum/MT/inputs/samax_trajs_radius_reduced.parquet\"\n",
    ")"
   ]
  },
  {
   "cell_type": "code",
   "execution_count": null,
   "metadata": {},
   "outputs": [],
   "source": [
    "# Remove part before the start of the take-off roll\n",
    "def after_to_roll(flight):\n",
    "    try:\n",
    "        t0 = flight.data.query(\n",
    "            \"8.56695<longitude<8.5695 and 47.45659<latitude<47.457\"\n",
    "        ).timestamp.min()\n",
    "        return flight.after(t0)\n",
    "    except:\n",
    "        return\n",
    "\n",
    "\n",
    "t = (\n",
    "    t.iterate_lazy()\n",
    "    .pipe(after_to_roll)\n",
    "    .eval(desc=\"processing\", max_workers=30)\n",
    ")"
   ]
  },
  {
   "cell_type": "code",
   "execution_count": null,
   "metadata": {},
   "outputs": [],
   "source": [
    "# Save traffic as parquet\n",
    "t.to_parquet(\n",
    "    \"/mnt/beegfs/store/krum/MT/inputs/samax_trajs_toroll_crop.parquet\"\n",
    ")"
   ]
  },
  {
   "cell_type": "code",
   "execution_count": null,
   "metadata": {},
   "outputs": [],
   "source": [
    "traffic_fids = t.query(\"altitude>5000\").data.flight_id.unique()\n",
    "t = t[traffic_fids]"
   ]
  },
  {
   "cell_type": "code",
   "execution_count": null,
   "metadata": {},
   "outputs": [],
   "source": [
    "# Save traffic as parquet\n",
    "t.to_parquet(\"/mnt/beegfs/store/krum/MT/inputs/samax_trajs.parquet\")"
   ]
  },
  {
   "cell_type": "markdown",
   "metadata": {},
   "source": [
    "***\n",
    "### Processing of FZAG mass data\n",
    "***"
   ]
  },
  {
   "cell_type": "markdown",
   "metadata": {},
   "source": [
    "##### Import and processing of data"
   ]
  },
  {
   "cell_type": "code",
   "execution_count": null,
   "metadata": {
    "metadata": {}
   },
   "outputs": [],
   "source": [
    "# Loading the FZAG mass data\n",
    "fzag_data_path = \"/mnt/beegfs/store/MIAR/01_sources/FZAG\"\n",
    "df_departures = (\n",
    "    pd.read_csv(\n",
    "        f\"{fzag_data_path}/df_departure.csv\", sep=\",\", header=0, index_col=0\n",
    "    )\n",
    "    .rename(\n",
    "        columns={\n",
    "            \"SDT\": \"date\",\n",
    "            \"CSG\": \"callsign\",\n",
    "            \"TWT\": \"toff_weight_kg\",\n",
    "            \"ITY\": \"typecode\",\n",
    "        }\n",
    "    )\n",
    "    .drop(columns=[\"REG\"])\n",
    ")\n",
    "\n",
    "# Turning the date column into a datetime object\n",
    "df_departures[\"date\"] = pd.to_datetime(df_departures[\"date\"])\n",
    "\n",
    "# Dropping rows with NaN values in the toff_weight_kg column\n",
    "df_departures = df_departures[df_departures[\"toff_weight_kg\"].notna()]\n",
    "\n",
    "# Add column with airline ICAO code\n",
    "df_departures[\"ICAO\"] = df_departures[\"callsign\"].str.slice(0, 3)\n",
    "\n",
    "# Removal of Swiss Air Force and invalid ICAO codes\n",
    "df_departures = df_departures[\n",
    "    df_departures[\"ICAO\"].isin([\"SWR\", \"EDW\", \"DLH\", \"ADR\", \"BEL\"])\n",
    "]\n",
    "\n",
    "# Removal of rare typecodes\n",
    "df_departures = df_departures[\n",
    "    ~df_departures[\"typecode\"].isin([\"CRJ7\", \"CRJX\", \"B734\"])\n",
    "]\n",
    "\n",
    "# Save the processed FZAG data\n",
    "df_departures.to_parquet(\"/mnt/beegfs/store/krum/MT/inputs/df_mass.parquet\")"
   ]
  }
 ],
 "metadata": {
  "kernelspec": {
   "display_name": "Poetry via SLURM MIAR",
   "language": "python",
   "name": "jupyter-eg-kernel-slurm-py39-poetry-1ho6psb1p"
  }
 },
 "nbformat": 4,
 "nbformat_minor": 2
}
