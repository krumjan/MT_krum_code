{
 "cells": [
  {
   "cell_type": "markdown",
   "metadata": {},
   "source": [
    "***\n",
    "### Import of required libraries\n",
    "***"
   ]
  },
  {
   "cell_type": "code",
   "execution_count": null,
   "metadata": {
    "metadata": {}
   },
   "outputs": [],
   "source": [
    "from geographiclib.geodesic import Geodesic\n",
    "import pandas as pd\n",
    "from tqdm.auto import tqdm\n",
    "\n",
    "from traffic.core import Traffic"
   ]
  },
  {
   "cell_type": "markdown",
   "metadata": {},
   "source": [
    "***\n",
    "### Generation of SID classification dataset\n",
    "***"
   ]
  },
  {
   "cell_type": "code",
   "execution_count": null,
   "metadata": {
    "metadata": {}
   },
   "outputs": [],
   "source": [
    "# Import of trajectories\n",
    "t = Traffic.from_file(\"/mnt/beegfs/store/krum/MT/inputs/samax_trajs.parquet\")\n",
    "\n",
    "\n",
    "# Function to calculate bearing between two points\n",
    "def get_bearing(lat1, lat2, long1, long2):\n",
    "    brng = Geodesic.WGS84.Inverse(lat1, long1, lat2, long2)[\"azi1\"]\n",
    "    if brng < 0:\n",
    "        brng = brng + 360\n",
    "    return brng\n",
    "\n",
    "\n",
    "# List to store bearings\n",
    "ids = []\n",
    "bearings = []\n",
    "\n",
    "# For all flights, determine the bearing between Zurich airport and the last\n",
    "# point of the flight and store it in the lists (ids and bearings)\n",
    "for flight in tqdm(t):\n",
    "    lat_ac_in = flight.data.iloc[0].latitude\n",
    "    lon_ac_in = flight.data.iloc[0].longitude\n",
    "    lat_ac_fin = flight.data.iloc[-1].latitude\n",
    "    lon_ac_fin = flight.data.iloc[-1].longitude\n",
    "    bearings.append(get_bearing(lat_ac_in, lat_ac_fin, lon_ac_in, lon_ac_fin))\n",
    "    ids.append(flight.flight_id)\n",
    "\n",
    "# Create a DataFrame with the flight ids and bearings\n",
    "data = {\"flight_id\": ids, \"bearing\": bearings}\n",
    "df_sid = pd.DataFrame(data)\n",
    "\n",
    "# Assign the SID based on the bearing\n",
    "df_sid[\"SID\"] = \"VEBIT\"\n",
    "df_sid.loc[df_sid[\"bearing\"] < 210, \"SID\"] = \"GERSA\"\n",
    "df_sid.loc[df_sid[\"bearing\"] < 140, \"SID\"] = \"DEGES\"\n",
    "df_sid.loc[df_sid[\"bearing\"] < 75, \"SID\"] = \"ZUE\"\n",
    "\n",
    "# Save dataframe as parquet file\n",
    "df_sid.to_parquet(\"/mnt/beegfs/store/krum/MT/inputs/df_sid.parquet\")"
   ]
  }
 ],
 "metadata": {
  "kernelspec": {
   "display_name": "Poetry via SLURM MIAR",
   "language": "python",
   "name": "jupyter-eg-kernel-slurm-py39-poetry-1ho6psb1p"
  },
  "language_info": {
   "codemirror_mode": {
    "name": "ipython",
    "version": 3
   },
   "file_extension": ".py",
   "mimetype": "text/x-python",
   "name": "python",
   "nbconvert_exporter": "python",
   "pygments_lexer": "ipython3",
   "version": "3.11.7"
  }
 },
 "nbformat": 4,
 "nbformat_minor": 2
}
