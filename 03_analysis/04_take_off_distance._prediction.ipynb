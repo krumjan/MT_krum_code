{
 "cells": [
  {
   "cell_type": "markdown",
   "metadata": {},
   "source": [
    "***\n",
    "### Import of required libraries\n",
    "***"
   ]
  },
  {
   "cell_type": "code",
   "execution_count": null,
   "metadata": {},
   "outputs": [],
   "source": [
    "import pickle\n",
    "\n",
    "import numpy as np\n",
    "import pandas as pd\n",
    "import matplotlib.pyplot as plt\n",
    "import tensorflow as tf\n",
    "from tensorflow.keras.models import load_model\n",
    "from geopy.distance import distance\n",
    "\n",
    "from traffic.core import Traffic\n",
    "from tqdm.auto import tqdm"
   ]
  },
  {
   "cell_type": "markdown",
   "metadata": {},
   "source": [
    "***\n",
    "### Import of data, model and scalers\n",
    "***"
   ]
  },
  {
   "cell_type": "markdown",
   "metadata": {},
   "source": [
    "##### Trajectory data"
   ]
  },
  {
   "cell_type": "code",
   "execution_count": null,
   "metadata": {},
   "outputs": [],
   "source": [
    "t = Traffic.from_file(\n",
    "    \"/mnt/beegfs/store/krum/MT/encoded_scaled_split/t_test.parquet\"\n",
    ")"
   ]
  },
  {
   "cell_type": "markdown",
   "metadata": {},
   "source": [
    "##### Model"
   ]
  },
  {
   "cell_type": "code",
   "execution_count": null,
   "metadata": {},
   "outputs": [],
   "source": [
    "def rmse_lat():\n",
    "    return None\n",
    "\n",
    "\n",
    "def rmse_lon():\n",
    "    return None\n",
    "\n",
    "\n",
    "def rmse_alt():\n",
    "    return None\n",
    "\n",
    "\n",
    "model = load_model(\n",
    "    f\"/home/krum/git/MT_krum_code/models/snowy-gorge-126.keras\",\n",
    "    custom_objects={\n",
    "        \"rmse_lat\": rmse_lat,\n",
    "        \"rmse_lon\": rmse_lon,\n",
    "        \"rmse_alt\": rmse_alt,\n",
    "        \"weighted_mse\": tf.keras.losses.MeanSquaredError(),\n",
    "    },\n",
    ")"
   ]
  },
  {
   "cell_type": "markdown",
   "metadata": {},
   "source": [
    "##### Scalers"
   ]
  },
  {
   "cell_type": "code",
   "execution_count": null,
   "metadata": {},
   "outputs": [],
   "source": [
    "# scaler_in\n",
    "with open(\n",
    "    \"/mnt/beegfs/store/krum/MT/encoded_scaled_split/scaler_in.pkl\",\n",
    "    \"rb\",\n",
    ") as file:\n",
    "    scaler_in = pickle.load(file)\n",
    "\n",
    "# scaler_out\n",
    "with open(\n",
    "    \"/mnt/beegfs/store/krum/MT/encoded_scaled_split/scaler_out.pkl\",\n",
    "    \"rb\",\n",
    ") as file:\n",
    "    scaler_out = pickle.load(file)"
   ]
  },
  {
   "cell_type": "markdown",
   "metadata": {},
   "source": [
    "***\n",
    "### First try (not working)\n",
    "***"
   ]
  },
  {
   "cell_type": "code",
   "execution_count": null,
   "metadata": {},
   "outputs": [],
   "source": [
    "def calculate_distance(row1, row2):\n",
    "    coords_1 = (row1[\"latitude\"], row1[\"longitude\"])\n",
    "    coords_2 = (row2[\"latitude\"], row2[\"longitude\"])\n",
    "    return distance(coords_1, coords_2).meters"
   ]
  },
  {
   "cell_type": "code",
   "execution_count": null,
   "metadata": {},
   "outputs": [],
   "source": [
    "actual_to_dist_m = []\n",
    "pred_to_dist_m = []\n",
    "\n",
    "for flight in tqdm(t):\n",
    "    # Actual take-off distance\n",
    "    flightdata = flight.cumulative_distance().data\n",
    "    flightdata[\"cumdist_m\"] = flightdata[\"cumdist\"] * 1852\n",
    "    runalt_m = ((flightdata[0:10].altitude) / 3.281).mean()\n",
    "    flightdata[\"agl_m\"] = (flightdata.altitude / 3.281) - runalt_m\n",
    "    flightdata[\"status\"] = np.where(flightdata[\"agl_m\"] <= 20, \"ground\", \"air\")\n",
    "    to_dist_m = round(\n",
    "        flightdata[flightdata[\"status\"] == \"ground\"][\"cumdist_m\"].iloc[-1]\n",
    "    )\n",
    "    actual_to_dist_m.append(to_dist_m)\n",
    "\n",
    "    # Predicted\n",
    "    f_in_var_unscaled = flight.data[\n",
    "        [\n",
    "            \"latitude\",\n",
    "            \"longitude\",\n",
    "            \"altitude\",\n",
    "        ]\n",
    "    ].iloc[0:10]\n",
    "\n",
    "    input_var = (\n",
    "        flight.data[\n",
    "            [\n",
    "                \"latitude_scaled\",\n",
    "                \"longitude_scaled\",\n",
    "                \"altitude_scaled\",\n",
    "                \"wind_x_2min_avg_scaled\",\n",
    "                \"wind_y_2min_avg_scaled\",\n",
    "                \"temperature_gnd_scaled\",\n",
    "                \"humidity_gnd_scaled\",\n",
    "                \"pressure_gnd_scaled\",\n",
    "            ]\n",
    "        ]\n",
    "        .iloc[0:10]\n",
    "        .to_numpy()\n",
    "        .reshape(1, 10, 8)\n",
    "    )\n",
    "\n",
    "    input_con = (\n",
    "        flight.data[\n",
    "            [\n",
    "                \"toff_weight_kg_scaled\",\n",
    "                \"typecode_A20N\",\n",
    "                \"typecode_A21N\",\n",
    "                \"typecode_A319\",\n",
    "                \"typecode_A320\",\n",
    "                \"typecode_A321\",\n",
    "                \"typecode_A333\",\n",
    "                \"typecode_A343\",\n",
    "                \"typecode_B77W\",\n",
    "                \"typecode_BCS1\",\n",
    "                \"typecode_BCS3\",\n",
    "                \"typecode_CRJ9\",\n",
    "                \"typecode_DH8D\",\n",
    "                \"typecode_E190\",\n",
    "                \"typecode_E195\",\n",
    "                \"typecode_E290\",\n",
    "                \"typecode_E295\",\n",
    "                \"typecode_F100\",\n",
    "                \"typecode_SB20\",\n",
    "                \"SID_DEGES\",\n",
    "                \"SID_GERSA\",\n",
    "                \"SID_VEBIT\",\n",
    "                \"SID_ZUE\",\n",
    "                \"hour_sin\",\n",
    "                \"hour_cos\",\n",
    "                \"weekday_sin\",\n",
    "                \"weekday_cos\",\n",
    "                \"month_sin\",\n",
    "                \"month_cos\",\n",
    "            ]\n",
    "        ]\n",
    "        .iloc[10]\n",
    "        .to_numpy()\n",
    "        .reshape(1, 1, 29)\n",
    "    )\n",
    "\n",
    "    output = model.predict((input_var, input_con), verbose=0)\n",
    "    output_unscaled = scaler_out.inverse_transform(\n",
    "        output.reshape(-1, 3)\n",
    "    ).reshape(37, 3)[1:, :]\n",
    "\n",
    "    df_in = f_in_var_unscaled\n",
    "    df_out = pd.DataFrame(\n",
    "        output_unscaled, columns=[\"latitude\", \"longitude\", \"altitude\"]\n",
    "    )\n",
    "    df = pd.concat([df_in, df_out]).reset_index(drop=True)\n",
    "    df[\"agl_m\"] = (df.altitude / 3.281) - runalt_m\n",
    "\n",
    "    # Calculate travelled distance and add to new column\n",
    "    dist_diff = df.apply(\n",
    "        lambda row: (\n",
    "            calculate_distance(df.loc[row.name - 1], row)\n",
    "            if row.name > 0\n",
    "            else 0\n",
    "        ),\n",
    "        axis=1,\n",
    "    )\n",
    "\n",
    "    df[\"cumdist\"] = dist_diff.cumsum()\n",
    "\n",
    "    to_dist_pred = round(df[df[\"agl_m\"] <= 20][\"cumdist\"].iloc[-1])\n",
    "    pred_to_dist_m.append(to_dist_pred)"
   ]
  },
  {
   "cell_type": "code",
   "execution_count": null,
   "metadata": {},
   "outputs": [],
   "source": [
    "# Convert lists to Pandas Series\n",
    "pred_to_dist_m_series = pd.Series(pred_to_dist_m, name=\"Predicted\")\n",
    "actual_to_dist_m_series = pd.Series(actual_to_dist_m, name=\"Actual\")\n",
    "\n",
    "# Calculate the error directly\n",
    "error_series = pred_to_dist_m_series - actual_to_dist_m_series"
   ]
  },
  {
   "cell_type": "code",
   "execution_count": null,
   "metadata": {},
   "outputs": [],
   "source": [
    "# Plot a boxplot of the error series\n",
    "plt.figure(figsize=(10, 6))\n",
    "plt.boxplot(\n",
    "    error_series,\n",
    "    vert=False,\n",
    "    patch_artist=True,\n",
    "    boxprops=dict(facecolor=\"lightblue\"),\n",
    "    showfliers=False,\n",
    ")\n",
    "plt.title(\"Take-off distance prediction error (Predicted - Actual)\")\n",
    "plt.xlabel(\"Error [m]\")\n",
    "\n",
    "# Display the plot\n",
    "plt.show()"
   ]
  },
  {
   "cell_type": "markdown",
   "metadata": {},
   "source": [
    "***\n",
    "### Visualisation\n",
    "***"
   ]
  },
  {
   "cell_type": "code",
   "execution_count": null,
   "metadata": {},
   "outputs": [],
   "source": [
    "plt.plot(df[\"cumdist\"][0:30], df[\"agl_m\"][0:30], label=\"Predicted\")\n",
    "plt.plot(\n",
    "    flightdata[\"cumdist\"][0:100] * 1852,\n",
    "    flightdata[\"agl_m\"][0:100],\n",
    "    label=\"Actual\",\n",
    ")"
   ]
  }
 ],
 "metadata": {
  "kernelspec": {
   "display_name": "Poetry via SLURM MIAR",
   "language": "python",
   "name": "jupyter-eg-kernel-slurm-py39-poetry-1ho6psb1p"
  },
  "language_info": {
   "codemirror_mode": {
    "name": "ipython",
    "version": 3
   },
   "file_extension": ".py",
   "mimetype": "text/x-python",
   "name": "python",
   "nbconvert_exporter": "python",
   "pygments_lexer": "ipython3",
   "version": "3.11.7"
  }
 },
 "nbformat": 4,
 "nbformat_minor": 2
}
