{
 "cells": [
  {
   "cell_type": "markdown",
   "metadata": {},
   "source": [
    "***\n",
    "### LDACS\n",
    "***"
   ]
  },
  {
   "cell_type": "markdown",
   "metadata": {},
   "source": [
    "#### Figure 3.1 Visualisation Samax"
   ]
  },
  {
   "cell_type": "code",
   "execution_count": null,
   "metadata": {},
   "outputs": [],
   "source": [
    "# Import of required libraries--------------------------------------------------\n",
    "from traffic.core import Traffic\n",
    "import plotly.graph_objects as go\n",
    "\n",
    "# Import of trajectory data-----------------------------------------------------\n",
    "t = Traffic.from_file(\n",
    "    \"/mnt/beegfs/store/MIAR/01_sources/SAMAX/02_runway_type/to_28.parquet\"\n",
    ")\n",
    "subset = t.sample(100)\n",
    "\n",
    "# Plot generation---------------------------------------------------------------\n",
    "fig = go.Figure()\n",
    "# Trajectories\n",
    "fig.add_trace(\n",
    "    go.Scattermapbox(\n",
    "        mode=\"markers\",\n",
    "        lat=subset.data.latitude,\n",
    "        lon=subset.data.longitude,\n",
    "        marker=dict(\n",
    "            color=\"blue\",\n",
    "            size=3,\n",
    "        ),\n",
    "        showlegend=False,\n",
    "    )\n",
    ")\n",
    "# Layout\n",
    "fig.update_layout(\n",
    "    width=1000,\n",
    "    height=800,\n",
    "    margin=dict(l=0, r=0, t=0, b=0),\n",
    "    mapbox=dict(\n",
    "        style=\"carto-positron\",\n",
    "        zoom=9,\n",
    "        center=dict(lat=47.5, lon=8.5),\n",
    "    ),\n",
    ")\n",
    "fig.show()"
   ]
  },
  {
   "cell_type": "markdown",
   "metadata": {},
   "source": [
    "#### Figure 3.2 A Cropping circle"
   ]
  },
  {
   "cell_type": "code",
   "execution_count": null,
   "metadata": {},
   "outputs": [],
   "source": [
    "# Import of required libraries--------------------------------------------------\n",
    "from traffic.core import Traffic\n",
    "from traffic.data import airports\n",
    "import numpy as np\n",
    "import plotly.graph_objects as go\n",
    "\n",
    "# Import of trajectory data-----------------------------------------------------\n",
    "t = Traffic.from_file(\n",
    "    \"/mnt/beegfs/store/MIAR/01_sources/SAMAX/02_runway_type/to_28.parquet\"\n",
    ")\n",
    "\n",
    "# Generation of a subset of 200 departures--------------------------------------\n",
    "subset_large = t.sample(2000)\n",
    "subset_large.data = subset_large.data.query(\"callsign.str.startswith('SWR')\")\n",
    "subset = subset_large.sample(200).resample(\"4s\").eval()\n",
    "\n",
    "\n",
    "# Remove part before the start of the take-off roll-----------------------------\n",
    "def after_to_roll(flight):\n",
    "    try:\n",
    "        t0 = flight.data.query(\n",
    "            \"8.56695<longitude<8.5695 and 47.45659<latitude<47.457\"\n",
    "        ).timestamp.min()\n",
    "        return flight.after(t0)\n",
    "    except:\n",
    "        return\n",
    "subset = subset.iterate_lazy().pipe(after_to_roll).eval(desc=\"processing\")\n",
    "\n",
    "\n",
    "# Removal of part outside a 30 nautical miles radius----------------------------\n",
    "subset_rad = (\n",
    "    subset.distance(airports[\"LSZH\"])\n",
    "    .query(\"distance < 30\")\n",
    "    .eval(max_workers=30, desc=\"Filtering\")\n",
    ")\n",
    "\n",
    "\n",
    "# Function required to draw a circle around a point-----------------------------\n",
    "def circle_coordinates(\n",
    "    lat: float, lon: float, radius_km: float, num_points: int = 360\n",
    "):\n",
    "    \"\"\"\n",
    "    Calculate the coordinates forming a circle of a given diameter around a\n",
    "    centre coordinate.\n",
    "\n",
    "    Parameters\n",
    "    ----------\n",
    "    lat : float\n",
    "        Latitude of the center point.\n",
    "    lon : float\n",
    "        Longitude of the center point.\n",
    "    radius_km : float\n",
    "        Radius of the circle in kilometers.\n",
    "    num_points : int, optional\n",
    "        Number of points to generate the circle, by default 360.\n",
    "    \"\"\"\n",
    "\n",
    "    lat_rad = np.radians(lat)\n",
    "    lon_rad = np.radians(lon)\n",
    "    R = 6371.0\n",
    "    angles = np.linspace(0, 2 * np.pi, num_points)\n",
    "    circle_lat = []\n",
    "    circle_lon = []\n",
    "\n",
    "    for angle in angles:\n",
    "        lat_point = np.arcsin(\n",
    "            np.sin(lat_rad) * np.cos(radius_km / R)\n",
    "            + np.cos(lat_rad) * np.sin(radius_km / R) * np.cos(angle)\n",
    "        )\n",
    "        lon_point = lon_rad + np.arctan2(\n",
    "            np.sin(angle) * np.sin(radius_km / R) * np.cos(lat_rad),\n",
    "            np.cos(radius_km / R) - np.sin(lat_rad) * np.sin(lat_point),\n",
    "        )\n",
    "        circle_lat.append(np.degrees(lat_point))\n",
    "        circle_lon.append(np.degrees(lon_point))\n",
    "\n",
    "    return circle_lat, circle_lon\n",
    "\n",
    "# Generate the coordinates representing the 30nm circle\n",
    "circle_lat, circle_lon = circle_coordinates(\n",
    "    airports[\"LSZH\"].latitude, airports[\"LSZH\"].longitude, 30 * 1.852, 360\n",
    ")\n",
    "\n",
    "# Plot generation---------------------------------------------------------------\n",
    "fig = go.Figure()\n",
    "\n",
    "# Trajectories full\n",
    "for flight in subset:\n",
    "    fig.add_trace(\n",
    "        go.Scattermapbox(\n",
    "            mode=\"lines\",\n",
    "            lat=flight.data.latitude,\n",
    "            lon=flight.data.longitude,\n",
    "            line=dict(\n",
    "                color=\"#d62728\",\n",
    "                width=1.5,\n",
    "            ),\n",
    "            showlegend=False,\n",
    "        )\n",
    "    )\n",
    "\n",
    "# Trajectories reduced\n",
    "for flight in subset_rad:\n",
    "    fig.add_trace(\n",
    "        go.Scattermapbox(\n",
    "            mode=\"lines\",\n",
    "            lat=flight.data.latitude,\n",
    "            lon=flight.data.longitude,\n",
    "            line=dict(\n",
    "                color=\"#2ca02c\",\n",
    "                width=1.5,\n",
    "            ),\n",
    "            showlegend=False,\n",
    "        )\n",
    "    )\n",
    "\n",
    "# Circle\n",
    "fig.add_trace(\n",
    "    go.Scattermapbox(\n",
    "        mode=\"lines\",\n",
    "        lat=circle_lat,\n",
    "        lon=circle_lon,\n",
    "        line=dict(color=\"black\"),\n",
    "        showlegend=False,\n",
    "    )\n",
    ")\n",
    "\n",
    "# Layout\n",
    "fig.update_layout(\n",
    "    width=1000,\n",
    "    height=800,\n",
    "    margin=dict(l=0, r=0, t=0, b=0),\n",
    "    mapbox=dict(\n",
    "        style=\"carto-positron\",\n",
    "        zoom=8.3,\n",
    "        center=dict(\n",
    "            lat=airports[\"LSZH\"].latitude, lon=airports[\"LSZH\"].longitude\n",
    "        ),\n",
    "    ),\n",
    ")\n",
    "\n",
    "fig.show()"
   ]
  },
  {
   "cell_type": "markdown",
   "metadata": {},
   "source": [
    "#### Figure 3.2 B Cropping runway threshold"
   ]
  },
  {
   "cell_type": "code",
   "execution_count": null,
   "metadata": {},
   "outputs": [],
   "source": [
    "# Import of required libraries--------------------------------------------------\n",
    "from traffic.core import Traffic\n",
    "import plotly.graph_objects as go\n",
    "\n",
    "# Import of trajectory data-----------------------------------------------------\n",
    "t = Traffic.from_file(\n",
    "    \"/mnt/beegfs/store/MIAR/01_sources/SAMAX/02_runway_type/to_28.parquet\"\n",
    ")\n",
    "\n",
    "# Generation of subsets containing the parts of trajectories\n",
    "# before and after take-off roll initiation\n",
    "def before_to_roll(flight):\n",
    "    try:\n",
    "        t0 = flight.data.query(\n",
    "            \"8.56695<longitude<8.5695 and 47.45659<latitude<47.457\"\n",
    "        ).timestamp.min()\n",
    "        return flight.before(t0)\n",
    "    except:\n",
    "        return\n",
    "\n",
    "def after_to_roll(flight):\n",
    "    try:\n",
    "        t0 = flight.data.query(\n",
    "            \"8.56695<longitude<8.5695 and 47.45659<latitude<47.457\"\n",
    "        ).timestamp.min()\n",
    "        return flight.after(t0)\n",
    "    except:\n",
    "        return\n",
    "\n",
    "t_keep = (\n",
    "    subset.iterate_lazy()\n",
    "    .pipe(after_to_roll)\n",
    "    .eval(desc=\"processing\", max_workers=10)\n",
    ")\n",
    "\n",
    "t_remove = (\n",
    "    subset.iterate_lazy()\n",
    "    .pipe(before_to_roll)\n",
    "    .eval(desc=\"processing\", max_workers=10)\n",
    ")\n",
    "\n",
    "# Plot generation---------------------------------------------------------------\n",
    "fig = go.Figure()\n",
    "\n",
    "# Trajectories after take-off roll initiation\n",
    "fig.add_trace(\n",
    "    go.Scattermapbox(\n",
    "        mode=\"markers\",\n",
    "        lat=t_keep.data.latitude,\n",
    "        lon=t_keep.data.longitude,\n",
    "        marker=dict(\n",
    "            color=\"#2ca02c\",\n",
    "            size=3,\n",
    "        ),\n",
    "        showlegend=False,\n",
    "    )\n",
    ")\n",
    "\n",
    "# Trajectories before take-off roll initiation\n",
    "fig.add_trace(\n",
    "    go.Scattermapbox(\n",
    "        mode=\"markers\",\n",
    "        lat=t_remove.data.latitude,\n",
    "        lon=t_remove.data.longitude,\n",
    "        marker=dict(\n",
    "            color=\"#d62728\",\n",
    "            size=3,\n",
    "        ),\n",
    "        showlegend=False,\n",
    "    )\n",
    ")\n",
    "\n",
    "# Bounding box\n",
    "fig.add_trace(\n",
    "    go.Scattermapbox(\n",
    "        mode=\"lines\",\n",
    "        lat=[47.45659, 47.457, 47.457, 47.45659, 47.45659],\n",
    "        lon=[8.56695, 8.56695, 8.56951, 8.56951, 8.56695],\n",
    "        line=dict(\n",
    "            color=\"black\",\n",
    "            width=3,\n",
    "        ),\n",
    "        showlegend=False,\n",
    "    )\n",
    ")\n",
    "\n",
    "# Layout\n",
    "fig.update_layout(\n",
    "    width=1000,\n",
    "    height=800,\n",
    "    margin=dict(l=0, r=0, t=0, b=0),\n",
    "    mapbox=dict(\n",
    "        style=\"carto-positron\",\n",
    "        zoom=9,\n",
    "        center=dict(lat=47.5, lon=8.5),\n",
    "    ),\n",
    ")\n",
    "\n",
    "fig.show()"
   ]
  },
  {
   "cell_type": "markdown",
   "metadata": {},
   "source": [
    "#### Table 3.1 Flights by airline"
   ]
  },
  {
   "cell_type": "code",
   "execution_count": null,
   "metadata": {},
   "outputs": [],
   "source": [
    "# Import of required libraries--------------------------------------------------\n",
    "import pandas as pd\n",
    "\n",
    "# Import of mass data-----------------------------------------------------------\n",
    "df = pd.read_parquet(\"/mnt/beegfs/store/krum/MT/inputs/df_mass.parquet\")\n",
    "\n",
    "# Print overview per airline----------------------------------------------------\n",
    "for icao in df[\"ICAO\"].unique():\n",
    "    print(f\"Airline: {icao}\")\n",
    "    df_temp = df.query(f\"ICAO == '{icao}'\")\n",
    "    print(f\"Number of flights: {len(df_temp)}\")\n",
    "    print(f\"Types: {sorted(df_temp.typecode.unique().tolist())} \\n\")\n",
    "print(f\"Total number of flights: {len(df)}\")"
   ]
  },
  {
   "cell_type": "markdown",
   "metadata": {},
   "source": [
    "#### Figure 3.3 Typecode distribution"
   ]
  },
  {
   "cell_type": "code",
   "execution_count": null,
   "metadata": {},
   "outputs": [],
   "source": [
    "# Import of required libraries--------------------------------------------------\n",
    "import pandas as pd\n",
    "import plotly.express as px\n",
    "\n",
    "# Import of data----------------------------------------------------------------\n",
    "df = pd.read_parquet(\"/mnt/beegfs/store/krum/MT/inputs/df_mass_plot.parquet\")\n",
    "\n",
    "# Generation of bar plot--------------------------------------------------------\n",
    "typecode_counts = df[\"typecode\"].value_counts()\n",
    "# barplot\n",
    "fig = px.bar(\n",
    "    typecode_counts,\n",
    "    x=typecode_counts.index,\n",
    "    y=typecode_counts.values,\n",
    "    orientation=\"v\",\n",
    "    text=typecode_counts.values,\n",
    ")\n",
    "\n",
    "# Adjust count labels\n",
    "fig.update_traces(\n",
    "    texttemplate=\"%{text}\", textposition=\"outside\", textfont=dict(size=16)\n",
    ")\n",
    "\n",
    "# Adjust overall layout\n",
    "fig.update_layout(\n",
    "    xaxis_title=\"<b>Aircraft Typecode</b>\",\n",
    "    yaxis_title=\"<b>Number of flights in dataset</b>\",\n",
    "    yaxis={\"categoryorder\": \"total ascending\", \"title_standoff\": 30},\n",
    "    xaxis={\"side\": \"bottom\", \"title_standoff\": 30},\n",
    "    width=1500,\n",
    "    height=600,\n",
    "    xaxis_title_font=dict(size=25),\n",
    "    yaxis_title_font=dict(size=25),\n",
    "    xaxis_tickfont=dict(size=20),\n",
    "    yaxis_tickfont=dict(size=20),\n",
    "    margin=dict(l=0, r=0, t=0, b=0),\n",
    ")\n",
    "\n",
    "# Show plot\n",
    "fig.show()"
   ]
  },
  {
   "cell_type": "markdown",
   "metadata": {},
   "source": [
    "***\n",
    "### Meteo\n",
    "***"
   ]
  },
  {
   "cell_type": "markdown",
   "metadata": {},
   "source": [
    "#### Figure 3.4 Airport layout"
   ]
  },
  {
   "cell_type": "code",
   "execution_count": 3,
   "metadata": {},
   "outputs": [
    {
     "data": {
      "application/vnd.plotly.v1+json": {
       "config": {
        "plotlyServerURL": "https://plot.ly"
       },
       "data": [
        {
         "lat": [],
         "line": {
          "width": 5
         },
         "lon": [],
         "mode": "lines",
         "name": "GERSA SID",
         "opacity": 0.7,
         "type": "scattermapbox"
        }
       ],
       "layout": {
        "height": 1400,
        "mapbox": {
         "center": {
          "lat": 47.45954,
          "lon": 8.55372
         },
         "style": "carto-positron",
         "zoom": 13
        },
        "margin": {
         "b": 0,
         "l": 0,
         "r": 0,
         "t": 0
        },
        "template": {
         "data": {
          "bar": [
           {
            "error_x": {
             "color": "#2a3f5f"
            },
            "error_y": {
             "color": "#2a3f5f"
            },
            "marker": {
             "line": {
              "color": "#E5ECF6",
              "width": 0.5
             },
             "pattern": {
              "fillmode": "overlay",
              "size": 10,
              "solidity": 0.2
             }
            },
            "type": "bar"
           }
          ],
          "barpolar": [
           {
            "marker": {
             "line": {
              "color": "#E5ECF6",
              "width": 0.5
             },
             "pattern": {
              "fillmode": "overlay",
              "size": 10,
              "solidity": 0.2
             }
            },
            "type": "barpolar"
           }
          ],
          "carpet": [
           {
            "aaxis": {
             "endlinecolor": "#2a3f5f",
             "gridcolor": "white",
             "linecolor": "white",
             "minorgridcolor": "white",
             "startlinecolor": "#2a3f5f"
            },
            "baxis": {
             "endlinecolor": "#2a3f5f",
             "gridcolor": "white",
             "linecolor": "white",
             "minorgridcolor": "white",
             "startlinecolor": "#2a3f5f"
            },
            "type": "carpet"
           }
          ],
          "choropleth": [
           {
            "colorbar": {
             "outlinewidth": 0,
             "ticks": ""
            },
            "type": "choropleth"
           }
          ],
          "contour": [
           {
            "colorbar": {
             "outlinewidth": 0,
             "ticks": ""
            },
            "colorscale": [
             [
              0,
              "#0d0887"
             ],
             [
              0.1111111111111111,
              "#46039f"
             ],
             [
              0.2222222222222222,
              "#7201a8"
             ],
             [
              0.3333333333333333,
              "#9c179e"
             ],
             [
              0.4444444444444444,
              "#bd3786"
             ],
             [
              0.5555555555555556,
              "#d8576b"
             ],
             [
              0.6666666666666666,
              "#ed7953"
             ],
             [
              0.7777777777777778,
              "#fb9f3a"
             ],
             [
              0.8888888888888888,
              "#fdca26"
             ],
             [
              1,
              "#f0f921"
             ]
            ],
            "type": "contour"
           }
          ],
          "contourcarpet": [
           {
            "colorbar": {
             "outlinewidth": 0,
             "ticks": ""
            },
            "type": "contourcarpet"
           }
          ],
          "heatmap": [
           {
            "colorbar": {
             "outlinewidth": 0,
             "ticks": ""
            },
            "colorscale": [
             [
              0,
              "#0d0887"
             ],
             [
              0.1111111111111111,
              "#46039f"
             ],
             [
              0.2222222222222222,
              "#7201a8"
             ],
             [
              0.3333333333333333,
              "#9c179e"
             ],
             [
              0.4444444444444444,
              "#bd3786"
             ],
             [
              0.5555555555555556,
              "#d8576b"
             ],
             [
              0.6666666666666666,
              "#ed7953"
             ],
             [
              0.7777777777777778,
              "#fb9f3a"
             ],
             [
              0.8888888888888888,
              "#fdca26"
             ],
             [
              1,
              "#f0f921"
             ]
            ],
            "type": "heatmap"
           }
          ],
          "heatmapgl": [
           {
            "colorbar": {
             "outlinewidth": 0,
             "ticks": ""
            },
            "colorscale": [
             [
              0,
              "#0d0887"
             ],
             [
              0.1111111111111111,
              "#46039f"
             ],
             [
              0.2222222222222222,
              "#7201a8"
             ],
             [
              0.3333333333333333,
              "#9c179e"
             ],
             [
              0.4444444444444444,
              "#bd3786"
             ],
             [
              0.5555555555555556,
              "#d8576b"
             ],
             [
              0.6666666666666666,
              "#ed7953"
             ],
             [
              0.7777777777777778,
              "#fb9f3a"
             ],
             [
              0.8888888888888888,
              "#fdca26"
             ],
             [
              1,
              "#f0f921"
             ]
            ],
            "type": "heatmapgl"
           }
          ],
          "histogram": [
           {
            "marker": {
             "pattern": {
              "fillmode": "overlay",
              "size": 10,
              "solidity": 0.2
             }
            },
            "type": "histogram"
           }
          ],
          "histogram2d": [
           {
            "colorbar": {
             "outlinewidth": 0,
             "ticks": ""
            },
            "colorscale": [
             [
              0,
              "#0d0887"
             ],
             [
              0.1111111111111111,
              "#46039f"
             ],
             [
              0.2222222222222222,
              "#7201a8"
             ],
             [
              0.3333333333333333,
              "#9c179e"
             ],
             [
              0.4444444444444444,
              "#bd3786"
             ],
             [
              0.5555555555555556,
              "#d8576b"
             ],
             [
              0.6666666666666666,
              "#ed7953"
             ],
             [
              0.7777777777777778,
              "#fb9f3a"
             ],
             [
              0.8888888888888888,
              "#fdca26"
             ],
             [
              1,
              "#f0f921"
             ]
            ],
            "type": "histogram2d"
           }
          ],
          "histogram2dcontour": [
           {
            "colorbar": {
             "outlinewidth": 0,
             "ticks": ""
            },
            "colorscale": [
             [
              0,
              "#0d0887"
             ],
             [
              0.1111111111111111,
              "#46039f"
             ],
             [
              0.2222222222222222,
              "#7201a8"
             ],
             [
              0.3333333333333333,
              "#9c179e"
             ],
             [
              0.4444444444444444,
              "#bd3786"
             ],
             [
              0.5555555555555556,
              "#d8576b"
             ],
             [
              0.6666666666666666,
              "#ed7953"
             ],
             [
              0.7777777777777778,
              "#fb9f3a"
             ],
             [
              0.8888888888888888,
              "#fdca26"
             ],
             [
              1,
              "#f0f921"
             ]
            ],
            "type": "histogram2dcontour"
           }
          ],
          "mesh3d": [
           {
            "colorbar": {
             "outlinewidth": 0,
             "ticks": ""
            },
            "type": "mesh3d"
           }
          ],
          "parcoords": [
           {
            "line": {
             "colorbar": {
              "outlinewidth": 0,
              "ticks": ""
             }
            },
            "type": "parcoords"
           }
          ],
          "pie": [
           {
            "automargin": true,
            "type": "pie"
           }
          ],
          "scatter": [
           {
            "fillpattern": {
             "fillmode": "overlay",
             "size": 10,
             "solidity": 0.2
            },
            "type": "scatter"
           }
          ],
          "scatter3d": [
           {
            "line": {
             "colorbar": {
              "outlinewidth": 0,
              "ticks": ""
             }
            },
            "marker": {
             "colorbar": {
              "outlinewidth": 0,
              "ticks": ""
             }
            },
            "type": "scatter3d"
           }
          ],
          "scattercarpet": [
           {
            "marker": {
             "colorbar": {
              "outlinewidth": 0,
              "ticks": ""
             }
            },
            "type": "scattercarpet"
           }
          ],
          "scattergeo": [
           {
            "marker": {
             "colorbar": {
              "outlinewidth": 0,
              "ticks": ""
             }
            },
            "type": "scattergeo"
           }
          ],
          "scattergl": [
           {
            "marker": {
             "colorbar": {
              "outlinewidth": 0,
              "ticks": ""
             }
            },
            "type": "scattergl"
           }
          ],
          "scattermapbox": [
           {
            "marker": {
             "colorbar": {
              "outlinewidth": 0,
              "ticks": ""
             }
            },
            "type": "scattermapbox"
           }
          ],
          "scatterpolar": [
           {
            "marker": {
             "colorbar": {
              "outlinewidth": 0,
              "ticks": ""
             }
            },
            "type": "scatterpolar"
           }
          ],
          "scatterpolargl": [
           {
            "marker": {
             "colorbar": {
              "outlinewidth": 0,
              "ticks": ""
             }
            },
            "type": "scatterpolargl"
           }
          ],
          "scatterternary": [
           {
            "marker": {
             "colorbar": {
              "outlinewidth": 0,
              "ticks": ""
             }
            },
            "type": "scatterternary"
           }
          ],
          "surface": [
           {
            "colorbar": {
             "outlinewidth": 0,
             "ticks": ""
            },
            "colorscale": [
             [
              0,
              "#0d0887"
             ],
             [
              0.1111111111111111,
              "#46039f"
             ],
             [
              0.2222222222222222,
              "#7201a8"
             ],
             [
              0.3333333333333333,
              "#9c179e"
             ],
             [
              0.4444444444444444,
              "#bd3786"
             ],
             [
              0.5555555555555556,
              "#d8576b"
             ],
             [
              0.6666666666666666,
              "#ed7953"
             ],
             [
              0.7777777777777778,
              "#fb9f3a"
             ],
             [
              0.8888888888888888,
              "#fdca26"
             ],
             [
              1,
              "#f0f921"
             ]
            ],
            "type": "surface"
           }
          ],
          "table": [
           {
            "cells": {
             "fill": {
              "color": "#EBF0F8"
             },
             "line": {
              "color": "white"
             }
            },
            "header": {
             "fill": {
              "color": "#C8D4E3"
             },
             "line": {
              "color": "white"
             }
            },
            "type": "table"
           }
          ]
         },
         "layout": {
          "annotationdefaults": {
           "arrowcolor": "#2a3f5f",
           "arrowhead": 0,
           "arrowwidth": 1
          },
          "autotypenumbers": "strict",
          "coloraxis": {
           "colorbar": {
            "outlinewidth": 0,
            "ticks": ""
           }
          },
          "colorscale": {
           "diverging": [
            [
             0,
             "#8e0152"
            ],
            [
             0.1,
             "#c51b7d"
            ],
            [
             0.2,
             "#de77ae"
            ],
            [
             0.3,
             "#f1b6da"
            ],
            [
             0.4,
             "#fde0ef"
            ],
            [
             0.5,
             "#f7f7f7"
            ],
            [
             0.6,
             "#e6f5d0"
            ],
            [
             0.7,
             "#b8e186"
            ],
            [
             0.8,
             "#7fbc41"
            ],
            [
             0.9,
             "#4d9221"
            ],
            [
             1,
             "#276419"
            ]
           ],
           "sequential": [
            [
             0,
             "#0d0887"
            ],
            [
             0.1111111111111111,
             "#46039f"
            ],
            [
             0.2222222222222222,
             "#7201a8"
            ],
            [
             0.3333333333333333,
             "#9c179e"
            ],
            [
             0.4444444444444444,
             "#bd3786"
            ],
            [
             0.5555555555555556,
             "#d8576b"
            ],
            [
             0.6666666666666666,
             "#ed7953"
            ],
            [
             0.7777777777777778,
             "#fb9f3a"
            ],
            [
             0.8888888888888888,
             "#fdca26"
            ],
            [
             1,
             "#f0f921"
            ]
           ],
           "sequentialminus": [
            [
             0,
             "#0d0887"
            ],
            [
             0.1111111111111111,
             "#46039f"
            ],
            [
             0.2222222222222222,
             "#7201a8"
            ],
            [
             0.3333333333333333,
             "#9c179e"
            ],
            [
             0.4444444444444444,
             "#bd3786"
            ],
            [
             0.5555555555555556,
             "#d8576b"
            ],
            [
             0.6666666666666666,
             "#ed7953"
            ],
            [
             0.7777777777777778,
             "#fb9f3a"
            ],
            [
             0.8888888888888888,
             "#fdca26"
            ],
            [
             1,
             "#f0f921"
            ]
           ]
          },
          "colorway": [
           "#636efa",
           "#EF553B",
           "#00cc96",
           "#ab63fa",
           "#FFA15A",
           "#19d3f3",
           "#FF6692",
           "#B6E880",
           "#FF97FF",
           "#FECB52"
          ],
          "font": {
           "color": "#2a3f5f"
          },
          "geo": {
           "bgcolor": "white",
           "lakecolor": "white",
           "landcolor": "#E5ECF6",
           "showlakes": true,
           "showland": true,
           "subunitcolor": "white"
          },
          "hoverlabel": {
           "align": "left"
          },
          "hovermode": "closest",
          "mapbox": {
           "style": "light"
          },
          "paper_bgcolor": "white",
          "plot_bgcolor": "#E5ECF6",
          "polar": {
           "angularaxis": {
            "gridcolor": "white",
            "linecolor": "white",
            "ticks": ""
           },
           "bgcolor": "#E5ECF6",
           "radialaxis": {
            "gridcolor": "white",
            "linecolor": "white",
            "ticks": ""
           }
          },
          "scene": {
           "xaxis": {
            "backgroundcolor": "#E5ECF6",
            "gridcolor": "white",
            "gridwidth": 2,
            "linecolor": "white",
            "showbackground": true,
            "ticks": "",
            "zerolinecolor": "white"
           },
           "yaxis": {
            "backgroundcolor": "#E5ECF6",
            "gridcolor": "white",
            "gridwidth": 2,
            "linecolor": "white",
            "showbackground": true,
            "ticks": "",
            "zerolinecolor": "white"
           },
           "zaxis": {
            "backgroundcolor": "#E5ECF6",
            "gridcolor": "white",
            "gridwidth": 2,
            "linecolor": "white",
            "showbackground": true,
            "ticks": "",
            "zerolinecolor": "white"
           }
          },
          "shapedefaults": {
           "line": {
            "color": "#2a3f5f"
           }
          },
          "ternary": {
           "aaxis": {
            "gridcolor": "white",
            "linecolor": "white",
            "ticks": ""
           },
           "baxis": {
            "gridcolor": "white",
            "linecolor": "white",
            "ticks": ""
           },
           "bgcolor": "#E5ECF6",
           "caxis": {
            "gridcolor": "white",
            "linecolor": "white",
            "ticks": ""
           }
          },
          "title": {
           "x": 0.05
          },
          "xaxis": {
           "automargin": true,
           "gridcolor": "white",
           "linecolor": "white",
           "ticks": "",
           "title": {
            "standoff": 15
           },
           "zerolinecolor": "white",
           "zerolinewidth": 2
          },
          "yaxis": {
           "automargin": true,
           "gridcolor": "white",
           "linecolor": "white",
           "ticks": "",
           "title": {
            "standoff": 15
           },
           "zerolinecolor": "white",
           "zerolinewidth": 2
          }
         }
        },
        "width": 2000
       }
      },
      "text/html": [
       "<div>                            <div id=\"0613544f-1096-4af9-971b-774fcc3afc4e\" class=\"plotly-graph-div\" style=\"height:1400px; width:2000px;\"></div>            <script type=\"text/javascript\">                require([\"plotly\"], function(Plotly) {                    window.PLOTLYENV=window.PLOTLYENV || {};                                    if (document.getElementById(\"0613544f-1096-4af9-971b-774fcc3afc4e\")) {                    Plotly.newPlot(                        \"0613544f-1096-4af9-971b-774fcc3afc4e\",                        [{\"lat\":[],\"line\":{\"width\":5},\"lon\":[],\"mode\":\"lines\",\"name\":\"GERSA SID\",\"opacity\":0.7,\"type\":\"scattermapbox\"}],                        {\"template\":{\"data\":{\"histogram2dcontour\":[{\"type\":\"histogram2dcontour\",\"colorbar\":{\"outlinewidth\":0,\"ticks\":\"\"},\"colorscale\":[[0.0,\"#0d0887\"],[0.1111111111111111,\"#46039f\"],[0.2222222222222222,\"#7201a8\"],[0.3333333333333333,\"#9c179e\"],[0.4444444444444444,\"#bd3786\"],[0.5555555555555556,\"#d8576b\"],[0.6666666666666666,\"#ed7953\"],[0.7777777777777778,\"#fb9f3a\"],[0.8888888888888888,\"#fdca26\"],[1.0,\"#f0f921\"]]}],\"choropleth\":[{\"type\":\"choropleth\",\"colorbar\":{\"outlinewidth\":0,\"ticks\":\"\"}}],\"histogram2d\":[{\"type\":\"histogram2d\",\"colorbar\":{\"outlinewidth\":0,\"ticks\":\"\"},\"colorscale\":[[0.0,\"#0d0887\"],[0.1111111111111111,\"#46039f\"],[0.2222222222222222,\"#7201a8\"],[0.3333333333333333,\"#9c179e\"],[0.4444444444444444,\"#bd3786\"],[0.5555555555555556,\"#d8576b\"],[0.6666666666666666,\"#ed7953\"],[0.7777777777777778,\"#fb9f3a\"],[0.8888888888888888,\"#fdca26\"],[1.0,\"#f0f921\"]]}],\"heatmap\":[{\"type\":\"heatmap\",\"colorbar\":{\"outlinewidth\":0,\"ticks\":\"\"},\"colorscale\":[[0.0,\"#0d0887\"],[0.1111111111111111,\"#46039f\"],[0.2222222222222222,\"#7201a8\"],[0.3333333333333333,\"#9c179e\"],[0.4444444444444444,\"#bd3786\"],[0.5555555555555556,\"#d8576b\"],[0.6666666666666666,\"#ed7953\"],[0.7777777777777778,\"#fb9f3a\"],[0.8888888888888888,\"#fdca26\"],[1.0,\"#f0f921\"]]}],\"heatmapgl\":[{\"type\":\"heatmapgl\",\"colorbar\":{\"outlinewidth\":0,\"ticks\":\"\"},\"colorscale\":[[0.0,\"#0d0887\"],[0.1111111111111111,\"#46039f\"],[0.2222222222222222,\"#7201a8\"],[0.3333333333333333,\"#9c179e\"],[0.4444444444444444,\"#bd3786\"],[0.5555555555555556,\"#d8576b\"],[0.6666666666666666,\"#ed7953\"],[0.7777777777777778,\"#fb9f3a\"],[0.8888888888888888,\"#fdca26\"],[1.0,\"#f0f921\"]]}],\"contourcarpet\":[{\"type\":\"contourcarpet\",\"colorbar\":{\"outlinewidth\":0,\"ticks\":\"\"}}],\"contour\":[{\"type\":\"contour\",\"colorbar\":{\"outlinewidth\":0,\"ticks\":\"\"},\"colorscale\":[[0.0,\"#0d0887\"],[0.1111111111111111,\"#46039f\"],[0.2222222222222222,\"#7201a8\"],[0.3333333333333333,\"#9c179e\"],[0.4444444444444444,\"#bd3786\"],[0.5555555555555556,\"#d8576b\"],[0.6666666666666666,\"#ed7953\"],[0.7777777777777778,\"#fb9f3a\"],[0.8888888888888888,\"#fdca26\"],[1.0,\"#f0f921\"]]}],\"surface\":[{\"type\":\"surface\",\"colorbar\":{\"outlinewidth\":0,\"ticks\":\"\"},\"colorscale\":[[0.0,\"#0d0887\"],[0.1111111111111111,\"#46039f\"],[0.2222222222222222,\"#7201a8\"],[0.3333333333333333,\"#9c179e\"],[0.4444444444444444,\"#bd3786\"],[0.5555555555555556,\"#d8576b\"],[0.6666666666666666,\"#ed7953\"],[0.7777777777777778,\"#fb9f3a\"],[0.8888888888888888,\"#fdca26\"],[1.0,\"#f0f921\"]]}],\"mesh3d\":[{\"type\":\"mesh3d\",\"colorbar\":{\"outlinewidth\":0,\"ticks\":\"\"}}],\"scatter\":[{\"fillpattern\":{\"fillmode\":\"overlay\",\"size\":10,\"solidity\":0.2},\"type\":\"scatter\"}],\"parcoords\":[{\"type\":\"parcoords\",\"line\":{\"colorbar\":{\"outlinewidth\":0,\"ticks\":\"\"}}}],\"scatterpolargl\":[{\"type\":\"scatterpolargl\",\"marker\":{\"colorbar\":{\"outlinewidth\":0,\"ticks\":\"\"}}}],\"bar\":[{\"error_x\":{\"color\":\"#2a3f5f\"},\"error_y\":{\"color\":\"#2a3f5f\"},\"marker\":{\"line\":{\"color\":\"#E5ECF6\",\"width\":0.5},\"pattern\":{\"fillmode\":\"overlay\",\"size\":10,\"solidity\":0.2}},\"type\":\"bar\"}],\"scattergeo\":[{\"type\":\"scattergeo\",\"marker\":{\"colorbar\":{\"outlinewidth\":0,\"ticks\":\"\"}}}],\"scatterpolar\":[{\"type\":\"scatterpolar\",\"marker\":{\"colorbar\":{\"outlinewidth\":0,\"ticks\":\"\"}}}],\"histogram\":[{\"marker\":{\"pattern\":{\"fillmode\":\"overlay\",\"size\":10,\"solidity\":0.2}},\"type\":\"histogram\"}],\"scattergl\":[{\"type\":\"scattergl\",\"marker\":{\"colorbar\":{\"outlinewidth\":0,\"ticks\":\"\"}}}],\"scatter3d\":[{\"type\":\"scatter3d\",\"line\":{\"colorbar\":{\"outlinewidth\":0,\"ticks\":\"\"}},\"marker\":{\"colorbar\":{\"outlinewidth\":0,\"ticks\":\"\"}}}],\"scattermapbox\":[{\"type\":\"scattermapbox\",\"marker\":{\"colorbar\":{\"outlinewidth\":0,\"ticks\":\"\"}}}],\"scatterternary\":[{\"type\":\"scatterternary\",\"marker\":{\"colorbar\":{\"outlinewidth\":0,\"ticks\":\"\"}}}],\"scattercarpet\":[{\"type\":\"scattercarpet\",\"marker\":{\"colorbar\":{\"outlinewidth\":0,\"ticks\":\"\"}}}],\"carpet\":[{\"aaxis\":{\"endlinecolor\":\"#2a3f5f\",\"gridcolor\":\"white\",\"linecolor\":\"white\",\"minorgridcolor\":\"white\",\"startlinecolor\":\"#2a3f5f\"},\"baxis\":{\"endlinecolor\":\"#2a3f5f\",\"gridcolor\":\"white\",\"linecolor\":\"white\",\"minorgridcolor\":\"white\",\"startlinecolor\":\"#2a3f5f\"},\"type\":\"carpet\"}],\"table\":[{\"cells\":{\"fill\":{\"color\":\"#EBF0F8\"},\"line\":{\"color\":\"white\"}},\"header\":{\"fill\":{\"color\":\"#C8D4E3\"},\"line\":{\"color\":\"white\"}},\"type\":\"table\"}],\"barpolar\":[{\"marker\":{\"line\":{\"color\":\"#E5ECF6\",\"width\":0.5},\"pattern\":{\"fillmode\":\"overlay\",\"size\":10,\"solidity\":0.2}},\"type\":\"barpolar\"}],\"pie\":[{\"automargin\":true,\"type\":\"pie\"}]},\"layout\":{\"autotypenumbers\":\"strict\",\"colorway\":[\"#636efa\",\"#EF553B\",\"#00cc96\",\"#ab63fa\",\"#FFA15A\",\"#19d3f3\",\"#FF6692\",\"#B6E880\",\"#FF97FF\",\"#FECB52\"],\"font\":{\"color\":\"#2a3f5f\"},\"hovermode\":\"closest\",\"hoverlabel\":{\"align\":\"left\"},\"paper_bgcolor\":\"white\",\"plot_bgcolor\":\"#E5ECF6\",\"polar\":{\"bgcolor\":\"#E5ECF6\",\"angularaxis\":{\"gridcolor\":\"white\",\"linecolor\":\"white\",\"ticks\":\"\"},\"radialaxis\":{\"gridcolor\":\"white\",\"linecolor\":\"white\",\"ticks\":\"\"}},\"ternary\":{\"bgcolor\":\"#E5ECF6\",\"aaxis\":{\"gridcolor\":\"white\",\"linecolor\":\"white\",\"ticks\":\"\"},\"baxis\":{\"gridcolor\":\"white\",\"linecolor\":\"white\",\"ticks\":\"\"},\"caxis\":{\"gridcolor\":\"white\",\"linecolor\":\"white\",\"ticks\":\"\"}},\"coloraxis\":{\"colorbar\":{\"outlinewidth\":0,\"ticks\":\"\"}},\"colorscale\":{\"sequential\":[[0.0,\"#0d0887\"],[0.1111111111111111,\"#46039f\"],[0.2222222222222222,\"#7201a8\"],[0.3333333333333333,\"#9c179e\"],[0.4444444444444444,\"#bd3786\"],[0.5555555555555556,\"#d8576b\"],[0.6666666666666666,\"#ed7953\"],[0.7777777777777778,\"#fb9f3a\"],[0.8888888888888888,\"#fdca26\"],[1.0,\"#f0f921\"]],\"sequentialminus\":[[0.0,\"#0d0887\"],[0.1111111111111111,\"#46039f\"],[0.2222222222222222,\"#7201a8\"],[0.3333333333333333,\"#9c179e\"],[0.4444444444444444,\"#bd3786\"],[0.5555555555555556,\"#d8576b\"],[0.6666666666666666,\"#ed7953\"],[0.7777777777777778,\"#fb9f3a\"],[0.8888888888888888,\"#fdca26\"],[1.0,\"#f0f921\"]],\"diverging\":[[0,\"#8e0152\"],[0.1,\"#c51b7d\"],[0.2,\"#de77ae\"],[0.3,\"#f1b6da\"],[0.4,\"#fde0ef\"],[0.5,\"#f7f7f7\"],[0.6,\"#e6f5d0\"],[0.7,\"#b8e186\"],[0.8,\"#7fbc41\"],[0.9,\"#4d9221\"],[1,\"#276419\"]]},\"xaxis\":{\"gridcolor\":\"white\",\"linecolor\":\"white\",\"ticks\":\"\",\"title\":{\"standoff\":15},\"zerolinecolor\":\"white\",\"automargin\":true,\"zerolinewidth\":2},\"yaxis\":{\"gridcolor\":\"white\",\"linecolor\":\"white\",\"ticks\":\"\",\"title\":{\"standoff\":15},\"zerolinecolor\":\"white\",\"automargin\":true,\"zerolinewidth\":2},\"scene\":{\"xaxis\":{\"backgroundcolor\":\"#E5ECF6\",\"gridcolor\":\"white\",\"linecolor\":\"white\",\"showbackground\":true,\"ticks\":\"\",\"zerolinecolor\":\"white\",\"gridwidth\":2},\"yaxis\":{\"backgroundcolor\":\"#E5ECF6\",\"gridcolor\":\"white\",\"linecolor\":\"white\",\"showbackground\":true,\"ticks\":\"\",\"zerolinecolor\":\"white\",\"gridwidth\":2},\"zaxis\":{\"backgroundcolor\":\"#E5ECF6\",\"gridcolor\":\"white\",\"linecolor\":\"white\",\"showbackground\":true,\"ticks\":\"\",\"zerolinecolor\":\"white\",\"gridwidth\":2}},\"shapedefaults\":{\"line\":{\"color\":\"#2a3f5f\"}},\"annotationdefaults\":{\"arrowcolor\":\"#2a3f5f\",\"arrowhead\":0,\"arrowwidth\":1},\"geo\":{\"bgcolor\":\"white\",\"landcolor\":\"#E5ECF6\",\"subunitcolor\":\"white\",\"showland\":true,\"showlakes\":true,\"lakecolor\":\"white\"},\"title\":{\"x\":0.05},\"mapbox\":{\"style\":\"light\"}}},\"margin\":{\"l\":0,\"r\":0,\"t\":0,\"b\":0},\"mapbox\":{\"center\":{\"lat\":47.45954,\"lon\":8.55372},\"style\":\"carto-positron\",\"zoom\":13},\"width\":2000,\"height\":1400},                        {\"responsive\": true}                    ).then(function(){\n",
       "                            \n",
       "var gd = document.getElementById('0613544f-1096-4af9-971b-774fcc3afc4e');\n",
       "var x = new MutationObserver(function (mutations, observer) {{\n",
       "        var display = window.getComputedStyle(gd).display;\n",
       "        if (!display || display === 'none') {{\n",
       "            console.log([gd, 'removed!']);\n",
       "            Plotly.purge(gd);\n",
       "            observer.disconnect();\n",
       "        }}\n",
       "}});\n",
       "\n",
       "// Listen for the removal of the full notebook cells\n",
       "var notebookContainer = gd.closest('#notebook-container');\n",
       "if (notebookContainer) {{\n",
       "    x.observe(notebookContainer, {childList: true});\n",
       "}}\n",
       "\n",
       "// Listen for the clearing of the current output cell\n",
       "var outputEl = gd.closest('.output');\n",
       "if (outputEl) {{\n",
       "    x.observe(outputEl, {childList: true});\n",
       "}}\n",
       "\n",
       "                        })                };                });            </script>        </div>"
      ]
     },
     "metadata": {},
     "output_type": "display_data"
    }
   ],
   "source": [
    "# Import of required libraries--------------------------------------------------\n",
    "import plotly.graph_objects as go\n",
    "\n",
    "# Generation of mapplot---------------------------------------------------------\n",
    "fig = go.Figure()\n",
    "# Empty trace\n",
    "fig.add_trace(\n",
    "    go.Scattermapbox(\n",
    "        mode=\"lines\",\n",
    "        lat=[],\n",
    "        lon=[],\n",
    "        name=\"GERSA SID\",\n",
    "        line=dict(width=5),\n",
    "        opacity=0.7,\n",
    "    )\n",
    ")\n",
    "\n",
    "# Layout\n",
    "fig.update_layout(\n",
    "    width=2000,\n",
    "    height=1400,\n",
    "    margin=dict(l=0, r=0, t=0, b=0),\n",
    "    mapbox=dict(\n",
    "        style=\"carto-positron\",\n",
    "        zoom=13,\n",
    "        center=dict(lat=47.45954, lon=8.55372),\n",
    "    ),\n",
    ")\n",
    "\n",
    "fig.show()"
   ]
  },
  {
   "cell_type": "markdown",
   "metadata": {},
   "source": [
    "#### Figure 3.5 Wind lineplot"
   ]
  },
  {
   "cell_type": "code",
   "execution_count": null,
   "metadata": {},
   "outputs": [],
   "source": [
    "# Import of required libraries--------------------------------------------------\n",
    "import pandas as pd\n",
    "import plotly.subplots as sp\n",
    "import plotly.graph_objs as go\n",
    "\n",
    "# Import data and generatation of subset----------------------------------------\n",
    "df_wind = pd.read_parquet(\"/mnt/beegfs/store/krum/MT/inputs/df_wind.parquet\")\n",
    "df_sub = df_wind.iloc[134800:136000]\n",
    "\n",
    "# Generate plot-----------------------------------------------------------------\n",
    "# Create figure with subplots\n",
    "fig = sp.make_subplots(\n",
    "    rows=5,\n",
    "    cols=1,\n",
    "    subplot_titles=(\n",
    "        \"<b>Polar representation</b>\",\n",
    "        \"\",\n",
    "        \"\",\n",
    "        \"<b>Cartesian representation</b>\",\n",
    "    ),\n",
    "    vertical_spacing=0.09,\n",
    "    row_heights=[1, 1, 0, 1, 1],\n",
    ")\n",
    "\n",
    "# Add wind speed trace (raw and 2min average)\n",
    "fig.add_trace(\n",
    "    go.Scatter(\n",
    "        x=df_sub[\"timestamp\"],\n",
    "        y=df_sub[\"wind_speed_gnd\"],\n",
    "        mode=\"lines\",\n",
    "        line=dict(color=\"#636efa\"),\n",
    "        name=\"raw measurements\",\n",
    "        showlegend=True,\n",
    "    ),\n",
    "    row=1,\n",
    "    col=1,\n",
    ")\n",
    "fig.add_trace(\n",
    "    go.Scatter(\n",
    "        x=df_sub[\"timestamp\"],\n",
    "        y=df_sub[\"wind_speed_gnd_2min_avg\"],\n",
    "        mode=\"lines\",\n",
    "        line=dict(color=\"#ef553b\"),\n",
    "        name=\"2min average\",\n",
    "        showlegend=True,\n",
    "    ),\n",
    "    row=1,\n",
    "    col=1,\n",
    ")\n",
    "fig.update_yaxes(title_text=\"wind<br>speed<br>[kts]\", row=1, col=1)\n",
    "\n",
    "# Add wind direction trace (raw and 2min average)\n",
    "fig.add_trace(\n",
    "    go.Scatter(\n",
    "        x=df_sub[\"timestamp\"],\n",
    "        y=df_sub[\"wind_direction_gnd\"],\n",
    "        mode=\"lines\",\n",
    "        line=dict(color=\"#636efa\"),\n",
    "        showlegend=False,\n",
    "    ),\n",
    "    row=2,\n",
    "    col=1,\n",
    ")\n",
    "fig.add_trace(\n",
    "    go.Scatter(\n",
    "        x=df_sub[\"timestamp\"],\n",
    "        y=df_sub[\"wind_direction_gnd_2min_avg\"],\n",
    "        mode=\"lines\",\n",
    "        line=dict(color=\"#ef553b\"),\n",
    "        showlegend=False,\n",
    "    ),\n",
    "    row=2,\n",
    "    col=1,\n",
    ")\n",
    "fig.update_yaxes(title_text=\"wind<br>direction<br>[°]\", row=2, col=1)\n",
    "\n",
    "# Add X component of the wind\n",
    "fig.add_trace(\n",
    "    go.Scatter(\n",
    "        x=df_sub[\"timestamp\"],\n",
    "        y=df_sub[\"wind_x_2min_avg\"],\n",
    "        mode=\"lines\",\n",
    "        line=dict(color=\"#00cc96\"),\n",
    "        name=\"computed x component\",\n",
    "        showlegend=True,\n",
    "    ),\n",
    "    row=4,\n",
    "    col=1,\n",
    ")\n",
    "fig.update_yaxes(title_text=\"wind<br>speed<br>[kts]\", row=4, col=1)\n",
    "\n",
    "# Add Y component of the wind\n",
    "fig.add_trace(\n",
    "    go.Scatter(\n",
    "        x=df_sub[\"timestamp\"],\n",
    "        y=df_sub[\"wind_y_2min_avg\"],\n",
    "        mode=\"lines\",\n",
    "        name=\"computed y component\",\n",
    "        line=dict(color=\"#bd8df9\"),\n",
    "        showlegend=True,\n",
    "    ),\n",
    "    row=5,\n",
    "    col=1,\n",
    ")\n",
    "fig.update_yaxes(title_text=\"wind<br>speed<br>[kts]\", row=5, col=1)\n",
    "\n",
    "# Adjust layout for readability-------------------------------------------------\n",
    "fig.update_xaxes(title_text=\"timestamp\", row=5, col=1)\n",
    "\n",
    "fig.update_xaxes(\n",
    "    title_font=dict(size=20),\n",
    "    tickfont=dict(size=16),\n",
    ")\n",
    "fig.update_yaxes(\n",
    "    title_font=dict(size=20),\n",
    "    tickfont=dict(size=16),\n",
    ")\n",
    "fig.update_layout(\n",
    "    width=1500,\n",
    "    height=800,\n",
    "    margin=dict(l=20, r=20, t=70, b=10),\n",
    "    legend=dict(\n",
    "        orientation=\"h\",\n",
    "        yanchor=\"top\",\n",
    "        y=-0.15,\n",
    "        xanchor=\"center\",\n",
    "        x=0.5,\n",
    "        font=dict(size=20),\n",
    "    ),\n",
    ")\n",
    "for annotation in fig[\"layout\"][\"annotations\"]:\n",
    "    annotation[\"font\"] = dict(size=22)\n",
    "\n",
    "fig.show()"
   ]
  },
  {
   "cell_type": "markdown",
   "metadata": {},
   "source": [
    "***\n",
    "### Flightplan\n",
    "***"
   ]
  },
  {
   "cell_type": "markdown",
   "metadata": {},
   "source": [
    "#### Figure 3.6 SID overview"
   ]
  },
  {
   "cell_type": "code",
   "execution_count": null,
   "metadata": {
    "metadata": {}
   },
   "outputs": [],
   "source": [
    "# Import of required libraries--------------------------------------------------\n",
    "import plotly.graph_objs as go\n",
    "from traffic.data import navaids\n",
    "\n",
    "\n",
    "# Function to generate latitude and longitude lists-----------------------------\n",
    "def generate_latlon_list(navaid_list):\n",
    "    lat = []\n",
    "    lon = []\n",
    "    for navaid in navaid_list:\n",
    "        if type(navaid) == tuple:\n",
    "            lat.append(navaid[0])\n",
    "            lon.append(navaid[1])\n",
    "        else:\n",
    "            dat = navaids.extent(\"Switzerland\").get(navaid)\n",
    "            lat.append(dat.latitude)\n",
    "            lon.append(dat.longitude)\n",
    "    return lat, lon\n",
    "\n",
    "\n",
    "# Generation of latitude and longitude lists for the different SIDs-------------\n",
    "# GERSA SID\n",
    "gersa_lat, gersa_lon = generate_latlon_list(\n",
    "    [(47.45892, 8.53771), (47.46233, 8.48958), \"BREGO\", \"ARTAG\", \"GERSA\"]\n",
    ")\n",
    "# DEGES SID\n",
    "deges_lat, deges_lon = generate_latlon_list(\n",
    "    [\n",
    "        (47.45892, 8.53771),\n",
    "        (47.46233, 8.48958),\n",
    "        \"ZH552\",\n",
    "        (47.40351, 8.39876),\n",
    "        (47.4128, 8.4559),\n",
    "        \"KLO\",\n",
    "        \"KOLUL\",\n",
    "        \"DEGES\",\n",
    "    ]\n",
    ")\n",
    "# VEBIT SID\n",
    "vebit_lat, vebit_lon = generate_latlon_list(\n",
    "    [(47.45892, 8.53771), (47.46233, 8.48958), \"BREGO\", \"VEBIT\"]\n",
    ")\n",
    "# ZUE SID\n",
    "zue_lat, zue_lon = generate_latlon_list(\n",
    "    [\n",
    "        (47.45892, 8.53771),\n",
    "        (47.46233, 8.48958),\n",
    "        \"ZH552\",\n",
    "        (47.40351, 8.39876),\n",
    "        (47.4128, 8.4559),\n",
    "        \"KLO\",\n",
    "        \"ZUE\",\n",
    "    ]\n",
    ")\n",
    "\n",
    "# Generate plot-----------------------------------------------------------------\n",
    "fig = go.Figure()\n",
    "\n",
    "# Add GERSA SID\n",
    "fig.add_trace(\n",
    "    go.Scattermapbox(\n",
    "        mode=\"lines\",\n",
    "        lat=gersa_lat,\n",
    "        lon=gersa_lon,\n",
    "        name=\"GERSA SID\",\n",
    "        line=dict(width=10),\n",
    "        opacity=0.7,\n",
    "    )\n",
    ")\n",
    "\n",
    "# Add DEGES SID\n",
    "fig.add_trace(\n",
    "    go.Scattermapbox(\n",
    "        mode=\"lines\",\n",
    "        lat=deges_lat,\n",
    "        lon=deges_lon,\n",
    "        name=\"DEGES SID\",\n",
    "        line=dict(width=10),\n",
    "        opacity=0.7,\n",
    "    )\n",
    ")\n",
    "\n",
    "# Add VEBIT SID\n",
    "fig.add_trace(\n",
    "    go.Scattermapbox(\n",
    "        mode=\"lines\",\n",
    "        lat=vebit_lat,\n",
    "        lon=vebit_lon,\n",
    "        name=\"VEBIT SID\",\n",
    "        line=dict(width=10),\n",
    "        opacity=0.7,\n",
    "    )\n",
    ")\n",
    "\n",
    "# Add ZUE SID\n",
    "fig.add_trace(\n",
    "    go.Scattermapbox(\n",
    "        mode=\"lines\",\n",
    "        lat=zue_lat,\n",
    "        lon=zue_lon,\n",
    "        name=\"ZUE SID\",\n",
    "        line=dict(width=10),\n",
    "        opacity=0.7,\n",
    "    )\n",
    ")\n",
    "\n",
    "# Layout of plot\n",
    "fig.update_layout(\n",
    "    width=2000,\n",
    "    height=1000,\n",
    "    margin=dict(l=0, r=0, t=0, b=0),\n",
    "    legend=dict(font=dict(size=20)),\n",
    "    mapbox=dict(\n",
    "        style=\"carto-positron\",\n",
    "        zoom=9,\n",
    "        center=dict(lat=47.5, lon=8.5),\n",
    "    ),\n",
    ")\n",
    "\n",
    "fig.show()"
   ]
  },
  {
   "cell_type": "markdown",
   "metadata": {},
   "source": [
    "#### Figure 3.7 Departure bearing"
   ]
  },
  {
   "cell_type": "code",
   "execution_count": null,
   "metadata": {
    "metadata": {}
   },
   "outputs": [],
   "source": [
    "# Import of required libraries--------------------------------------------------\n",
    "import pandas as pd\n",
    "import plotly.graph_objects as go\n",
    "from geographiclib.geodesic import Geodesic\n",
    "from traffic.core import Traffic\n",
    "\n",
    "# Import of trajectories--------------------------------------------------------\n",
    "t = Traffic.from_file(\"/mnt/beegfs/store/krum/MT/inputs/samax_trajs.parquet\")\n",
    "\n",
    "# Selection of one trajectory---------------------------------------------------\n",
    "flight = t[\"SWR45LP_353918\"]\n",
    "\n",
    "\n",
    "# Determine bearing from first to last point of the trajectory------------------\n",
    "def get_bearing(lat1, lat2, long1, long2):\n",
    "    brng = Geodesic.WGS84.Inverse(lat1, long1, lat2, long2)[\"azi1\"]\n",
    "    if brng < 0:\n",
    "        brng = brng + 360\n",
    "    return brng\n",
    "\n",
    "bearing = get_bearing(\n",
    "    flight.data.latitude.iloc[0],\n",
    "    flight.data.latitude.iloc[-1],\n",
    "    flight.data.longitude.iloc[0],\n",
    "    flight.data.longitude.iloc[-1],\n",
    ")\n",
    "\n",
    "# Create Plot-------------------------------------------------------------------\n",
    "fig = go.Figure()\n",
    "\n",
    "# Calculate the midpoint of the bearing line\n",
    "mid_lat = (flight.data.latitude.iloc[0] + flight.data.latitude.iloc[-1]) / 2\n",
    "mid_lon = (flight.data.longitude.iloc[0] + flight.data.longitude.iloc[-1]) / 2\n",
    "\n",
    "# Plot the actual flight trajectory with start and stop markers\n",
    "fig.add_trace(\n",
    "    go.Scattermapbox(\n",
    "        mode=\"lines\",\n",
    "        lat=flight.data.latitude,\n",
    "        lon=flight.data.longitude,\n",
    "        line=dict(width=4, color=\"#6e77f4\"),\n",
    "        name=\"Flight trajectory\",\n",
    "        showlegend=True,\n",
    "    )\n",
    ")\n",
    "fig.add_trace(\n",
    "    go.Scattermapbox(\n",
    "        mode=\"markers\",\n",
    "        lat=[flight.data.latitude.iloc[0]],\n",
    "        lon=[flight.data.longitude.iloc[0]],\n",
    "        marker=dict(size=10, color=\"#6e77f4\"),\n",
    "        showlegend=False,\n",
    "    )\n",
    ")\n",
    "fig.add_trace(\n",
    "    go.Scattermapbox(\n",
    "        mode=\"markers\",\n",
    "        lat=[flight.data.latitude.iloc[-1]],\n",
    "        lon=[flight.data.longitude.iloc[-1]],\n",
    "        marker=dict(size=10, color=\"#6e77f4\"),\n",
    "        showlegend=False,\n",
    "    )\n",
    ")\n",
    "fig.add_annotation(\n",
    "    x=0.97,\n",
    "    y=0.76,\n",
    "    xref=\"paper\",\n",
    "    yref=\"paper\",\n",
    "    text=\"<b>start</b>\",\n",
    "    font={\"color\": \"#6e77f4\", \"size\": 20},\n",
    "    showarrow=False,\n",
    "    yshift=10,\n",
    ")\n",
    "fig.add_annotation(\n",
    "    x=0.03,\n",
    "    y=0.28,\n",
    "    xref=\"paper\",\n",
    "    yref=\"paper\",\n",
    "    text=\"<b>stop</b>\",\n",
    "    font={\"color\": \"#6e77f4\", \"size\": 20},\n",
    "    showarrow=False,\n",
    "    yshift=10,\n",
    ")\n",
    "\n",
    "# Plot the straight bearing line\n",
    "fig.add_trace(\n",
    "    go.Scattermapbox(\n",
    "        mode=\"lines\",\n",
    "        lat=[flight.data.latitude.iloc[0], flight.data.latitude.iloc[-1]],\n",
    "        lon=[\n",
    "            flight.data.longitude.iloc[0],\n",
    "            flight.data.longitude.iloc[-1],\n",
    "        ],\n",
    "        line=dict(\n",
    "            width=1,\n",
    "            color=\"red\",\n",
    "        ),\n",
    "        name=\"Bearing\",\n",
    "        showlegend=True,\n",
    "    )\n",
    ")\n",
    "\n",
    "# Add annotation for bearing value at the midpoint of the line\n",
    "fig.add_annotation(\n",
    "    x=0.5,\n",
    "    y=0.51,\n",
    "    xref=\"paper\",\n",
    "    yref=\"paper\",\n",
    "    text=f\"<b>{round(bearing,2)}°</b>\",\n",
    "    textangle=bearing - 270,\n",
    "    font={\"color\": \"red\", \"size\": 20},\n",
    "    showarrow=False,\n",
    "    yshift=10,\n",
    ")\n",
    "\n",
    "# Layout of plot\n",
    "fig.update_layout(\n",
    "    width=1300,\n",
    "    height=700,\n",
    "    margin=dict(l=0, r=0, t=0, b=0),\n",
    "    mapbox=dict(\n",
    "        style=\"carto-positron\",\n",
    "        zoom=10.5,\n",
    "        center=dict(\n",
    "            lat=mid_lat,\n",
    "            lon=mid_lon,\n",
    "        ),\n",
    "    ),\n",
    "    legend=dict(font=dict(size=20)),\n",
    ")\n",
    "fig.show()"
   ]
  },
  {
   "cell_type": "markdown",
   "metadata": {},
   "source": [
    "#### Figure 3.8 SID histogram"
   ]
  },
  {
   "cell_type": "code",
   "execution_count": null,
   "metadata": {
    "metadata": {}
   },
   "outputs": [],
   "source": [
    "# Import of required libraries--------------------------------------------------\n",
    "import pandas as pd\n",
    "import plotly.express as px\n",
    "\n",
    "# Import of SID classification--------------------------------------------------\n",
    "df_sid = pd.read_parquet(\n",
    "    \"/mnt/beegfs/store/krum/MT/inputs/df_sid.parquet\"\n",
    ").sample(250000)\n",
    "\n",
    "# Plot historgram of bearings---------------------------------------------------\n",
    "fig = px.histogram(df_sid.bearing, nbins=180)\n",
    "\n",
    "# Add vertical lines for the sectors\n",
    "fig.add_vline(x=75, line_color=\"red\")\n",
    "fig.add_vline(x=140, line_color=\"red\")\n",
    "fig.add_vline(x=210, line_color=\"red\")\n",
    "\n",
    "# Add annotations for the sectors (SIDs)\n",
    "# ZUE\n",
    "fig.add_annotation(\n",
    "    x=37.5,\n",
    "    y=0.9,\n",
    "    yref=\"paper\",\n",
    "    text=\"ZUE\",\n",
    "    showarrow=False,\n",
    "    font_size=16,\n",
    "    font_color=\"red\",\n",
    "    align=\"center\",\n",
    ")\n",
    "\n",
    "# DEGES\n",
    "fig.add_annotation(\n",
    "    x=107.5,\n",
    "    y=0.9,\n",
    "    yref=\"paper\",\n",
    "    text=\"DEGES\",\n",
    "    showarrow=False,\n",
    "    font_size=16,\n",
    "    font_color=\"red\",\n",
    "    align=\"center\",\n",
    ")\n",
    "\n",
    "# GERSA\n",
    "fig.add_annotation(\n",
    "    x=175,\n",
    "    y=0.9,\n",
    "    yref=\"paper\",\n",
    "    text=\"GERSA\",\n",
    "    showarrow=False,\n",
    "    font_size=16,\n",
    "    font_color=\"red\",\n",
    "    align=\"center\",\n",
    ")\n",
    "\n",
    "# VEBIT\n",
    "fig.add_annotation(\n",
    "    x=285,\n",
    "    y=0.9,\n",
    "    yref=\"paper\",\n",
    "    text=\"VEBIT\",\n",
    "    showarrow=False,\n",
    "    font_size=16,\n",
    "    font_color=\"red\",\n",
    "    align=\"center\",\n",
    ")\n",
    "\n",
    "# Layout of plot\n",
    "fig.update_layout(\n",
    "    width=1200,\n",
    "    height=500,\n",
    "    showlegend=False,\n",
    "    margin=dict(l=0, r=0, t=0, b=0),\n",
    "    xaxis_title_font=dict(size=20),\n",
    "    yaxis_title_font=dict(size=20),\n",
    "    xaxis_tickfont=dict(size=15),\n",
    "    yaxis_tickfont=dict(size=15),\n",
    "    yaxis={\"title_standoff\": 30},\n",
    "    xaxis={\"title_standoff\": 30},\n",
    ")\n",
    "fig.update_xaxes(title_text=\"Departure bearing [°]\")\n",
    "fig.show()"
   ]
  },
  {
   "cell_type": "markdown",
   "metadata": {},
   "source": [
    "#### Figure 3.9 SID classification example"
   ]
  },
  {
   "cell_type": "code",
   "execution_count": null,
   "metadata": {
    "metadata": {}
   },
   "outputs": [],
   "source": [
    "# Import of required libraries--------------------------------------------------\n",
    "import pandas as pd\n",
    "import plotly.graph_objects as go\n",
    "from traffic.core import Traffic\n",
    "\n",
    "# Import of trajectories and classification-------------------------------------\n",
    "t = Traffic.from_file(\"/mnt/beegfs/store/krum/MT/inputs/samax_trajs.parquet\")\n",
    "df_sid = pd.read_parquet(\"/mnt/beegfs/store/krum/MT/inputs/df_sid.parquet\")\n",
    "\n",
    "# Reduce to Swiss flights to remove VFR traffic---------------------------------\n",
    "df_sid = df_sid.query(\"flight_id.str.startswith('SWR')\")\n",
    "\n",
    "# Generate traffics with 50 flights per SID-------------------------------------\n",
    "subset_VEBIT = (\n",
    "    df_sid[df_sid[\"SID\"] == \"VEBIT\"].sample(50)[\"flight_id\"].to_list()\n",
    ")\n",
    "t_VEBIT = t[subset_VEBIT]\n",
    "\n",
    "subset_GERSA = (\n",
    "    df_sid[df_sid[\"SID\"] == \"GERSA\"].sample(50)[\"flight_id\"].to_list()\n",
    ")\n",
    "t_GERSA = t[subset_GERSA]\n",
    "\n",
    "subset_DEGES = (\n",
    "    df_sid[df_sid[\"SID\"] == \"DEGES\"].sample(50)[\"flight_id\"].to_list()\n",
    ")\n",
    "t_DEGES = t[subset_DEGES]\n",
    "\n",
    "subset_ZUE = df_sid[df_sid[\"SID\"] == \"ZUE\"].sample(50)[\"flight_id\"].to_list()\n",
    "t_ZUE = t[subset_ZUE]\n",
    "\n",
    "# Create Plot-------------------------------------------------------------------\n",
    "fig = go.Figure()\n",
    "\n",
    "# GERSA flights\n",
    "for flight in t_GERSA[0:49]:\n",
    "    fig.add_trace(\n",
    "        go.Scattermapbox(\n",
    "            mode=\"lines\",\n",
    "            lat=flight.data.latitude,\n",
    "            lon=flight.data.longitude,\n",
    "            line=dict(\n",
    "                color=\"#6e77f4\",\n",
    "                width=1,\n",
    "            ),\n",
    "            showlegend=False,\n",
    "        )\n",
    "    )\n",
    "fig.add_trace(\n",
    "    go.Scattermapbox(\n",
    "        mode=\"lines\",\n",
    "        lat=t_GERSA[49].data.latitude,\n",
    "        lon=t_GERSA[49].data.longitude,\n",
    "        line=dict(\n",
    "            color=\"#6e77f4\",\n",
    "            width=1,\n",
    "        ),\n",
    "        name=\"GERSA\",\n",
    "        showlegend=True,\n",
    "        legendgroup=\"Trajectories\",\n",
    "        legendgrouptitle=dict(text=\"<b>Trajectories</b>\", font={\"size\": 20}),\n",
    "    )\n",
    ")\n",
    "\n",
    "# GERSA navaid\n",
    "fig.add_trace(\n",
    "    go.Scattermapbox(\n",
    "        mode=\"markers\",\n",
    "        lat=[navaids[\"GERSA\"].latitude],\n",
    "        lon=[navaids[\"GERSA\"].longitude],\n",
    "        marker=dict(\n",
    "            size=22,\n",
    "            color=\"white\",\n",
    "        ),\n",
    "        name=\"GERSA\",\n",
    "        showlegend=False,\n",
    "    )\n",
    ")\n",
    "fig.add_trace(\n",
    "    go.Scattermapbox(\n",
    "        mode=\"markers\",\n",
    "        lat=[navaids[\"GERSA\"].latitude],\n",
    "        lon=[navaids[\"GERSA\"].longitude],\n",
    "        marker=dict(\n",
    "            size=15,\n",
    "            color=\"#6e77f4\",\n",
    "        ),\n",
    "        name=\"GERSA\",\n",
    "        showlegend=True,\n",
    "        legendgroup=\"Waypoints\",\n",
    "        legendgrouptitle=dict(text=\"<b>Waypoints</b>\", font={\"size\": 20}),\n",
    "    )\n",
    ")\n",
    "\n",
    "# DEGES flights\n",
    "for flight in t_DEGES[0:49]:\n",
    "    fig.add_trace(\n",
    "        go.Scattermapbox(\n",
    "            mode=\"lines\",\n",
    "            lat=flight.data.latitude,\n",
    "            lon=flight.data.longitude,\n",
    "            line=dict(\n",
    "                color=\"#dd6044\",\n",
    "                width=1,\n",
    "            ),\n",
    "            showlegend=False,\n",
    "            legendgroup=\"Trajectories\",\n",
    "        )\n",
    "    )\n",
    "fig.add_trace(\n",
    "    go.Scattermapbox(\n",
    "        mode=\"lines\",\n",
    "        lat=t_DEGES[49].data.latitude,\n",
    "        lon=t_DEGES[49].data.longitude,\n",
    "        line=dict(\n",
    "            color=\"#dd6044\",\n",
    "            width=1,\n",
    "        ),\n",
    "        name=\"DEGES\",\n",
    "        showlegend=True,\n",
    "        legendgroup=\"Trajectories\",\n",
    "    )\n",
    ")\n",
    "\n",
    "# DEGES navaid\n",
    "fig.add_trace(\n",
    "    go.Scattermapbox(\n",
    "        mode=\"markers\",\n",
    "        lat=[navaids[\"DEGES\"].latitude],\n",
    "        lon=[navaids[\"DEGES\"].longitude],\n",
    "        marker=dict(\n",
    "            size=22,\n",
    "            color=\"white\",\n",
    "        ),\n",
    "        name=\"DEGES\",\n",
    "        showlegend=False,\n",
    "    )\n",
    ")\n",
    "fig.add_trace(\n",
    "    go.Scattermapbox(\n",
    "        mode=\"markers\",\n",
    "        lat=[navaids[\"DEGES\"].latitude],\n",
    "        lon=[navaids[\"DEGES\"].longitude],\n",
    "        marker=dict(\n",
    "            size=15,\n",
    "            color=\"#dd6044\",\n",
    "        ),\n",
    "        name=\"DEGES\",\n",
    "        showlegend=True,\n",
    "        legendgroup=\"Waypoints\",\n",
    "        legendgrouptitle=dict(text=\"<b>Waypoints</b>\", font={\"size\": 25}),\n",
    "    )\n",
    ")\n",
    "\n",
    "# VEBIT flights\n",
    "for flight in t_VEBIT[0:49]:\n",
    "    fig.add_trace(\n",
    "        go.Scattermapbox(\n",
    "            mode=\"lines\",\n",
    "            lat=flight.data.latitude,\n",
    "            lon=flight.data.longitude,\n",
    "            line=dict(\n",
    "                color=\"#5dc999\",\n",
    "                width=1,\n",
    "            ),\n",
    "            showlegend=False,\n",
    "            legendgroup=\"Trajectories\",\n",
    "        )\n",
    "    )\n",
    "fig.add_trace(\n",
    "    go.Scattermapbox(\n",
    "        mode=\"lines\",\n",
    "        lat=t_VEBIT[49].data.latitude,\n",
    "        lon=t_VEBIT[49].data.longitude,\n",
    "        line=dict(\n",
    "            color=\"#5dc999\",\n",
    "            width=1,\n",
    "        ),\n",
    "        name=\"VEBIT\",\n",
    "        showlegend=True,\n",
    "        legendgroup=\"Trajectories\",\n",
    "    )\n",
    ")\n",
    "\n",
    "# VEBIT navaid\n",
    "fig.add_trace(\n",
    "    go.Scattermapbox(\n",
    "        mode=\"markers\",\n",
    "        lat=[navaids[\"VEBIT\"].latitude],\n",
    "        lon=[navaids[\"VEBIT\"].longitude],\n",
    "        marker=dict(\n",
    "            size=22,\n",
    "            color=\"white\",\n",
    "        ),\n",
    "        name=\"VEBIT\",\n",
    "        showlegend=False,\n",
    "    )\n",
    ")\n",
    "fig.add_trace(\n",
    "    go.Scattermapbox(\n",
    "        mode=\"markers\",\n",
    "        lat=[navaids[\"VEBIT\"].latitude],\n",
    "        lon=[navaids[\"VEBIT\"].longitude],\n",
    "        marker=dict(\n",
    "            size=15,\n",
    "            color=\"#5dc999\",\n",
    "        ),\n",
    "        name=\"VEBIT\",\n",
    "        showlegend=True,\n",
    "        legendgroup=\"Waypoints\",\n",
    "        legendgrouptitle=dict(text=\"<b>Waypoints</b>\", font={\"size\": 25}),\n",
    "    )\n",
    ")\n",
    "\n",
    "# ZUE flights\n",
    "for flight in t_ZUE[0:49]:\n",
    "    fig.add_trace(\n",
    "        go.Scattermapbox(\n",
    "            mode=\"lines\",\n",
    "            lat=flight.data.latitude,\n",
    "            lon=flight.data.longitude,\n",
    "            line=dict(\n",
    "                color=\"#a167f4\",\n",
    "                width=1,\n",
    "            ),\n",
    "            showlegend=False,\n",
    "            legendgroup=\"Trajectories\",\n",
    "        )\n",
    "    )\n",
    "fig.add_trace(\n",
    "    go.Scattermapbox(\n",
    "        mode=\"lines\",\n",
    "        lat=t_ZUE[49].data.latitude,\n",
    "        lon=t_ZUE[49].data.longitude,\n",
    "        line=dict(\n",
    "            color=\"#a167f4\",\n",
    "            width=1,\n",
    "        ),\n",
    "        name=\"ZUE\",\n",
    "        showlegend=True,\n",
    "        legendgroup=\"Trajectories\",\n",
    "    )\n",
    ")\n",
    "\n",
    "# ZUE navaid\n",
    "fig.add_trace(\n",
    "    go.Scattermapbox(\n",
    "        mode=\"markers\",\n",
    "        lat=[navaids.extent(\"Switzerland\").get(\"ZUE\").latitude],\n",
    "        lon=[navaids.extent(\"Switzerland\").get(\"ZUE\").longitude],\n",
    "        marker=dict(\n",
    "            size=22,\n",
    "            color=\"white\",\n",
    "        ),\n",
    "        name=\"ZUE\",\n",
    "        showlegend=False,\n",
    "    )\n",
    ")\n",
    "fig.add_trace(\n",
    "    go.Scattermapbox(\n",
    "        mode=\"markers\",\n",
    "        lat=[navaids.extent(\"Switzerland\").get(\"ZUE\").latitude],\n",
    "        lon=[navaids.extent(\"Switzerland\").get(\"ZUE\").longitude],\n",
    "        marker=dict(\n",
    "            size=15,\n",
    "            color=\"#a167f4\",\n",
    "        ),\n",
    "        name=\"ZUE\",\n",
    "        showlegend=True,\n",
    "        legendgroup=\"Waypoints\",\n",
    "        legendgrouptitle=dict(text=\"<b>Waypoints</b>\", font={\"size\": 25}),\n",
    "    )\n",
    ")\n",
    "\n",
    "# Adjust layout\n",
    "fig.update_layout(\n",
    "    width=1300,\n",
    "    height=700,\n",
    "    margin=dict(l=0, r=0, t=0, b=0),\n",
    "    mapbox=dict(\n",
    "        style=\"carto-positron\",\n",
    "        zoom=8.3,\n",
    "        center=dict(lat=47.45928637316676, lon=8.553560073903695),\n",
    "    ),\n",
    "    legend=dict(font=dict(size=20)),\n",
    ")\n",
    "fig.show()"
   ]
  },
  {
   "cell_type": "markdown",
   "metadata": {},
   "source": [
    "***\n",
    "### Generation of training validation and test data\n",
    "***"
   ]
  },
  {
   "cell_type": "markdown",
   "metadata": {},
   "source": [
    "#### Figure 3.11 Cyclic encoding"
   ]
  },
  {
   "cell_type": "code",
   "execution_count": 4,
   "metadata": {},
   "outputs": [
    {
     "data": {
      "application/vnd.plotly.v1+json": {
       "config": {
        "plotlyServerURL": "https://plot.ly"
       },
       "data": [
        {
         "marker": {
          "color": "black",
          "size": 9
         },
         "mode": "markers+text",
         "name": "Month 1",
         "showlegend": false,
         "text": [
          "<b>1</b>"
         ],
         "textfont": {
          "color": "black",
          "size": 30
         },
         "textposition": "top center",
         "type": "scatter",
         "x": [
          0.75
         ],
         "y": [
          0.9330127018922194
         ]
        },
        {
         "marker": {
          "color": "black",
          "size": 9
         },
         "mode": "markers+text",
         "name": "Month 2",
         "showlegend": false,
         "text": [
          "<b>2</b>"
         ],
         "textfont": {
          "color": "black",
          "size": 30
         },
         "textposition": "top center",
         "type": "scatter",
         "x": [
          0.9330127018922193
         ],
         "y": [
          0.75
         ]
        },
        {
         "marker": {
          "color": "black",
          "size": 9
         },
         "mode": "markers+text",
         "name": "Month 3",
         "showlegend": false,
         "text": [
          "<b>3</b>"
         ],
         "textfont": {
          "color": "black",
          "size": 30
         },
         "textposition": "top center",
         "type": "scatter",
         "x": [
          1
         ],
         "y": [
          0.5
         ]
        },
        {
         "marker": {
          "color": "black",
          "size": 9
         },
         "mode": "markers+text",
         "name": "Month 4",
         "showlegend": false,
         "text": [
          "<b>4</b>"
         ],
         "textfont": {
          "color": "black",
          "size": 30
         },
         "textposition": "top center",
         "type": "scatter",
         "x": [
          0.9330127018922194
         ],
         "y": [
          0.2500000000000001
         ]
        },
        {
         "marker": {
          "color": "black",
          "size": 9
         },
         "mode": "markers+text",
         "name": "Month 5",
         "showlegend": false,
         "text": [
          "<b>5</b>"
         ],
         "textfont": {
          "color": "black",
          "size": 30
         },
         "textposition": "top center",
         "type": "scatter",
         "x": [
          0.75
         ],
         "y": [
          0.06698729810778065
         ]
        },
        {
         "marker": {
          "color": "black",
          "size": 9
         },
         "mode": "markers+text",
         "name": "Month 6",
         "showlegend": false,
         "text": [
          "<b>6</b>"
         ],
         "textfont": {
          "color": "black",
          "size": 30
         },
         "textposition": "top center",
         "type": "scatter",
         "x": [
          0.5000000000000001
         ],
         "y": [
          0
         ]
        },
        {
         "marker": {
          "color": "black",
          "size": 9
         },
         "mode": "markers+text",
         "name": "Month 7",
         "showlegend": false,
         "text": [
          "<b>7</b>"
         ],
         "textfont": {
          "color": "black",
          "size": 30
         },
         "textposition": "top center",
         "type": "scatter",
         "x": [
          0.2500000000000001
         ],
         "y": [
          0.06698729810778059
         ]
        },
        {
         "marker": {
          "color": "black",
          "size": 9
         },
         "mode": "markers+text",
         "name": "Month 8",
         "showlegend": false,
         "text": [
          "<b>8</b>"
         ],
         "textfont": {
          "color": "black",
          "size": 30
         },
         "textposition": "top center",
         "type": "scatter",
         "x": [
          0.06698729810778081
         ],
         "y": [
          0.24999999999999978
         ]
        },
        {
         "marker": {
          "color": "black",
          "size": 9
         },
         "mode": "markers+text",
         "name": "Month 9",
         "showlegend": false,
         "text": [
          "<b>9</b>"
         ],
         "textfont": {
          "color": "black",
          "size": 30
         },
         "textposition": "top center",
         "type": "scatter",
         "x": [
          0
         ],
         "y": [
          0.4999999999999999
         ]
        },
        {
         "marker": {
          "color": "black",
          "size": 9
         },
         "mode": "markers+text",
         "name": "Month 10",
         "showlegend": false,
         "text": [
          "<b>10</b>"
         ],
         "textfont": {
          "color": "black",
          "size": 30
         },
         "textposition": "top center",
         "type": "scatter",
         "x": [
          0.0669872981077807
         ],
         "y": [
          0.75
         ]
        },
        {
         "marker": {
          "color": "black",
          "size": 9
         },
         "mode": "markers+text",
         "name": "Month 11",
         "showlegend": false,
         "text": [
          "<b>11</b>"
         ],
         "textfont": {
          "color": "black",
          "size": 30
         },
         "textposition": "top center",
         "type": "scatter",
         "x": [
          0.24999999999999978
         ],
         "y": [
          0.9330127018922192
         ]
        },
        {
         "marker": {
          "color": "black",
          "size": 9
         },
         "mode": "markers+text",
         "name": "Month 12",
         "showlegend": false,
         "text": [
          "<b>12</b>"
         ],
         "textfont": {
          "color": "black",
          "size": 30
         },
         "textposition": "top center",
         "type": "scatter",
         "x": [
          0.4999999999999999
         ],
         "y": [
          1
         ]
        }
       ],
       "layout": {
        "height": 800,
        "margin": {
         "b": 0,
         "l": 0,
         "r": 0,
         "t": 0
        },
        "template": {
         "data": {
          "bar": [
           {
            "error_x": {
             "color": "#2a3f5f"
            },
            "error_y": {
             "color": "#2a3f5f"
            },
            "marker": {
             "line": {
              "color": "#E5ECF6",
              "width": 0.5
             },
             "pattern": {
              "fillmode": "overlay",
              "size": 10,
              "solidity": 0.2
             }
            },
            "type": "bar"
           }
          ],
          "barpolar": [
           {
            "marker": {
             "line": {
              "color": "#E5ECF6",
              "width": 0.5
             },
             "pattern": {
              "fillmode": "overlay",
              "size": 10,
              "solidity": 0.2
             }
            },
            "type": "barpolar"
           }
          ],
          "carpet": [
           {
            "aaxis": {
             "endlinecolor": "#2a3f5f",
             "gridcolor": "white",
             "linecolor": "white",
             "minorgridcolor": "white",
             "startlinecolor": "#2a3f5f"
            },
            "baxis": {
             "endlinecolor": "#2a3f5f",
             "gridcolor": "white",
             "linecolor": "white",
             "minorgridcolor": "white",
             "startlinecolor": "#2a3f5f"
            },
            "type": "carpet"
           }
          ],
          "choropleth": [
           {
            "colorbar": {
             "outlinewidth": 0,
             "ticks": ""
            },
            "type": "choropleth"
           }
          ],
          "contour": [
           {
            "colorbar": {
             "outlinewidth": 0,
             "ticks": ""
            },
            "colorscale": [
             [
              0,
              "#0d0887"
             ],
             [
              0.1111111111111111,
              "#46039f"
             ],
             [
              0.2222222222222222,
              "#7201a8"
             ],
             [
              0.3333333333333333,
              "#9c179e"
             ],
             [
              0.4444444444444444,
              "#bd3786"
             ],
             [
              0.5555555555555556,
              "#d8576b"
             ],
             [
              0.6666666666666666,
              "#ed7953"
             ],
             [
              0.7777777777777778,
              "#fb9f3a"
             ],
             [
              0.8888888888888888,
              "#fdca26"
             ],
             [
              1,
              "#f0f921"
             ]
            ],
            "type": "contour"
           }
          ],
          "contourcarpet": [
           {
            "colorbar": {
             "outlinewidth": 0,
             "ticks": ""
            },
            "type": "contourcarpet"
           }
          ],
          "heatmap": [
           {
            "colorbar": {
             "outlinewidth": 0,
             "ticks": ""
            },
            "colorscale": [
             [
              0,
              "#0d0887"
             ],
             [
              0.1111111111111111,
              "#46039f"
             ],
             [
              0.2222222222222222,
              "#7201a8"
             ],
             [
              0.3333333333333333,
              "#9c179e"
             ],
             [
              0.4444444444444444,
              "#bd3786"
             ],
             [
              0.5555555555555556,
              "#d8576b"
             ],
             [
              0.6666666666666666,
              "#ed7953"
             ],
             [
              0.7777777777777778,
              "#fb9f3a"
             ],
             [
              0.8888888888888888,
              "#fdca26"
             ],
             [
              1,
              "#f0f921"
             ]
            ],
            "type": "heatmap"
           }
          ],
          "heatmapgl": [
           {
            "colorbar": {
             "outlinewidth": 0,
             "ticks": ""
            },
            "colorscale": [
             [
              0,
              "#0d0887"
             ],
             [
              0.1111111111111111,
              "#46039f"
             ],
             [
              0.2222222222222222,
              "#7201a8"
             ],
             [
              0.3333333333333333,
              "#9c179e"
             ],
             [
              0.4444444444444444,
              "#bd3786"
             ],
             [
              0.5555555555555556,
              "#d8576b"
             ],
             [
              0.6666666666666666,
              "#ed7953"
             ],
             [
              0.7777777777777778,
              "#fb9f3a"
             ],
             [
              0.8888888888888888,
              "#fdca26"
             ],
             [
              1,
              "#f0f921"
             ]
            ],
            "type": "heatmapgl"
           }
          ],
          "histogram": [
           {
            "marker": {
             "pattern": {
              "fillmode": "overlay",
              "size": 10,
              "solidity": 0.2
             }
            },
            "type": "histogram"
           }
          ],
          "histogram2d": [
           {
            "colorbar": {
             "outlinewidth": 0,
             "ticks": ""
            },
            "colorscale": [
             [
              0,
              "#0d0887"
             ],
             [
              0.1111111111111111,
              "#46039f"
             ],
             [
              0.2222222222222222,
              "#7201a8"
             ],
             [
              0.3333333333333333,
              "#9c179e"
             ],
             [
              0.4444444444444444,
              "#bd3786"
             ],
             [
              0.5555555555555556,
              "#d8576b"
             ],
             [
              0.6666666666666666,
              "#ed7953"
             ],
             [
              0.7777777777777778,
              "#fb9f3a"
             ],
             [
              0.8888888888888888,
              "#fdca26"
             ],
             [
              1,
              "#f0f921"
             ]
            ],
            "type": "histogram2d"
           }
          ],
          "histogram2dcontour": [
           {
            "colorbar": {
             "outlinewidth": 0,
             "ticks": ""
            },
            "colorscale": [
             [
              0,
              "#0d0887"
             ],
             [
              0.1111111111111111,
              "#46039f"
             ],
             [
              0.2222222222222222,
              "#7201a8"
             ],
             [
              0.3333333333333333,
              "#9c179e"
             ],
             [
              0.4444444444444444,
              "#bd3786"
             ],
             [
              0.5555555555555556,
              "#d8576b"
             ],
             [
              0.6666666666666666,
              "#ed7953"
             ],
             [
              0.7777777777777778,
              "#fb9f3a"
             ],
             [
              0.8888888888888888,
              "#fdca26"
             ],
             [
              1,
              "#f0f921"
             ]
            ],
            "type": "histogram2dcontour"
           }
          ],
          "mesh3d": [
           {
            "colorbar": {
             "outlinewidth": 0,
             "ticks": ""
            },
            "type": "mesh3d"
           }
          ],
          "parcoords": [
           {
            "line": {
             "colorbar": {
              "outlinewidth": 0,
              "ticks": ""
             }
            },
            "type": "parcoords"
           }
          ],
          "pie": [
           {
            "automargin": true,
            "type": "pie"
           }
          ],
          "scatter": [
           {
            "fillpattern": {
             "fillmode": "overlay",
             "size": 10,
             "solidity": 0.2
            },
            "type": "scatter"
           }
          ],
          "scatter3d": [
           {
            "line": {
             "colorbar": {
              "outlinewidth": 0,
              "ticks": ""
             }
            },
            "marker": {
             "colorbar": {
              "outlinewidth": 0,
              "ticks": ""
             }
            },
            "type": "scatter3d"
           }
          ],
          "scattercarpet": [
           {
            "marker": {
             "colorbar": {
              "outlinewidth": 0,
              "ticks": ""
             }
            },
            "type": "scattercarpet"
           }
          ],
          "scattergeo": [
           {
            "marker": {
             "colorbar": {
              "outlinewidth": 0,
              "ticks": ""
             }
            },
            "type": "scattergeo"
           }
          ],
          "scattergl": [
           {
            "marker": {
             "colorbar": {
              "outlinewidth": 0,
              "ticks": ""
             }
            },
            "type": "scattergl"
           }
          ],
          "scattermapbox": [
           {
            "marker": {
             "colorbar": {
              "outlinewidth": 0,
              "ticks": ""
             }
            },
            "type": "scattermapbox"
           }
          ],
          "scatterpolar": [
           {
            "marker": {
             "colorbar": {
              "outlinewidth": 0,
              "ticks": ""
             }
            },
            "type": "scatterpolar"
           }
          ],
          "scatterpolargl": [
           {
            "marker": {
             "colorbar": {
              "outlinewidth": 0,
              "ticks": ""
             }
            },
            "type": "scatterpolargl"
           }
          ],
          "scatterternary": [
           {
            "marker": {
             "colorbar": {
              "outlinewidth": 0,
              "ticks": ""
             }
            },
            "type": "scatterternary"
           }
          ],
          "surface": [
           {
            "colorbar": {
             "outlinewidth": 0,
             "ticks": ""
            },
            "colorscale": [
             [
              0,
              "#0d0887"
             ],
             [
              0.1111111111111111,
              "#46039f"
             ],
             [
              0.2222222222222222,
              "#7201a8"
             ],
             [
              0.3333333333333333,
              "#9c179e"
             ],
             [
              0.4444444444444444,
              "#bd3786"
             ],
             [
              0.5555555555555556,
              "#d8576b"
             ],
             [
              0.6666666666666666,
              "#ed7953"
             ],
             [
              0.7777777777777778,
              "#fb9f3a"
             ],
             [
              0.8888888888888888,
              "#fdca26"
             ],
             [
              1,
              "#f0f921"
             ]
            ],
            "type": "surface"
           }
          ],
          "table": [
           {
            "cells": {
             "fill": {
              "color": "#EBF0F8"
             },
             "line": {
              "color": "white"
             }
            },
            "header": {
             "fill": {
              "color": "#C8D4E3"
             },
             "line": {
              "color": "white"
             }
            },
            "type": "table"
           }
          ]
         },
         "layout": {
          "annotationdefaults": {
           "arrowcolor": "#2a3f5f",
           "arrowhead": 0,
           "arrowwidth": 1
          },
          "autotypenumbers": "strict",
          "coloraxis": {
           "colorbar": {
            "outlinewidth": 0,
            "ticks": ""
           }
          },
          "colorscale": {
           "diverging": [
            [
             0,
             "#8e0152"
            ],
            [
             0.1,
             "#c51b7d"
            ],
            [
             0.2,
             "#de77ae"
            ],
            [
             0.3,
             "#f1b6da"
            ],
            [
             0.4,
             "#fde0ef"
            ],
            [
             0.5,
             "#f7f7f7"
            ],
            [
             0.6,
             "#e6f5d0"
            ],
            [
             0.7,
             "#b8e186"
            ],
            [
             0.8,
             "#7fbc41"
            ],
            [
             0.9,
             "#4d9221"
            ],
            [
             1,
             "#276419"
            ]
           ],
           "sequential": [
            [
             0,
             "#0d0887"
            ],
            [
             0.1111111111111111,
             "#46039f"
            ],
            [
             0.2222222222222222,
             "#7201a8"
            ],
            [
             0.3333333333333333,
             "#9c179e"
            ],
            [
             0.4444444444444444,
             "#bd3786"
            ],
            [
             0.5555555555555556,
             "#d8576b"
            ],
            [
             0.6666666666666666,
             "#ed7953"
            ],
            [
             0.7777777777777778,
             "#fb9f3a"
            ],
            [
             0.8888888888888888,
             "#fdca26"
            ],
            [
             1,
             "#f0f921"
            ]
           ],
           "sequentialminus": [
            [
             0,
             "#0d0887"
            ],
            [
             0.1111111111111111,
             "#46039f"
            ],
            [
             0.2222222222222222,
             "#7201a8"
            ],
            [
             0.3333333333333333,
             "#9c179e"
            ],
            [
             0.4444444444444444,
             "#bd3786"
            ],
            [
             0.5555555555555556,
             "#d8576b"
            ],
            [
             0.6666666666666666,
             "#ed7953"
            ],
            [
             0.7777777777777778,
             "#fb9f3a"
            ],
            [
             0.8888888888888888,
             "#fdca26"
            ],
            [
             1,
             "#f0f921"
            ]
           ]
          },
          "colorway": [
           "#636efa",
           "#EF553B",
           "#00cc96",
           "#ab63fa",
           "#FFA15A",
           "#19d3f3",
           "#FF6692",
           "#B6E880",
           "#FF97FF",
           "#FECB52"
          ],
          "font": {
           "color": "#2a3f5f"
          },
          "geo": {
           "bgcolor": "white",
           "lakecolor": "white",
           "landcolor": "#E5ECF6",
           "showlakes": true,
           "showland": true,
           "subunitcolor": "white"
          },
          "hoverlabel": {
           "align": "left"
          },
          "hovermode": "closest",
          "mapbox": {
           "style": "light"
          },
          "paper_bgcolor": "white",
          "plot_bgcolor": "#E5ECF6",
          "polar": {
           "angularaxis": {
            "gridcolor": "white",
            "linecolor": "white",
            "ticks": ""
           },
           "bgcolor": "#E5ECF6",
           "radialaxis": {
            "gridcolor": "white",
            "linecolor": "white",
            "ticks": ""
           }
          },
          "scene": {
           "xaxis": {
            "backgroundcolor": "#E5ECF6",
            "gridcolor": "white",
            "gridwidth": 2,
            "linecolor": "white",
            "showbackground": true,
            "ticks": "",
            "zerolinecolor": "white"
           },
           "yaxis": {
            "backgroundcolor": "#E5ECF6",
            "gridcolor": "white",
            "gridwidth": 2,
            "linecolor": "white",
            "showbackground": true,
            "ticks": "",
            "zerolinecolor": "white"
           },
           "zaxis": {
            "backgroundcolor": "#E5ECF6",
            "gridcolor": "white",
            "gridwidth": 2,
            "linecolor": "white",
            "showbackground": true,
            "ticks": "",
            "zerolinecolor": "white"
           }
          },
          "shapedefaults": {
           "line": {
            "color": "#2a3f5f"
           }
          },
          "ternary": {
           "aaxis": {
            "gridcolor": "white",
            "linecolor": "white",
            "ticks": ""
           },
           "baxis": {
            "gridcolor": "white",
            "linecolor": "white",
            "ticks": ""
           },
           "bgcolor": "#E5ECF6",
           "caxis": {
            "gridcolor": "white",
            "linecolor": "white",
            "ticks": ""
           }
          },
          "title": {
           "x": 0.05
          },
          "xaxis": {
           "automargin": true,
           "gridcolor": "white",
           "linecolor": "white",
           "ticks": "",
           "title": {
            "standoff": 15
           },
           "zerolinecolor": "white",
           "zerolinewidth": 2
          },
          "yaxis": {
           "automargin": true,
           "gridcolor": "white",
           "linecolor": "white",
           "ticks": "",
           "title": {
            "standoff": 15
           },
           "zerolinecolor": "white",
           "zerolinewidth": 2
          }
         }
        },
        "width": 800,
        "xaxis": {
         "tickfont": {
          "color": "black",
          "size": 30
         },
         "title": {
          "font": {
           "color": "black",
           "size": 35
          },
          "text": "Month sin"
         }
        },
        "yaxis": {
         "tickfont": {
          "color": "black",
          "size": 30
         },
         "title": {
          "font": {
           "color": "black",
           "size": 35
          },
          "standoff": 50,
          "text": "Month cos"
         }
        }
       }
      },
      "text/html": [
       "<div>                            <div id=\"18334e94-99c5-4be4-ab82-79b456401e54\" class=\"plotly-graph-div\" style=\"height:800px; width:800px;\"></div>            <script type=\"text/javascript\">                require([\"plotly\"], function(Plotly) {                    window.PLOTLYENV=window.PLOTLYENV || {};                                    if (document.getElementById(\"18334e94-99c5-4be4-ab82-79b456401e54\")) {                    Plotly.newPlot(                        \"18334e94-99c5-4be4-ab82-79b456401e54\",                        [{\"marker\":{\"color\":\"black\",\"size\":9},\"mode\":\"markers+text\",\"name\":\"Month 1\",\"showlegend\":false,\"text\":[\"\\u003cb\\u003e1\\u003c\\u002fb\\u003e\"],\"textfont\":{\"color\":\"black\",\"size\":30},\"textposition\":\"top center\",\"x\":[0.75],\"y\":[0.9330127018922194],\"type\":\"scatter\"},{\"marker\":{\"color\":\"black\",\"size\":9},\"mode\":\"markers+text\",\"name\":\"Month 2\",\"showlegend\":false,\"text\":[\"\\u003cb\\u003e2\\u003c\\u002fb\\u003e\"],\"textfont\":{\"color\":\"black\",\"size\":30},\"textposition\":\"top center\",\"x\":[0.9330127018922193],\"y\":[0.75],\"type\":\"scatter\"},{\"marker\":{\"color\":\"black\",\"size\":9},\"mode\":\"markers+text\",\"name\":\"Month 3\",\"showlegend\":false,\"text\":[\"\\u003cb\\u003e3\\u003c\\u002fb\\u003e\"],\"textfont\":{\"color\":\"black\",\"size\":30},\"textposition\":\"top center\",\"x\":[1.0],\"y\":[0.5],\"type\":\"scatter\"},{\"marker\":{\"color\":\"black\",\"size\":9},\"mode\":\"markers+text\",\"name\":\"Month 4\",\"showlegend\":false,\"text\":[\"\\u003cb\\u003e4\\u003c\\u002fb\\u003e\"],\"textfont\":{\"color\":\"black\",\"size\":30},\"textposition\":\"top center\",\"x\":[0.9330127018922194],\"y\":[0.2500000000000001],\"type\":\"scatter\"},{\"marker\":{\"color\":\"black\",\"size\":9},\"mode\":\"markers+text\",\"name\":\"Month 5\",\"showlegend\":false,\"text\":[\"\\u003cb\\u003e5\\u003c\\u002fb\\u003e\"],\"textfont\":{\"color\":\"black\",\"size\":30},\"textposition\":\"top center\",\"x\":[0.75],\"y\":[0.06698729810778065],\"type\":\"scatter\"},{\"marker\":{\"color\":\"black\",\"size\":9},\"mode\":\"markers+text\",\"name\":\"Month 6\",\"showlegend\":false,\"text\":[\"\\u003cb\\u003e6\\u003c\\u002fb\\u003e\"],\"textfont\":{\"color\":\"black\",\"size\":30},\"textposition\":\"top center\",\"x\":[0.5000000000000001],\"y\":[0.0],\"type\":\"scatter\"},{\"marker\":{\"color\":\"black\",\"size\":9},\"mode\":\"markers+text\",\"name\":\"Month 7\",\"showlegend\":false,\"text\":[\"\\u003cb\\u003e7\\u003c\\u002fb\\u003e\"],\"textfont\":{\"color\":\"black\",\"size\":30},\"textposition\":\"top center\",\"x\":[0.2500000000000001],\"y\":[0.06698729810778059],\"type\":\"scatter\"},{\"marker\":{\"color\":\"black\",\"size\":9},\"mode\":\"markers+text\",\"name\":\"Month 8\",\"showlegend\":false,\"text\":[\"\\u003cb\\u003e8\\u003c\\u002fb\\u003e\"],\"textfont\":{\"color\":\"black\",\"size\":30},\"textposition\":\"top center\",\"x\":[0.06698729810778081],\"y\":[0.24999999999999978],\"type\":\"scatter\"},{\"marker\":{\"color\":\"black\",\"size\":9},\"mode\":\"markers+text\",\"name\":\"Month 9\",\"showlegend\":false,\"text\":[\"\\u003cb\\u003e9\\u003c\\u002fb\\u003e\"],\"textfont\":{\"color\":\"black\",\"size\":30},\"textposition\":\"top center\",\"x\":[0.0],\"y\":[0.4999999999999999],\"type\":\"scatter\"},{\"marker\":{\"color\":\"black\",\"size\":9},\"mode\":\"markers+text\",\"name\":\"Month 10\",\"showlegend\":false,\"text\":[\"\\u003cb\\u003e10\\u003c\\u002fb\\u003e\"],\"textfont\":{\"color\":\"black\",\"size\":30},\"textposition\":\"top center\",\"x\":[0.0669872981077807],\"y\":[0.75],\"type\":\"scatter\"},{\"marker\":{\"color\":\"black\",\"size\":9},\"mode\":\"markers+text\",\"name\":\"Month 11\",\"showlegend\":false,\"text\":[\"\\u003cb\\u003e11\\u003c\\u002fb\\u003e\"],\"textfont\":{\"color\":\"black\",\"size\":30},\"textposition\":\"top center\",\"x\":[0.24999999999999978],\"y\":[0.9330127018922192],\"type\":\"scatter\"},{\"marker\":{\"color\":\"black\",\"size\":9},\"mode\":\"markers+text\",\"name\":\"Month 12\",\"showlegend\":false,\"text\":[\"\\u003cb\\u003e12\\u003c\\u002fb\\u003e\"],\"textfont\":{\"color\":\"black\",\"size\":30},\"textposition\":\"top center\",\"x\":[0.4999999999999999],\"y\":[1.0],\"type\":\"scatter\"}],                        {\"template\":{\"data\":{\"histogram2dcontour\":[{\"type\":\"histogram2dcontour\",\"colorbar\":{\"outlinewidth\":0,\"ticks\":\"\"},\"colorscale\":[[0.0,\"#0d0887\"],[0.1111111111111111,\"#46039f\"],[0.2222222222222222,\"#7201a8\"],[0.3333333333333333,\"#9c179e\"],[0.4444444444444444,\"#bd3786\"],[0.5555555555555556,\"#d8576b\"],[0.6666666666666666,\"#ed7953\"],[0.7777777777777778,\"#fb9f3a\"],[0.8888888888888888,\"#fdca26\"],[1.0,\"#f0f921\"]]}],\"choropleth\":[{\"type\":\"choropleth\",\"colorbar\":{\"outlinewidth\":0,\"ticks\":\"\"}}],\"histogram2d\":[{\"type\":\"histogram2d\",\"colorbar\":{\"outlinewidth\":0,\"ticks\":\"\"},\"colorscale\":[[0.0,\"#0d0887\"],[0.1111111111111111,\"#46039f\"],[0.2222222222222222,\"#7201a8\"],[0.3333333333333333,\"#9c179e\"],[0.4444444444444444,\"#bd3786\"],[0.5555555555555556,\"#d8576b\"],[0.6666666666666666,\"#ed7953\"],[0.7777777777777778,\"#fb9f3a\"],[0.8888888888888888,\"#fdca26\"],[1.0,\"#f0f921\"]]}],\"heatmap\":[{\"type\":\"heatmap\",\"colorbar\":{\"outlinewidth\":0,\"ticks\":\"\"},\"colorscale\":[[0.0,\"#0d0887\"],[0.1111111111111111,\"#46039f\"],[0.2222222222222222,\"#7201a8\"],[0.3333333333333333,\"#9c179e\"],[0.4444444444444444,\"#bd3786\"],[0.5555555555555556,\"#d8576b\"],[0.6666666666666666,\"#ed7953\"],[0.7777777777777778,\"#fb9f3a\"],[0.8888888888888888,\"#fdca26\"],[1.0,\"#f0f921\"]]}],\"heatmapgl\":[{\"type\":\"heatmapgl\",\"colorbar\":{\"outlinewidth\":0,\"ticks\":\"\"},\"colorscale\":[[0.0,\"#0d0887\"],[0.1111111111111111,\"#46039f\"],[0.2222222222222222,\"#7201a8\"],[0.3333333333333333,\"#9c179e\"],[0.4444444444444444,\"#bd3786\"],[0.5555555555555556,\"#d8576b\"],[0.6666666666666666,\"#ed7953\"],[0.7777777777777778,\"#fb9f3a\"],[0.8888888888888888,\"#fdca26\"],[1.0,\"#f0f921\"]]}],\"contourcarpet\":[{\"type\":\"contourcarpet\",\"colorbar\":{\"outlinewidth\":0,\"ticks\":\"\"}}],\"contour\":[{\"type\":\"contour\",\"colorbar\":{\"outlinewidth\":0,\"ticks\":\"\"},\"colorscale\":[[0.0,\"#0d0887\"],[0.1111111111111111,\"#46039f\"],[0.2222222222222222,\"#7201a8\"],[0.3333333333333333,\"#9c179e\"],[0.4444444444444444,\"#bd3786\"],[0.5555555555555556,\"#d8576b\"],[0.6666666666666666,\"#ed7953\"],[0.7777777777777778,\"#fb9f3a\"],[0.8888888888888888,\"#fdca26\"],[1.0,\"#f0f921\"]]}],\"surface\":[{\"type\":\"surface\",\"colorbar\":{\"outlinewidth\":0,\"ticks\":\"\"},\"colorscale\":[[0.0,\"#0d0887\"],[0.1111111111111111,\"#46039f\"],[0.2222222222222222,\"#7201a8\"],[0.3333333333333333,\"#9c179e\"],[0.4444444444444444,\"#bd3786\"],[0.5555555555555556,\"#d8576b\"],[0.6666666666666666,\"#ed7953\"],[0.7777777777777778,\"#fb9f3a\"],[0.8888888888888888,\"#fdca26\"],[1.0,\"#f0f921\"]]}],\"mesh3d\":[{\"type\":\"mesh3d\",\"colorbar\":{\"outlinewidth\":0,\"ticks\":\"\"}}],\"scatter\":[{\"fillpattern\":{\"fillmode\":\"overlay\",\"size\":10,\"solidity\":0.2},\"type\":\"scatter\"}],\"parcoords\":[{\"type\":\"parcoords\",\"line\":{\"colorbar\":{\"outlinewidth\":0,\"ticks\":\"\"}}}],\"scatterpolargl\":[{\"type\":\"scatterpolargl\",\"marker\":{\"colorbar\":{\"outlinewidth\":0,\"ticks\":\"\"}}}],\"bar\":[{\"error_x\":{\"color\":\"#2a3f5f\"},\"error_y\":{\"color\":\"#2a3f5f\"},\"marker\":{\"line\":{\"color\":\"#E5ECF6\",\"width\":0.5},\"pattern\":{\"fillmode\":\"overlay\",\"size\":10,\"solidity\":0.2}},\"type\":\"bar\"}],\"scattergeo\":[{\"type\":\"scattergeo\",\"marker\":{\"colorbar\":{\"outlinewidth\":0,\"ticks\":\"\"}}}],\"scatterpolar\":[{\"type\":\"scatterpolar\",\"marker\":{\"colorbar\":{\"outlinewidth\":0,\"ticks\":\"\"}}}],\"histogram\":[{\"marker\":{\"pattern\":{\"fillmode\":\"overlay\",\"size\":10,\"solidity\":0.2}},\"type\":\"histogram\"}],\"scattergl\":[{\"type\":\"scattergl\",\"marker\":{\"colorbar\":{\"outlinewidth\":0,\"ticks\":\"\"}}}],\"scatter3d\":[{\"type\":\"scatter3d\",\"line\":{\"colorbar\":{\"outlinewidth\":0,\"ticks\":\"\"}},\"marker\":{\"colorbar\":{\"outlinewidth\":0,\"ticks\":\"\"}}}],\"scattermapbox\":[{\"type\":\"scattermapbox\",\"marker\":{\"colorbar\":{\"outlinewidth\":0,\"ticks\":\"\"}}}],\"scatterternary\":[{\"type\":\"scatterternary\",\"marker\":{\"colorbar\":{\"outlinewidth\":0,\"ticks\":\"\"}}}],\"scattercarpet\":[{\"type\":\"scattercarpet\",\"marker\":{\"colorbar\":{\"outlinewidth\":0,\"ticks\":\"\"}}}],\"carpet\":[{\"aaxis\":{\"endlinecolor\":\"#2a3f5f\",\"gridcolor\":\"white\",\"linecolor\":\"white\",\"minorgridcolor\":\"white\",\"startlinecolor\":\"#2a3f5f\"},\"baxis\":{\"endlinecolor\":\"#2a3f5f\",\"gridcolor\":\"white\",\"linecolor\":\"white\",\"minorgridcolor\":\"white\",\"startlinecolor\":\"#2a3f5f\"},\"type\":\"carpet\"}],\"table\":[{\"cells\":{\"fill\":{\"color\":\"#EBF0F8\"},\"line\":{\"color\":\"white\"}},\"header\":{\"fill\":{\"color\":\"#C8D4E3\"},\"line\":{\"color\":\"white\"}},\"type\":\"table\"}],\"barpolar\":[{\"marker\":{\"line\":{\"color\":\"#E5ECF6\",\"width\":0.5},\"pattern\":{\"fillmode\":\"overlay\",\"size\":10,\"solidity\":0.2}},\"type\":\"barpolar\"}],\"pie\":[{\"automargin\":true,\"type\":\"pie\"}]},\"layout\":{\"autotypenumbers\":\"strict\",\"colorway\":[\"#636efa\",\"#EF553B\",\"#00cc96\",\"#ab63fa\",\"#FFA15A\",\"#19d3f3\",\"#FF6692\",\"#B6E880\",\"#FF97FF\",\"#FECB52\"],\"font\":{\"color\":\"#2a3f5f\"},\"hovermode\":\"closest\",\"hoverlabel\":{\"align\":\"left\"},\"paper_bgcolor\":\"white\",\"plot_bgcolor\":\"#E5ECF6\",\"polar\":{\"bgcolor\":\"#E5ECF6\",\"angularaxis\":{\"gridcolor\":\"white\",\"linecolor\":\"white\",\"ticks\":\"\"},\"radialaxis\":{\"gridcolor\":\"white\",\"linecolor\":\"white\",\"ticks\":\"\"}},\"ternary\":{\"bgcolor\":\"#E5ECF6\",\"aaxis\":{\"gridcolor\":\"white\",\"linecolor\":\"white\",\"ticks\":\"\"},\"baxis\":{\"gridcolor\":\"white\",\"linecolor\":\"white\",\"ticks\":\"\"},\"caxis\":{\"gridcolor\":\"white\",\"linecolor\":\"white\",\"ticks\":\"\"}},\"coloraxis\":{\"colorbar\":{\"outlinewidth\":0,\"ticks\":\"\"}},\"colorscale\":{\"sequential\":[[0.0,\"#0d0887\"],[0.1111111111111111,\"#46039f\"],[0.2222222222222222,\"#7201a8\"],[0.3333333333333333,\"#9c179e\"],[0.4444444444444444,\"#bd3786\"],[0.5555555555555556,\"#d8576b\"],[0.6666666666666666,\"#ed7953\"],[0.7777777777777778,\"#fb9f3a\"],[0.8888888888888888,\"#fdca26\"],[1.0,\"#f0f921\"]],\"sequentialminus\":[[0.0,\"#0d0887\"],[0.1111111111111111,\"#46039f\"],[0.2222222222222222,\"#7201a8\"],[0.3333333333333333,\"#9c179e\"],[0.4444444444444444,\"#bd3786\"],[0.5555555555555556,\"#d8576b\"],[0.6666666666666666,\"#ed7953\"],[0.7777777777777778,\"#fb9f3a\"],[0.8888888888888888,\"#fdca26\"],[1.0,\"#f0f921\"]],\"diverging\":[[0,\"#8e0152\"],[0.1,\"#c51b7d\"],[0.2,\"#de77ae\"],[0.3,\"#f1b6da\"],[0.4,\"#fde0ef\"],[0.5,\"#f7f7f7\"],[0.6,\"#e6f5d0\"],[0.7,\"#b8e186\"],[0.8,\"#7fbc41\"],[0.9,\"#4d9221\"],[1,\"#276419\"]]},\"xaxis\":{\"gridcolor\":\"white\",\"linecolor\":\"white\",\"ticks\":\"\",\"title\":{\"standoff\":15},\"zerolinecolor\":\"white\",\"automargin\":true,\"zerolinewidth\":2},\"yaxis\":{\"gridcolor\":\"white\",\"linecolor\":\"white\",\"ticks\":\"\",\"title\":{\"standoff\":15},\"zerolinecolor\":\"white\",\"automargin\":true,\"zerolinewidth\":2},\"scene\":{\"xaxis\":{\"backgroundcolor\":\"#E5ECF6\",\"gridcolor\":\"white\",\"linecolor\":\"white\",\"showbackground\":true,\"ticks\":\"\",\"zerolinecolor\":\"white\",\"gridwidth\":2},\"yaxis\":{\"backgroundcolor\":\"#E5ECF6\",\"gridcolor\":\"white\",\"linecolor\":\"white\",\"showbackground\":true,\"ticks\":\"\",\"zerolinecolor\":\"white\",\"gridwidth\":2},\"zaxis\":{\"backgroundcolor\":\"#E5ECF6\",\"gridcolor\":\"white\",\"linecolor\":\"white\",\"showbackground\":true,\"ticks\":\"\",\"zerolinecolor\":\"white\",\"gridwidth\":2}},\"shapedefaults\":{\"line\":{\"color\":\"#2a3f5f\"}},\"annotationdefaults\":{\"arrowcolor\":\"#2a3f5f\",\"arrowhead\":0,\"arrowwidth\":1},\"geo\":{\"bgcolor\":\"white\",\"landcolor\":\"#E5ECF6\",\"subunitcolor\":\"white\",\"showland\":true,\"showlakes\":true,\"lakecolor\":\"white\"},\"title\":{\"x\":0.05},\"mapbox\":{\"style\":\"light\"}}},\"xaxis\":{\"tickfont\":{\"size\":30,\"color\":\"black\"},\"title\":{\"text\":\"Month sin\",\"font\":{\"size\":35,\"color\":\"black\"}}},\"yaxis\":{\"tickfont\":{\"size\":30,\"color\":\"black\"},\"title\":{\"text\":\"Month cos\",\"font\":{\"size\":35,\"color\":\"black\"},\"standoff\":50}},\"width\":800,\"height\":800,\"margin\":{\"l\":0,\"r\":0,\"t\":0,\"b\":0}},                        {\"responsive\": true}                    ).then(function(){\n",
       "                            \n",
       "var gd = document.getElementById('18334e94-99c5-4be4-ab82-79b456401e54');\n",
       "var x = new MutationObserver(function (mutations, observer) {{\n",
       "        var display = window.getComputedStyle(gd).display;\n",
       "        if (!display || display === 'none') {{\n",
       "            console.log([gd, 'removed!']);\n",
       "            Plotly.purge(gd);\n",
       "            observer.disconnect();\n",
       "        }}\n",
       "}});\n",
       "\n",
       "// Listen for the removal of the full notebook cells\n",
       "var notebookContainer = gd.closest('#notebook-container');\n",
       "if (notebookContainer) {{\n",
       "    x.observe(notebookContainer, {childList: true});\n",
       "}}\n",
       "\n",
       "// Listen for the clearing of the current output cell\n",
       "var outputEl = gd.closest('.output');\n",
       "if (outputEl) {{\n",
       "    x.observe(outputEl, {childList: true});\n",
       "}}\n",
       "\n",
       "                        })                };                });            </script>        </div>"
      ]
     },
     "metadata": {},
     "output_type": "display_data"
    }
   ],
   "source": [
    "# Import of required libraries--------------------------------------------------\n",
    "import plotly.graph_objects as go\n",
    "from traffic.core import Traffic\n",
    "\n",
    "# Import of data and generation of subsets--------------------------------------\n",
    "t = Traffic.from_file(\n",
    "    \"/mnt/beegfs/store/krum/MT/encoded_scaled_split/t_val.parquet\"\n",
    ")\n",
    "sample = t.data.sample(10000)\n",
    "month_1 = sample.query(\"month == 1\")\n",
    "month_2 = sample.query(\"month == 2\")\n",
    "month_3 = sample.query(\"month == 3\")\n",
    "month_4 = sample.query(\"month == 4\")\n",
    "month_5 = sample.query(\"month == 5\")\n",
    "month_6 = sample.query(\"month == 6\")\n",
    "month_7 = sample.query(\"month == 7\")\n",
    "month_8 = sample.query(\"month == 8\")\n",
    "month_9 = sample.query(\"month == 9\")\n",
    "month_10 = sample.query(\"month == 10\")\n",
    "month_11 = sample.query(\"month == 11\")\n",
    "month_12 = sample.query(\"month == 12\")\n",
    "\n",
    "# Plot one sample per month-----------------------------------------------------\n",
    "fig = go.Figure()\n",
    "for i in range(1, 13):\n",
    "    temp = sample.query(f\"month == {i}\").iloc[0]\n",
    "    fig.add_trace(\n",
    "        go.Scatter(\n",
    "            x=[temp[\"month_sin\"]],\n",
    "            y=[temp[\"month_cos\"]],\n",
    "            mode=\"markers+text\",\n",
    "            text=[f\"<b>{i}</b>\"],\n",
    "            textposition=\"top center\",\n",
    "            name=f\"Month {i}\",\n",
    "            showlegend=False,\n",
    "            marker=dict(size=9, color=\"black\"),\n",
    "            textfont=dict(\n",
    "                size=30,\n",
    "                color=\"black\",\n",
    "            ),\n",
    "        )\n",
    "    )\n",
    "\n",
    "# Changes to make the plot look nicer-------------------------------------------\n",
    "fig.update_layout(\n",
    "    width=800,\n",
    "    height=800,\n",
    "    xaxis=dict(\n",
    "        title=\"Month sin\",\n",
    "        tickfont=dict(\n",
    "            size=30,\n",
    "            color=\"black\",\n",
    "        ),\n",
    "        title_font=dict(\n",
    "            size=35,\n",
    "            color=\"black\",\n",
    "        ),\n",
    "    ),\n",
    "    yaxis=dict(\n",
    "        title=\"Month cos\",\n",
    "        tickfont=dict(\n",
    "            size=30,\n",
    "            color=\"black\",\n",
    "        ),\n",
    "        title_font=dict(\n",
    "            size=35,\n",
    "            color=\"black\",\n",
    "        ),\n",
    "        title_standoff=50,\n",
    "    ),\n",
    ")\n",
    "fig.update_layout(\n",
    "    margin=dict(l=0, r=0, t=0, b=0),\n",
    ")\n",
    "\n",
    "fig.show()"
   ]
  }
 ],
 "metadata": {
  "kernelspec": {
   "display_name": "Poetry via SLURM MIAR",
   "language": "python",
   "name": "jupyter-eg-kernel-slurm-py39-poetry-1ho6psb1p"
  },
  "language_info": {
   "codemirror_mode": {
    "name": "ipython",
    "version": 3
   },
   "file_extension": ".py",
   "mimetype": "text/x-python",
   "name": "python",
   "nbconvert_exporter": "python",
   "pygments_lexer": "ipython3",
   "version": "3.11.7"
  }
 },
 "nbformat": 4,
 "nbformat_minor": 2
}
