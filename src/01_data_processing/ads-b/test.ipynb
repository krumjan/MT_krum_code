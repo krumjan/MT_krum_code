{
 "cells": [
  {
   "cell_type": "code",
   "execution_count": null,
   "metadata": {},
   "outputs": [],
   "source": [
    "import pandas as pd\n",
    "\n",
    "df_filed = pd.read_csv(\n",
    "    \"/home/krum/git/MT_krum_code/data/Flight_Points_Filed_20210901_20210930.csv.gz\",\n",
    "    compression=\"gzip\",\n",
    ")"
   ]
  },
  {
   "cell_type": "code",
   "execution_count": null,
   "metadata": {},
   "outputs": [],
   "source": [
    "df_filed.head()"
   ]
  },
  {
   "cell_type": "code",
   "execution_count": null,
   "metadata": {},
   "outputs": [],
   "source": [
    "df_flights = pd.read_csv(\n",
    "    \"/home/krum/git/MT_krum_code/data/Flights_20210901_20210930.csv.gz\",\n",
    "    compression=\"gzip\",\n",
    ")"
   ]
  },
  {
   "cell_type": "code",
   "execution_count": null,
   "metadata": {},
   "outputs": [],
   "source": [
    "df_flights.head()"
   ]
  },
  {
   "cell_type": "code",
   "execution_count": null,
   "metadata": {},
   "outputs": [],
   "source": [
    "df_flights[df_flights[\"ADEP\"] == \"LSZH\"].head()"
   ]
  },
  {
   "cell_type": "code",
   "execution_count": null,
   "metadata": {},
   "outputs": [],
   "source": [
    "ectrl = df_flights[df_flights[\"ADEP\"] == \"LSZH\"][\"ECTRL ID\"].to_list()"
   ]
  },
  {
   "cell_type": "code",
   "execution_count": null,
   "metadata": {},
   "outputs": [],
   "source": [
    "id = 1\n",
    "\n",
    "temp = df[df[\"ECTRL ID\"] == ectrl[id]]\n",
    "latitudes = temp[\"Latitude\"].to_list()\n",
    "longitudes = temp[\"Longitude\"].to_list()"
   ]
  },
  {
   "cell_type": "code",
   "execution_count": null,
   "metadata": {},
   "outputs": [],
   "source": [
    "import plotly.graph_objects as go\n",
    "import numpy as np\n",
    "\n",
    "fig = go.Figure()\n",
    "\n",
    "fig.add_trace(\n",
    "    go.Scattermapbox(\n",
    "        lat=latitudes,\n",
    "        lon=longitudes,\n",
    "        mode=\"markers + lines\",\n",
    "        marker=dict(size=9),\n",
    "        text=temp[\"ECTRL ID\"],\n",
    "    )\n",
    ")\n",
    "\n",
    "fig.update_layout(\n",
    "    mapbox=dict(\n",
    "        style=\"carto-positron\",\n",
    "        zoom=10,\n",
    "        center=dict(\n",
    "            lat=np.mean(latitudes),\n",
    "            lon=np.mean(longitudes),\n",
    "        ),\n",
    "    ),\n",
    ")\n",
    "\n",
    "fig.update_layout(\n",
    "    width=1200,\n",
    "    height=1000,\n",
    "    margin=dict(l=50, r=0, t=40, b=40),\n",
    ")\n",
    "\n",
    "fig.show()\n",
    "\n",
    "fig.show()"
   ]
  },
  {
   "cell_type": "code",
   "execution_count": null,
   "metadata": {},
   "outputs": [],
   "source": [
    "# Generate subplots------------------------------------------------------------\n",
    "fig = make_subplots(\n",
    "    rows=2,\n",
    "    cols=1,\n",
    "    specs=[[{\"type\": \"scattermapbox\"}], [{}]],\n",
    "    row_heights=[0.66, 0.33],\n",
    "    subplot_titles=(\"Position\", \"Altitude\"),\n",
    "    vertical_spacing=0.05,\n",
    ")\n",
    "\n",
    "# Add traces to the first plot (Position)--------------------------------------\n",
    "# Input\n",
    "fig.append_trace(\n",
    "    go.Scattermapbox(\n",
    "        mode=\"lines\",\n",
    "        lat=test_subset_in[x, :, 0].reshape(10),\n",
    "        lon=test_subset_in[x, :, 1].reshape(10),\n",
    "        line=dict(width=2, color=\"#636efa\"),\n",
    "        name=\"input\",\n",
    "    ),\n",
    "    row=1,\n",
    "    col=1,\n",
    ")\n",
    "\n",
    "# Actual\n",
    "fig.append_trace(\n",
    "    go.Scattermapbox(\n",
    "        mode=\"lines\",\n",
    "        lat=test_subset_out[x, :, 0].reshape(180),\n",
    "        lon=test_subset_out[x, :, 1].reshape(180),\n",
    "        line=dict(width=2, color=\"#ef553b\"),\n",
    "        name=\"actual\",\n",
    "    ),\n",
    "    row=1,\n",
    "    col=1,\n",
    ")\n",
    "\n",
    "# Predicted\n",
    "fig.append_trace(\n",
    "    go.Scattermapbox(\n",
    "        mode=\"lines\",\n",
    "        lat=prediction[x, :, 0].reshape(180),\n",
    "        lon=prediction[x, :, 1].reshape(180),\n",
    "        line=dict(width=2, color=\"#00cc96\"),\n",
    "        name=\"predicted\",\n",
    "    ),\n",
    "    row=1,\n",
    "    col=1,\n",
    ")"
   ]
  }
 ],
 "metadata": {
  "kernelspec": {
   "display_name": "Poetry via SLURM mt_krum_preproc",
   "language": "python",
   "name": "jupyter-eg-kernel-slurm-py39-poetry-1hno4mcl6"
  }
 },
 "nbformat": 4,
 "nbformat_minor": 2
}
