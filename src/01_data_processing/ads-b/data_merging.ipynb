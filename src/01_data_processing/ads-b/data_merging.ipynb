{
 "cells": [
  {
   "cell_type": "markdown",
   "metadata": {},
   "source": [
    "***\n",
    "#### Import of required libraries"
   ]
  },
  {
   "cell_type": "code",
   "execution_count": null,
   "metadata": {},
   "outputs": [],
   "source": [
    "import glob\n",
    "import warnings\n",
    "from os.path import join as opj\n",
    "\n",
    "from traffic.core import Traffic\n",
    "import pandas as pd\n",
    "\n",
    "warnings.simplefilter(action=\"ignore\", category=FutureWarning)"
   ]
  },
  {
   "cell_type": "markdown",
   "metadata": {},
   "source": [
    "***\n",
    "#### Import of MeteoSchweiz T/RH/P data"
   ]
  },
  {
   "cell_type": "code",
   "execution_count": null,
   "metadata": {},
   "outputs": [],
   "source": [
    "weather_data_path = \"/mnt/beegfs/store/MIAR/raw/meteo/T-RH_QFE-SMN_KLO\"\n",
    "list_csv = glob.glob(opj(weather_data_path, \"*.csv\"))\n",
    "df_weather = pd.concat(\n",
    "    [\n",
    "        pd.read_csv(\n",
    "            f,\n",
    "            sep=\";\",\n",
    "            header=None,\n",
    "            index_col=None,\n",
    "            parse_dates=False,\n",
    "            names=[\n",
    "                \"timestamp\",\n",
    "                \"temperature_gnd\",\n",
    "                \"humidity_gnd\",\n",
    "                \"pressure_gnd\",\n",
    "            ],\n",
    "        )\n",
    "        for f in list_csv\n",
    "    ],\n",
    "    axis=0,\n",
    ")\n",
    "df_weather[\"timestamp\"] = pd.to_datetime(\n",
    "    df_weather[\"timestamp\"], format=\"%d.%m.%Y %H:%M:%S\", utc=True\n",
    ")"
   ]
  },
  {
   "cell_type": "markdown",
   "metadata": {},
   "source": [
    "***\n",
    "#### Import of MeteoSchweiz wind data"
   ]
  },
  {
   "cell_type": "code",
   "execution_count": null,
   "metadata": {},
   "outputs": [],
   "source": [
    "wind_data_path = \"/mnt/beegfs/store/MIAR/raw/meteo/Wind_LSZH_2018-2023\"\n",
    "list_csv_C = glob.glob(\n",
    "    opj(wind_data_path, \"**/*Kloten_Wind_C*.csv.zip\"), recursive=True\n",
    ")\n",
    "\n",
    "\n",
    "def read_wind(list_csv: list) -> pd.DataFrame:\n",
    "    df_wind = pd.concat(\n",
    "        [\n",
    "            pd.read_csv(\n",
    "                f,\n",
    "                sep=\";\",\n",
    "                header=None,\n",
    "                index_col=0,\n",
    "                parse_dates=True,\n",
    "                names=[\"date\", \"wind_speed_gnd\", \"wind_direction_gnd\"],\n",
    "                usecols=[0, 1, 2],\n",
    "            )\n",
    "            for f in list_csv\n",
    "        ],\n",
    "        axis=0,\n",
    "    ).sort_index()\n",
    "    df_wind = df_wind.reset_index().rename(columns={\"date\": \"timestamp\"})\n",
    "    df_wind[\"timestamp\"] = df_wind[\"timestamp\"].dt.tz_localize(\"UTC\")\n",
    "    return df_wind\n",
    "\n",
    "\n",
    "wind_28 = read_wind(list_csv_C)"
   ]
  },
  {
   "cell_type": "markdown",
   "metadata": {},
   "source": [
    "***\n",
    "#### Import of FZAG mass/typecode data"
   ]
  },
  {
   "cell_type": "code",
   "execution_count": null,
   "metadata": {},
   "outputs": [],
   "source": [
    "fzag_data_path = \"/mnt/beegfs/store/MIAR/raw/FZAG\"\n",
    "df_departures = pd.read_csv(\n",
    "    f\"{fzag_data_path}/df_departure.csv\",\n",
    "    sep=\",\",\n",
    "    header=0,\n",
    "    index_col=0,\n",
    ")\n",
    "df_departures = (\n",
    "    pd.read_csv(\n",
    "        f\"{fzag_data_path}/df_departure.csv\", sep=\",\", header=0, index_col=0\n",
    "    )\n",
    "    .rename(\n",
    "        columns={\n",
    "            \"SDT\": \"date\",\n",
    "            \"CSG\": \"callsign\",\n",
    "            \"TWT\": \"toff_weight_kg\",\n",
    "            \"ITY\": \"typecode\",\n",
    "        }\n",
    "    )\n",
    "    .drop(columns=[\"REG\"])\n",
    ")\n",
    "df_departures[\"date\"] = pd.to_datetime(df_departures[\"date\"])"
   ]
  },
  {
   "cell_type": "markdown",
   "metadata": {},
   "source": [
    "***\n",
    "#### Import of ADS-B data"
   ]
  },
  {
   "cell_type": "code",
   "execution_count": null,
   "metadata": {},
   "outputs": [],
   "source": [
    "t = Traffic.from_file(\n",
    "    \"/mnt/beegfs/store/MIAR/raw/adsb_osn/LSZH/05_category_runway_overall/\"\n",
    "    \"departure_28.parquet\"\n",
    ")"
   ]
  },
  {
   "cell_type": "code",
   "execution_count": null,
   "metadata": {},
   "outputs": [],
   "source": [
    "t = Traffic.from_file(\n",
    "    \"/mnt/beegfs/store/MIAR/raw/adsb_osn/LSZH/05_category_runway_overall/\"\n",
    "    \"departure_28.parquet\"\n",
    ")\n",
    "\n",
    "\n",
    "def after_aligned(flight):\n",
    "    try:\n",
    "        t_start = flight.aligned_on_runway(\"LSZH\")[0].stop\n",
    "        flight.data = flight.data[flight.data.timestamp > t_start]\n",
    "        if len(flight) > 200:\n",
    "            return flight\n",
    "    except:\n",
    "        pass\n",
    "\n",
    "\n",
    "t.data[\"date\"] = pd.to_datetime(t.data[\"timestamp\"].dt.date)\n",
    "\n",
    "t = (\n",
    "    t.iterate_lazy()\n",
    "    .pipe(after_aligned)\n",
    "    .filter(\"aggressive\")\n",
    "    .query(\"altitude < 18000\")\n",
    "    .query(\"date <= '2023-09-30'\")\n",
    "    .resample(\"1s\")\n",
    "    .eval(desc=\"processing\", max_workers=25)\n",
    ")"
   ]
  },
  {
   "cell_type": "markdown",
   "metadata": {},
   "source": [
    "***\n",
    "#### Merging of data"
   ]
  },
  {
   "cell_type": "code",
   "execution_count": null,
   "metadata": {},
   "outputs": [],
   "source": [
    "# FZAG mass/typecode data\n",
    "t.data = pd.merge(\n",
    "    left=t.data,\n",
    "    right=df_departures,\n",
    "    left_on=[\"date\", \"callsign\"],\n",
    "    right_on=[\"date\", \"callsign\"],\n",
    "    how=\"left\",\n",
    ")\n",
    "\n",
    "# MeteoSchweiz wind data\n",
    "t.data = pd.merge_asof(\n",
    "    left=t.data.sort_values(\"timestamp\"),\n",
    "    right=wind_28.sort_values(\"timestamp\"),\n",
    "    on=\"timestamp\",\n",
    "    tolerance=pd.Timedelta(\"30min\"),\n",
    ")\n",
    "\n",
    "# MeteoSchweiz T/RH/P data\n",
    "t.data = pd.merge_asof(\n",
    "    left=t.data.sort_values(\"timestamp\"),\n",
    "    right=df_weather.sort_values(\"timestamp\"),\n",
    "    on=\"timestamp\",\n",
    "    tolerance=pd.Timedelta(\"30min\"),\n",
    ")\n",
    "\n",
    "# Only keep flights with complete weather data\n",
    "t = t.query(\n",
    "    \"wind_speed_gnd.notna() and wind_direction_gnd.notna() and \"\n",
    "    \"temperature_gnd.notna() and humidity_gnd.notna() and pressure_gnd.notna()\"\n",
    ")\n",
    "\n",
    "# Create an additional dataset only containing flights with mass data\n",
    "t_w = t.query(\"toff_weight_kg.notna()\")"
   ]
  },
  {
   "cell_type": "markdown",
   "metadata": {},
   "source": [
    "***\n",
    "#### Data export"
   ]
  },
  {
   "cell_type": "code",
   "execution_count": null,
   "metadata": {},
   "outputs": [],
   "source": [
    "output_dir = \"/mnt/beegfs/store/MIAR/merged/osn\"\n",
    "t.to_parquet(f\"{output_dir}/takeoffs28_all_complete.parquet\")\n",
    "t_w.to_parquet(f\"{output_dir}/takeoffs28_mass_complete.parquet\")"
   ]
  }
 ],
 "metadata": {
  "kernelspec": {
   "display_name": "Poetry via SLURM mt_krum",
   "language": "python",
   "name": "jupyter-eg-kernel-slurm-py39-poetry-1hn8hr8le"
  },
  "language_info": {
   "codemirror_mode": {
    "name": "ipython",
    "version": 3
   },
   "file_extension": ".py",
   "mimetype": "text/x-python",
   "name": "python",
   "nbconvert_exporter": "python",
   "pygments_lexer": "ipython3",
   "version": "3.11.7"
  }
 },
 "nbformat": 4,
 "nbformat_minor": 2
}
