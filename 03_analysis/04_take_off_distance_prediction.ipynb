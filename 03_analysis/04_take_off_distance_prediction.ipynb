{
 "cells": [
  {
   "cell_type": "markdown",
   "metadata": {},
   "source": [
    "***\n",
    "### Import of required libraries\n",
    "***"
   ]
  },
  {
   "cell_type": "code",
   "execution_count": null,
   "metadata": {},
   "outputs": [],
   "source": [
    "import pickle\n",
    "\n",
    "import numpy as np\n",
    "import pandas as pd\n",
    "import matplotlib.pyplot as plt\n",
    "import plotly.graph_objects as go\n",
    "import tensorflow as tf\n",
    "from tensorflow.keras.models import load_model\n",
    "from geopy.distance import distance\n",
    "\n",
    "from traffic.core import Traffic\n",
    "from tqdm.auto import tqdm"
   ]
  },
  {
   "cell_type": "markdown",
   "metadata": {},
   "source": [
    "***\n",
    "### Import of data, model and scalers\n",
    "***"
   ]
  },
  {
   "cell_type": "markdown",
   "metadata": {},
   "source": [
    "##### Trajectory data"
   ]
  },
  {
   "cell_type": "code",
   "execution_count": null,
   "metadata": {},
   "outputs": [],
   "source": [
    "t = Traffic.from_file(\n",
    "    \"/mnt/beegfs/store/krum/MT/encoded_scaled_split/t_test.parquet\"\n",
    ")"
   ]
  },
  {
   "cell_type": "markdown",
   "metadata": {},
   "source": [
    "##### Model"
   ]
  },
  {
   "cell_type": "code",
   "execution_count": null,
   "metadata": {},
   "outputs": [],
   "source": [
    "def rmse_lat():\n",
    "    return None\n",
    "\n",
    "\n",
    "def rmse_lon():\n",
    "    return None\n",
    "\n",
    "\n",
    "def rmse_alt():\n",
    "    return None\n",
    "\n",
    "\n",
    "model = load_model(\n",
    "    f\"/home/krum/git/MT_krum_code/models/revived-snowflake-235.keras\",\n",
    "    custom_objects={\n",
    "        \"rmse_lat\": rmse_lat,\n",
    "        \"rmse_lon\": rmse_lon,\n",
    "        \"rmse_alt\": rmse_alt,\n",
    "        \"weighted_mse\": tf.keras.losses.MeanSquaredError(),\n",
    "    },\n",
    ")"
   ]
  },
  {
   "cell_type": "markdown",
   "metadata": {},
   "source": [
    "##### Scalers"
   ]
  },
  {
   "cell_type": "code",
   "execution_count": null,
   "metadata": {},
   "outputs": [],
   "source": [
    "# scaler_in\n",
    "with open(\n",
    "    \"/mnt/beegfs/store/krum/MT/encoded_scaled_split/scaler_in.pkl\",\n",
    "    \"rb\",\n",
    ") as file:\n",
    "    scaler_in = pickle.load(file)\n",
    "\n",
    "# scaler_out\n",
    "with open(\n",
    "    \"/mnt/beegfs/store/krum/MT/encoded_scaled_split/scaler_out.pkl\",\n",
    "    \"rb\",\n",
    ") as file:\n",
    "    scaler_out = pickle.load(file)"
   ]
  },
  {
   "cell_type": "markdown",
   "metadata": {},
   "source": [
    "***\n",
    "### Take-off distance determination\n",
    "***"
   ]
  },
  {
   "cell_type": "markdown",
   "metadata": {},
   "source": [
    "#### For each flight, determine predicted and actual Take-off distance"
   ]
  },
  {
   "cell_type": "code",
   "execution_count": null,
   "metadata": {},
   "outputs": [],
   "source": [
    "# Function to calculate distance between two points contained in rows\n",
    "def calculate_distance(row1, row2):\n",
    "    coords_1 = (row1[\"latitude\"], row1[\"longitude\"])\n",
    "    coords_2 = (row2[\"latitude\"], row2[\"longitude\"])\n",
    "    return distance(coords_1, coords_2).meters\n",
    "\n",
    "\n",
    "# Lists to store actual and predicted take-off distances\n",
    "actual_to_dist_m = []\n",
    "pred_to_dist_m = []\n",
    "\n",
    "# Iterate over flights\n",
    "for flight in tqdm(t):\n",
    "    try:\n",
    "        # Determine actual take-off distance and add to list--------------------\n",
    "        flightdata = flight.cumulative_distance().data\n",
    "        flightdata[\"cumdist_m\"] = flightdata[\"cumdist\"] * 1852\n",
    "        runalt_m = ((flightdata[0:10].altitude) / 3.281).mean()\n",
    "        flightdata[\"agl_m\"] = (flightdata.altitude / 3.281) - runalt_m\n",
    "        flightdata[\"status\"] = np.where(flightdata[\"agl_m\"] >= 50, \"air\", \"ground\")\n",
    "        to_dist_m = round(\n",
    "            flightdata[flightdata[\"status\"] == \"air\"][\"cumdist_m\"].iloc[0]\n",
    "        )\n",
    "        actual_to_dist_m.append(to_dist_m)\n",
    "\n",
    "        # Determine predicted take-off distance and add to list-----------------\n",
    "        # Generate prediction for first input and unscale\n",
    "        f_in_var_unscaled = flight.data[\n",
    "            [\n",
    "                \"latitude\",\n",
    "                \"longitude\",\n",
    "                \"altitude\",\n",
    "            ]\n",
    "        ].iloc[0:10]\n",
    "\n",
    "        input_var = (\n",
    "            flight.data[\n",
    "                [\n",
    "                    \"latitude_scaled\",\n",
    "                    \"longitude_scaled\",\n",
    "                    \"altitude_scaled\",\n",
    "                    \"wind_x_2min_avg_scaled\",\n",
    "                    \"wind_y_2min_avg_scaled\",\n",
    "                    \"temperature_gnd_scaled\",\n",
    "                    \"humidity_gnd_scaled\",\n",
    "                    \"pressure_gnd_scaled\",\n",
    "                ]\n",
    "            ]\n",
    "            .iloc[0:10]\n",
    "            .to_numpy()\n",
    "            .reshape(1, 10, 8)\n",
    "        )\n",
    "\n",
    "        input_con = (\n",
    "            flight.data[\n",
    "                [\n",
    "                    \"toff_weight_kg_scaled\",\n",
    "                    \"typecode_A20N\",\n",
    "                    \"typecode_A21N\",\n",
    "                    \"typecode_A319\",\n",
    "                    \"typecode_A320\",\n",
    "                    \"typecode_A321\",\n",
    "                    \"typecode_A333\",\n",
    "                    \"typecode_A343\",\n",
    "                    \"typecode_B77W\",\n",
    "                    \"typecode_BCS1\",\n",
    "                    \"typecode_BCS3\",\n",
    "                    \"typecode_CRJ9\",\n",
    "                    \"typecode_DH8D\",\n",
    "                    \"typecode_E190\",\n",
    "                    \"typecode_E195\",\n",
    "                    \"typecode_E290\",\n",
    "                    \"typecode_E295\",\n",
    "                    \"typecode_F100\",\n",
    "                    \"typecode_SB20\",\n",
    "                    \"SID_DEGES\",\n",
    "                    \"SID_GERSA\",\n",
    "                    \"SID_VEBIT\",\n",
    "                    \"SID_ZUE\",\n",
    "                    \"hour_sin\",\n",
    "                    \"hour_cos\",\n",
    "                    \"weekday_sin\",\n",
    "                    \"weekday_cos\",\n",
    "                    \"month_sin\",\n",
    "                    \"month_cos\",\n",
    "                ]\n",
    "            ]\n",
    "            .iloc[10]\n",
    "            .to_numpy()\n",
    "            .reshape(1, 1, 29)\n",
    "        )\n",
    "        output = model.predict((input_var, input_con), verbose=0)\n",
    "        output_unscaled = scaler_out.inverse_transform(output.reshape(-1, 3)).reshape(\n",
    "            37, 3\n",
    "        )[1:, :]\n",
    "\n",
    "        # Create dataframe containing input and prediction and resample to 1s\n",
    "        df_in = f_in_var_unscaled\n",
    "        df_out = pd.DataFrame(\n",
    "            output_unscaled, columns=[\"latitude\", \"longitude\", \"altitude\"]\n",
    "        )\n",
    "        df_out[\"Time\"] = [i * 5 for i in range(len(df_out))]\n",
    "        df_out.set_index(\"Time\", inplace=True)\n",
    "        time_index = pd.RangeIndex(start=0, stop=df_out.index[-1] + 1, step=1)\n",
    "        df_out = df_out.reindex(time_index)\n",
    "        df_out = df_out.interpolate(method=\"linear\")\n",
    "        df_out.reset_index(inplace=True)\n",
    "        df_out.rename(columns={\"index\": \"Time\"}, inplace=True)\n",
    "        df = pd.concat([df_in, df_out]).reset_index(drop=True)\n",
    "\n",
    "        # Calculate AGL altitude and add to new column\n",
    "        df[\"agl_m\"] = (df.altitude / 3.281) - runalt_m\n",
    "\n",
    "        # Calculate travelled distance and add to new column\n",
    "        dist_diff = df.apply(\n",
    "            lambda row: (\n",
    "                calculate_distance(df.loc[row.name - 1], row) if row.name > 0 else 0\n",
    "            ),\n",
    "            axis=1,\n",
    "        )\n",
    "        df[\"cumdist\"] = dist_diff.cumsum()\n",
    "\n",
    "        # Determine distance and add to list\n",
    "        to_dist_pred = round(df[df[\"agl_m\"] >= 50][\"cumdist\"].iloc[0])\n",
    "        pred_to_dist_m.append(to_dist_pred)\n",
    "    except:\n",
    "        print(\"No detectable take-off\")"
   ]
  },
  {
   "cell_type": "markdown",
   "metadata": {},
   "source": [
    "#### Combine into one dataframe and compute"
   ]
  },
  {
   "cell_type": "code",
   "execution_count": null,
   "metadata": {},
   "outputs": [],
   "source": [
    "# Convert lists to Pandas Series\n",
    "pred_to_dist_m_series = pd.Series(pred_to_dist_m, name=\"Predicted\")\n",
    "actual_to_dist_m_series = pd.Series(actual_to_dist_m, name=\"Actual\")\n",
    "\n",
    "# Combine series into DataFrame\n",
    "df_to = pd.concat([pred_to_dist_m_series, actual_to_dist_m_series], axis=1)\n",
    "\n",
    "# Calculate the error between predicted and actual take-off distances\n",
    "df_to['Error'] = df_to[\"Predicted\"] - df_to[\"Actual\"]"
   ]
  },
  {
   "cell_type": "markdown",
   "metadata": {},
   "source": [
    "***\n",
    "### Visualisation\n",
    "***"
   ]
  },
  {
   "cell_type": "markdown",
   "metadata": {},
   "source": [
    "#### Histograms of predicted and actual distances"
   ]
  },
  {
   "cell_type": "code",
   "execution_count": null,
   "metadata": {},
   "outputs": [],
   "source": [
    "# Generate histogram\n",
    "fig = go.Figure()\n",
    "fig.add_trace(go.Histogram(x=df_to[\"Predicted\"], name=\"Predicted\", xbins=dict(size=50)))\n",
    "fig.add_trace(go.Histogram(x=df_to[\"Actual\"], name=\"Actual\", xbins=dict(size=50)))\n",
    "\n",
    "# Adding a vertical line at x=2500 for the end of the runway\n",
    "fig.add_shape(\n",
    "    dict(\n",
    "        type=\"line\",\n",
    "        x0=2500,\n",
    "        y0=0,\n",
    "        x1=2500,\n",
    "        y1=1,\n",
    "        xref=\"x\",\n",
    "        yref=\"paper\",\n",
    "        line=dict(\n",
    "            color=\"black\",\n",
    "            width=2,\n",
    "            dash=\"dashdot\",\n",
    "        ),\n",
    "    ),\n",
    "    name=\"End of runway\",\n",
    "    showlegend=True,\n",
    ")\n",
    "\n",
    "# Update Figure layout\n",
    "fig.update_layout(\n",
    "    autosize=True,\n",
    "    height=450,\n",
    "    barmode=\"overlay\",\n",
    "    # title=\"Take-off distance histogram\",\n",
    "    margin=dict(l=20, r=20, t=20, b=20),\n",
    "    xaxis_title=\"Take-off distance [m]\",\n",
    "    yaxis_title=\"Count\",\n",
    "    width=1000,\n",
    ")\n",
    "\n",
    "fig.update_xaxes(range=[0, 3000])\n",
    "\n",
    "fig.update_traces(opacity=0.4)\n",
    "\n",
    "# Show plot\n",
    "fig.show()"
   ]
  },
  {
   "cell_type": "markdown",
   "metadata": {},
   "source": [
    "#### Boxplot of take-off distance errors"
   ]
  },
  {
   "cell_type": "code",
   "execution_count": null,
   "metadata": {},
   "outputs": [],
   "source": [
    "# Generate a boxplot of the error series\n",
    "plt.figure(figsize=(10, 4))\n",
    "plt.boxplot(\n",
    "    df_to.dropna()[\"Error\"],\n",
    "    vert=False,\n",
    "    patch_artist=True,\n",
    "    boxprops=dict(facecolor=\"lightblue\"),\n",
    "    medianprops=dict(color=\"black\"),\n",
    "    showfliers=False,\n",
    ")\n",
    "\n",
    "# Update plot layout\n",
    "plt.title(\"Take-off distance prediction error (Predicted - Actual)\")\n",
    "plt.xlabel(\"Error [m]\")\n",
    "plt.yticks([])\n",
    "plt.grid(axis='x', linestyle='--', linewidth=0.7)\n",
    "\n",
    "# Display the plot\n",
    "plt.show()"
   ]
  }
 ],
 "metadata": {
  "kernelspec": {
   "display_name": "Poetry via SLURM MIAR",
   "language": "python",
   "name": "jupyter-eg-kernel-slurm-py39-poetry-1ho6psb1p"
  }
 },
 "nbformat": 4,
 "nbformat_minor": 2
}
