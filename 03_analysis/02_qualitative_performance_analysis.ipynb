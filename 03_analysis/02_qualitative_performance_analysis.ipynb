{
 "cells": [
  {
   "cell_type": "markdown",
   "metadata": {},
   "source": [
    "***\n",
    "### Import of required libraries\n",
    "***"
   ]
  },
  {
   "cell_type": "code",
   "execution_count": null,
   "metadata": {},
   "outputs": [],
   "source": [
    "import pickle\n",
    "\n",
    "import numpy as np\n",
    "import pandas as pd\n",
    "import matplotlib.pyplot as plt\n",
    "import tensorflow as tf\n",
    "from tensorflow.keras.models import load_model\n",
    "from haversine import haversine_vector, Unit\n",
    "\n",
    "from traffic.core import Traffic"
   ]
  },
  {
   "cell_type": "markdown",
   "metadata": {},
   "source": [
    "***\n",
    "### Import of data, model and scalers\n",
    "***"
   ]
  },
  {
   "cell_type": "markdown",
   "metadata": {},
   "source": [
    "##### Data"
   ]
  },
  {
   "cell_type": "code",
   "execution_count": null,
   "metadata": {},
   "outputs": [],
   "source": [
    "test_in_con = np.load(\"/mnt/beegfs/store/krum/MT/samples/test_in32_con.npy\")\n",
    "test_in_var = np.load(\"/mnt/beegfs/store/krum/MT/samples/test_in32_var.npy\")\n",
    "test_out = np.load(\"/mnt/beegfs/store/krum/MT/samples/test_out32.npy\")"
   ]
  },
  {
   "cell_type": "markdown",
   "metadata": {},
   "source": [
    "##### Model"
   ]
  },
  {
   "cell_type": "code",
   "execution_count": null,
   "metadata": {},
   "outputs": [],
   "source": [
    "def rmse_lat():\n",
    "    return None\n",
    "\n",
    "\n",
    "def rmse_lon():\n",
    "    return None\n",
    "\n",
    "\n",
    "def rmse_alt():\n",
    "    return None\n",
    "\n",
    "\n",
    "model = load_model(\n",
    "    f\"/home/krum/git/MT_krum_code/models/snowy-gorge-126.keras\",\n",
    "    custom_objects={\n",
    "        \"rmse_lat\": rmse_lat,\n",
    "        \"rmse_lon\": rmse_lon,\n",
    "        \"rmse_alt\": rmse_alt,\n",
    "        \"weighted_mse\": tf.keras.losses.MeanSquaredError(),\n",
    "    },\n",
    ")"
   ]
  },
  {
   "cell_type": "markdown",
   "metadata": {},
   "source": [
    "##### Scalers"
   ]
  },
  {
   "cell_type": "code",
   "execution_count": null,
   "metadata": {},
   "outputs": [],
   "source": [
    "# scaler_in\n",
    "with open(\n",
    "    \"/mnt/beegfs/store/krum/MT/encoded_scaled_split/scaler_in.pkl\",\n",
    "    \"rb\",\n",
    ") as file:\n",
    "    scaler_in = pickle.load(file)\n",
    "\n",
    "# scaler_out\n",
    "with open(\n",
    "    \"/mnt/beegfs/store/krum/MT/encoded_scaled_split/scaler_out.pkl\",\n",
    "    \"rb\",\n",
    ") as file:\n",
    "    scaler_out = pickle.load(file)"
   ]
  },
  {
   "cell_type": "markdown",
   "metadata": {},
   "source": [
    "***\n",
    "### Application of model to get prediction on test set\n",
    "***"
   ]
  },
  {
   "cell_type": "markdown",
   "metadata": {},
   "source": [
    "##### Model application"
   ]
  },
  {
   "cell_type": "code",
   "execution_count": null,
   "metadata": {},
   "outputs": [],
   "source": [
    "# to be uncommented !\n",
    "# prediction = model.predict((test_in_var, test_in_con))"
   ]
  },
  {
   "cell_type": "code",
   "execution_count": null,
   "metadata": {},
   "outputs": [],
   "source": [
    "# Temp, to be removed !\n",
    "# np.save(\n",
    "#     f\"/home/krum/git/MT_krum_code/03_analysis/predictions_with_mass.npy\",\n",
    "#     prediction,\n",
    "# )\n",
    "prediction = np.load(\n",
    "    f\"/home/krum/git/MT_krum_code/03_analysis/predictions_with_mass.npy\",\n",
    ")"
   ]
  },
  {
   "cell_type": "markdown",
   "metadata": {},
   "source": [
    "##### Unscaling"
   ]
  },
  {
   "cell_type": "code",
   "execution_count": null,
   "metadata": {},
   "outputs": [],
   "source": [
    "# Predictions\n",
    "prediction_unscaled = scaler_out.inverse_transform(\n",
    "    prediction.reshape(-1, 3)\n",
    ").reshape(-1, 37, 3)[:, 1:, :]\n",
    "\n",
    "# True values\n",
    "test_out_unscaled = scaler_out.inverse_transform(\n",
    "    test_out.reshape(-1, 3)\n",
    ").reshape(-1, 37, 3)[:, 1:, :]"
   ]
  },
  {
   "cell_type": "markdown",
   "metadata": {},
   "source": [
    "***\n",
    "### Analysis of altitude prediction error\n",
    "***"
   ]
  },
  {
   "cell_type": "markdown",
   "metadata": {},
   "source": [
    "##### Error calculation"
   ]
  },
  {
   "cell_type": "code",
   "execution_count": null,
   "metadata": {},
   "outputs": [],
   "source": [
    "# Computation of altitude error and conversion from feet to meters\n",
    "altitude_diff_m = (\n",
    "    prediction_unscaled[:, :, 2] - test_out_unscaled[:, :, 2]\n",
    ") / 3.281"
   ]
  },
  {
   "cell_type": "markdown",
   "metadata": {},
   "source": [
    "##### Visualisation"
   ]
  },
  {
   "cell_type": "code",
   "execution_count": null,
   "metadata": {},
   "outputs": [],
   "source": [
    "# Generate boxplots\n",
    "plt.figure(figsize=(20, 10))\n",
    "\n",
    "# Create boxplot for each timestep (prediction horizon)\n",
    "plt.boxplot(\n",
    "    [altitude_diff_m[:, i] for i in range(36)],\n",
    "    positions=range(36),\n",
    "    patch_artist=True,\n",
    "    boxprops=dict(facecolor=\"lightblue\", color=\"black\"),\n",
    "    medianprops=dict(color=\"black\"),\n",
    "    whiskerprops=dict(color=\"black\"),\n",
    "    capprops=dict(color=\"black\"),\n",
    "    showfliers=False,\n",
    ")\n",
    "\n",
    "# Set plot axis labels and ticks\n",
    "plt.xlabel(\"Prediction horizon [s]\", fontsize=14)\n",
    "plt.ylabel(\"Altitude prediction error [m]\", fontsize=14)\n",
    "plt.xticks(\n",
    "    ticks=range(0, 36, 1),\n",
    "    labels=[str(i) for i in range(5, 185, 5)],\n",
    "    rotation=45,\n",
    ")\n",
    "plt.yticks(ticks=np.arange(-500, 500, 100))\n",
    "\n",
    "# Set grid\n",
    "plt.grid(True, which=\"both\", linestyle=\"--\", linewidth=0.5)\n",
    "plt.gca().patch.set_alpha(0.3)\n",
    "\n",
    "# Show plot\n",
    "plt.show()"
   ]
  },
  {
   "cell_type": "markdown",
   "metadata": {},
   "source": [
    "***\n",
    "### Analysis of position prediction error\n",
    "***"
   ]
  },
  {
   "cell_type": "markdown",
   "metadata": {},
   "source": [
    "##### Error calculation"
   ]
  },
  {
   "cell_type": "code",
   "execution_count": null,
   "metadata": {},
   "outputs": [],
   "source": [
    "# Extraction of latitudes and longitudes\n",
    "pred_lat = prediction_unscaled[:, :, 0].flatten()\n",
    "pred_lon = prediction_unscaled[:, :, 1].flatten()\n",
    "test_lat = test_out_unscaled[:, :, 0].flatten()\n",
    "test_lon = test_out_unscaled[:, :, 1].flatten()\n",
    "\n",
    "# Computation of latitude and longitude errors\n",
    "lat_error = (pred_lat - test_lat).reshape(prediction_unscaled.shape[0], 36)\n",
    "lon_error = (pred_lon - test_lon).reshape(prediction_unscaled.shape[0], 36)\n",
    "\n",
    "\n",
    "# Computation of 2d position errors [m] using haversine formula\n",
    "pred_lat = prediction_unscaled[:, :, 0].flatten()\n",
    "pred_lon = prediction_unscaled[:, :, 1].flatten()\n",
    "test_lat = test_out_unscaled[:, :, 0].flatten()\n",
    "test_lon = test_out_unscaled[:, :, 1].flatten()\n",
    "\n",
    "positions_pred = np.column_stack((pred_lat, pred_lon))\n",
    "positions_actual = np.column_stack((test_lat, test_lon))\n",
    "\n",
    "position_error_m = haversine_vector(positions_pred, positions_actual, unit=Unit.METERS)\n",
    "position_error_m = position_error_m.reshape(prediction_unscaled.shape[0], 36)"
   ]
  },
  {
   "cell_type": "markdown",
   "metadata": {},
   "source": [
    "##### Visualisation latitude error"
   ]
  },
  {
   "cell_type": "code",
   "execution_count": null,
   "metadata": {},
   "outputs": [],
   "source": [
    "# Generate boxplots\n",
    "plt.figure(figsize=(20, 10))\n",
    "\n",
    "# Create boxplot for each timestep (prediction horizon)\n",
    "plt.boxplot(\n",
    "    [lat_error[:, i] for i in range(36)],\n",
    "    positions=range(36),\n",
    "    patch_artist=True,\n",
    "    boxprops=dict(facecolor=\"lightblue\", color=\"black\"),\n",
    "    medianprops=dict(color=\"black\"),\n",
    "    whiskerprops=dict(color=\"black\"),\n",
    "    capprops=dict(color=\"black\"),\n",
    "    showfliers=False,\n",
    ")\n",
    "\n",
    "# Set plot axis labels and ticks\n",
    "plt.xlabel(\"Prediction horizon [s]\", fontsize=14)\n",
    "plt.ylabel(\"Latitude prediction error [°]\", fontsize=14)\n",
    "plt.xticks(\n",
    "    ticks=range(0, 36, 1),\n",
    "    labels=[str(i) for i in range(5, 185, 5)],\n",
    "    rotation=45,\n",
    ")\n",
    "plt.yticks(ticks=np.arange(-0.07, 0.07, 0.005))\n",
    "\n",
    "# Set grid\n",
    "plt.grid(True, which=\"both\", linestyle=\"--\", linewidth=0.5)\n",
    "plt.gca().patch.set_alpha(0.3)\n",
    "\n",
    "# Show plot\n",
    "plt.show()"
   ]
  },
  {
   "cell_type": "markdown",
   "metadata": {},
   "source": [
    "##### Visualisation longitude error"
   ]
  },
  {
   "cell_type": "code",
   "execution_count": null,
   "metadata": {},
   "outputs": [],
   "source": [
    "# Generate boxplots\n",
    "plt.figure(figsize=(20, 10))\n",
    "\n",
    "# Create boxplot for each timestep (prediction horizon)\n",
    "plt.boxplot(\n",
    "    [lon_error[:, i] for i in range(36)],\n",
    "    positions=range(36),\n",
    "    patch_artist=True,\n",
    "    boxprops=dict(facecolor=\"lightblue\", color=\"black\"),\n",
    "    medianprops=dict(color=\"black\"),\n",
    "    whiskerprops=dict(color=\"black\"),\n",
    "    capprops=dict(color=\"black\"),\n",
    "    showfliers=False,\n",
    ")\n",
    "\n",
    "# Set plot axis labels and ticks\n",
    "plt.xlabel(\"Prediction horizon [s]\", fontsize=14)\n",
    "plt.ylabel(\"Longitude prediction error [m]\", fontsize=14)\n",
    "plt.xticks(\n",
    "    ticks=range(0, 36, 1),\n",
    "    labels=[str(i) for i in range(5, 185, 5)],\n",
    "    rotation=45,\n",
    ")\n",
    "plt.yticks(ticks=np.arange(-0.085, 0.085, 0.005))\n",
    "\n",
    "# Set grid\n",
    "plt.grid(True, which=\"both\", linestyle=\"--\", linewidth=0.5)\n",
    "plt.gca().patch.set_alpha(0.3)\n",
    "\n",
    "# Show plot\n",
    "plt.show()"
   ]
  },
  {
   "cell_type": "markdown",
   "metadata": {},
   "source": [
    "##### Visualisation of 2d position error"
   ]
  },
  {
   "cell_type": "code",
   "execution_count": null,
   "metadata": {},
   "outputs": [],
   "source": [
    "# Generate boxplots\n",
    "plt.figure(figsize=(20, 10))\n",
    "\n",
    "# Create boxplot for each timestep (prediction horizon)\n",
    "plt.boxplot(\n",
    "    [position_error_m[:, i] for i in range(36)],\n",
    "    positions=range(36),\n",
    "    patch_artist=True,\n",
    "    boxprops=dict(facecolor=\"lightblue\", color=\"black\"),\n",
    "    medianprops=dict(color=\"black\"),\n",
    "    whiskerprops=dict(color=\"black\"),\n",
    "    capprops=dict(color=\"black\"),\n",
    "    showfliers=False,\n",
    ")\n",
    "\n",
    "# Set plot axis labels and ticks\n",
    "plt.xlabel(\"Prediction horizon [s]\", fontsize=14)\n",
    "plt.ylabel(\"2D position prediction error [m]\", fontsize=14)\n",
    "plt.xticks(\n",
    "    ticks=range(0, 36, 1),\n",
    "    labels=[str(i) for i in range(5, 185, 5)],\n",
    "    rotation=45,\n",
    ")\n",
    "plt.yticks(ticks=np.arange(0, 10000, 1000))\n",
    "\n",
    "# Set grid\n",
    "plt.grid(True, which=\"both\", linestyle=\"--\", linewidth=0.5)\n",
    "plt.gca().patch.set_alpha(0.3)\n",
    "\n",
    "# Show plot\n",
    "plt.show()"
   ]
  },
  {
   "cell_type": "markdown",
   "metadata": {},
   "source": [
    "***\n",
    "### Analysis separated by SID\n",
    "***"
   ]
  },
  {
   "cell_type": "markdown",
   "metadata": {},
   "source": [
    "##### Altitude error"
   ]
  },
  {
   "cell_type": "code",
   "execution_count": null,
   "metadata": {},
   "outputs": [],
   "source": [
    "# Generate subsets of altitude errors corresponding to each SID\n",
    "# DEGES\n",
    "indices_DEGES = np.where(test_in_con[:, :, 19] == 1)[0].tolist()\n",
    "alt_diff_DEGES = altitude_diff_m[indices_DEGES,:][:, 1::2]\n",
    "\n",
    "# GERSA\n",
    "indices_GERSA = np.where(test_in_con[:, :, 20] == 1)[0].tolist()\n",
    "alt_diff_GERSA = altitude_diff_m[indices_GERSA,:][:, 1::2]\n",
    "\n",
    "# VEBIT\n",
    "indices_VEBIT = np.where(test_in_con[:, :, 21] == 1)[0].tolist()\n",
    "alt_diff_VEBIT = altitude_diff_m[indices_VEBIT,:][:, 1::2]\n",
    "\n",
    "# ZUE\n",
    "indices_ZUE = np.where(test_in_con[:, :, 22] == 1)[0].tolist()\n",
    "alt_diff_ZUE = altitude_diff_m[indices_ZUE,:][:, 1::2]"
   ]
  },
  {
   "cell_type": "code",
   "execution_count": null,
   "metadata": {},
   "outputs": [],
   "source": [
    "# Generate lists of lists for visualisation\n",
    "group_DEGES = [\n",
    "    alt_diff_DEGES[:, i]\n",
    "    for i in range(alt_diff_DEGES.shape[1])\n",
    "]\n",
    "group_GERSA = [\n",
    "    alt_diff_GERSA[:, i]\n",
    "    for i in range(alt_diff_GERSA.shape[1])\n",
    "]\n",
    "group_VEBIT = [\n",
    "    alt_diff_VEBIT[:, i]\n",
    "    for i in range(alt_diff_VEBIT.shape[1])\n",
    "]\n",
    "group_ZUE = [\n",
    "    alt_diff_ZUE[:, i]\n",
    "    for i in range(alt_diff_ZUE.shape[1])\n",
    "]\n",
    "\n",
    "# Plotting parameters\n",
    "labels = [\"DEGES\", \"GERSA\", \"VEBIT\", \"ZUE\"]\n",
    "colors = [\"#dd6044\", \"#6e77f4\", \"#5dc999\", \"#a167f4\"]\n",
    "data_groups = [group_DEGES, group_GERSA, group_VEBIT, group_ZUE]\n",
    "width = 0.1  # Width of a boxplot\n",
    "\n",
    "# Locations for boxplots\n",
    "xlocations = np.arange(len(group_DEGES))\n",
    "group_positions = [\n",
    "    xlocations - 4*(width / 2) - 0.08,\n",
    "    xlocations - 2*(width / 2) - 0.008,\n",
    "    xlocations + 2*(width / 2) + 0.008,\n",
    "    xlocations + 4*(width / 2) + 0.08,\n",
    "]\n",
    "\n",
    "# Create plot\n",
    "fig = plt.subplots(figsize=(20, 10))\n",
    "for dag, pos, col in zip(data_groups, group_positions, colors):\n",
    "    boxes = plt.boxplot(\n",
    "        dag,\n",
    "        positions=pos,\n",
    "        widths=width,\n",
    "        boxprops=dict(facecolor=col, alpha=0.75),\n",
    "        medianprops=dict(color=\"grey\"),\n",
    "        patch_artist=True,\n",
    "        showfliers=False,\n",
    "    )\n",
    "\n",
    "# Set plot axis labels and ticks\n",
    "plt.xlabel(\"Prediction horizon [s]\", fontsize=14)\n",
    "plt.ylabel(\"Altitude prediction error [m]\", fontsize=14)\n",
    "plt.xticks(\n",
    "    ticks=range(0, 18, 1),\n",
    "    labels=[str(i + 10) for i in range(0, 180, 10)],\n",
    "    rotation=0,\n",
    ")\n",
    "# plt.yticks(ticks=np.arange(0, 12000, 1000))\n",
    "\n",
    "# Set plot grid\n",
    "plt.grid(True, which=\"both\", linestyle=\"--\", linewidth=0.5)\n",
    "plt.gca().patch.set_alpha(0.3)\n",
    "\n",
    "# Add legend\n",
    "handles = [plt.Line2D([0], [0], color=c, lw=4) for c in colors]\n",
    "plt.legend(handles, labels)\n",
    "\n",
    "plt.show()"
   ]
  },
  {
   "cell_type": "markdown",
   "metadata": {},
   "source": [
    "##### Position error"
   ]
  },
  {
   "cell_type": "code",
   "execution_count": null,
   "metadata": {},
   "outputs": [],
   "source": [
    "# Generate subsets of position errors corresponding to each SID\n",
    "# DEGES\n",
    "indices_DEGES = np.where(test_in_con[:, :, 19] == 1)[0].tolist()\n",
    "position_error_m_DEGES = position_error_m[indices_DEGES,:][:, 1::2]\n",
    "\n",
    "# GERSA\n",
    "indices_GERSA = np.where(test_in_con[:, :, 20] == 1)[0].tolist()\n",
    "position_error_m_GERSA = position_error_m[indices_GERSA,:][:, 1::2]\n",
    "\n",
    "# VEBIT\n",
    "indices_VEBIT = np.where(test_in_con[:, :, 21] == 1)[0].tolist()\n",
    "position_error_m_VEBIT = position_error_m[indices_VEBIT,:][:, 1::2]\n",
    "\n",
    "# ZUE\n",
    "indices_ZUE = np.where(test_in_con[:, :, 22] == 1)[0].tolist()\n",
    "position_error_m_ZUE = position_error_m[indices_ZUE,:][:, 1::2]"
   ]
  },
  {
   "cell_type": "code",
   "execution_count": null,
   "metadata": {},
   "outputs": [],
   "source": [
    "# Generate lists of lists for visualisation\n",
    "group_DEGES = [\n",
    "    position_error_m_DEGES[:, i]\n",
    "    for i in range(position_error_m_DEGES.shape[1])\n",
    "]\n",
    "group_GERSA = [\n",
    "    position_error_m_GERSA[:, i]\n",
    "    for i in range(position_error_m_GERSA.shape[1])\n",
    "]\n",
    "group_VEBIT = [\n",
    "    position_error_m_VEBIT[:, i]\n",
    "    for i in range(position_error_m_VEBIT.shape[1])\n",
    "]\n",
    "group_ZUE = [\n",
    "    position_error_m_ZUE[:, i]\n",
    "    for i in range(position_error_m_ZUE.shape[1])\n",
    "]\n",
    "\n",
    "# Plotting parameters\n",
    "labels = [\"DEGES\", \"GERSA\", \"VEBIT\", \"ZUE\"]\n",
    "colors = [\"#dd6044\", \"#6e77f4\", \"#5dc999\", \"#a167f4\"]\n",
    "data_groups = [group_DEGES, group_GERSA, group_VEBIT, group_ZUE]\n",
    "width = 0.1  # Width of a boxplot\n",
    "\n",
    "# Locations for boxplots\n",
    "xlocations = np.arange(len(group_DEGES))\n",
    "group_positions = [\n",
    "    xlocations - 4*(width / 2) - 0.08,\n",
    "    xlocations - 2*(width / 2) - 0.008,\n",
    "    xlocations + 2*(width / 2) + 0.008,\n",
    "    xlocations + 4*(width / 2) + 0.08,\n",
    "]\n",
    "\n",
    "# Create plot\n",
    "fig = plt.subplots(figsize=(20, 10))\n",
    "for dag, pos, col in zip(data_groups, group_positions, colors):\n",
    "    boxes = plt.boxplot(\n",
    "        dag,\n",
    "        positions=pos,\n",
    "        widths=width,\n",
    "        boxprops=dict(facecolor=col, alpha=0.75),\n",
    "        medianprops=dict(color=\"grey\"),\n",
    "        patch_artist=True,\n",
    "        showfliers=False,\n",
    "    )\n",
    "\n",
    "# Set plot axis labels and ticks\n",
    "plt.xlabel(\"Prediction horizon [s]\", fontsize=14)\n",
    "plt.ylabel(\"2D position prediction error [m]\", fontsize=14)\n",
    "plt.xticks(\n",
    "    ticks=range(0, 18, 1),\n",
    "    labels=[str(i + 10) for i in range(0, 180, 10)],\n",
    "    rotation=0,\n",
    ")\n",
    "# plt.yticks(ticks=np.arange(0, 12000, 1000))\n",
    "\n",
    "# Set plot grid\n",
    "plt.grid(True, which=\"both\", linestyle=\"--\", linewidth=0.5)\n",
    "plt.gca().patch.set_alpha(0.3)\n",
    "\n",
    "# Add legend\n",
    "handles = [plt.Line2D([0], [0], color=c, lw=4) for c in colors]\n",
    "plt.legend(handles, labels)\n",
    "\n",
    "plt.show()"
   ]
  },
  {
   "cell_type": "markdown",
   "metadata": {},
   "source": [
    "***\n",
    "### Analysis separated by Aircraft Type\n",
    "***"
   ]
  },
  {
   "cell_type": "markdown",
   "metadata": {},
   "source": [
    "##### Altitude error"
   ]
  },
  {
   "cell_type": "code",
   "execution_count": null,
   "metadata": {},
   "outputs": [],
   "source": [
    "# Generate subsets of altitude errors corresponding to AC types\n",
    "# A320\n",
    "indices_A320 = np.where(test_in_con[:, :, 4] == 1)[0].tolist()\n",
    "alt_diff_A320 = altitude_diff_m[indices_A320,:][:, 1::2]\n",
    "\n",
    "# BCS3\n",
    "indices_BCS3 = np.where(test_in_con[:, :, 10] == 1)[0].tolist()\n",
    "alt_diff_BCS3 = altitude_diff_m[indices_BCS3,:][:, 1::2]\n",
    "\n",
    "# A333\n",
    "indices_A333 = np.where(test_in_con[:, :, 6] == 1)[0].tolist()\n",
    "alt_diff_A333 = altitude_diff_m[indices_A333,:][:, 1::2]\n",
    "\n",
    "# B77W\n",
    "indices_B77W = np.where(test_in_con[:, :, 8] == 1)[0].tolist()\n",
    "alt_diff_B77W = altitude_diff_m[indices_B77W,:][:, 1::2]"
   ]
  },
  {
   "cell_type": "code",
   "execution_count": null,
   "metadata": {},
   "outputs": [],
   "source": [
    "# Generate lists of lists for visualisation\n",
    "group_A320 = [\n",
    "    alt_diff_A320[:, i]\n",
    "    for i in range(alt_diff_A320.shape[1])\n",
    "]\n",
    "group_BCS3 = [\n",
    "    alt_diff_BCS3[:, i]\n",
    "    for i in range(alt_diff_BCS3.shape[1])\n",
    "]\n",
    "group_A333 = [\n",
    "    alt_diff_A333[:, i]\n",
    "    for i in range(alt_diff_A333.shape[1])\n",
    "]\n",
    "group_B77W = [\n",
    "    alt_diff_B77W[:, i]\n",
    "    for i in range(alt_diff_B77W.shape[1])\n",
    "]\n",
    "\n",
    "# Plotting parameters\n",
    "labels = [\"A320\", \"BCS3\", \"A333\", \"B77W\"]\n",
    "colors = [\"#dd6044\", \"#6e77f4\", \"#5dc999\", \"#a167f4\"]\n",
    "data_groups = [group_A320, group_BCS3, group_A333, group_B77W]\n",
    "width = 0.1  # Width of a boxplot\n",
    "\n",
    "# Locations for boxplots\n",
    "xlocations = np.arange(len(group_A320))\n",
    "group_positions = [\n",
    "    xlocations - 4*(width / 2) - 0.08,\n",
    "    xlocations - 2*(width / 2) - 0.008,\n",
    "    xlocations + 2*(width / 2) + 0.008,\n",
    "    xlocations + 4*(width / 2) + 0.08,\n",
    "]\n",
    "\n",
    "# Create plot\n",
    "fig = plt.subplots(figsize=(20, 10))\n",
    "for dag, pos, col in zip(data_groups, group_positions, colors):\n",
    "    boxes = plt.boxplot(\n",
    "        dag,\n",
    "        positions=pos,\n",
    "        widths=width,\n",
    "        boxprops=dict(facecolor=col, alpha=0.75),\n",
    "        medianprops=dict(color=\"grey\"),\n",
    "        patch_artist=True,\n",
    "        showfliers=False,\n",
    "    )\n",
    "\n",
    "# Set plot axis labels and ticks\n",
    "plt.xlabel(\"Prediction horizon [s]\", fontsize=14)\n",
    "plt.ylabel(\"Altitude prediction error [m]\", fontsize=14)\n",
    "plt.xticks(\n",
    "    ticks=range(0, 18, 1),\n",
    "    labels=[str(i + 10) for i in range(0, 180, 10)],\n",
    "    rotation=0,\n",
    ")\n",
    "# plt.yticks(ticks=np.arange(0, 12000, 1000))\n",
    "\n",
    "# Set plot grid\n",
    "plt.grid(True, which=\"both\", linestyle=\"--\", linewidth=0.5)\n",
    "plt.gca().patch.set_alpha(0.3)\n",
    "\n",
    "# Add legend\n",
    "handles = [plt.Line2D([0], [0], color=c, lw=4) for c in colors]\n",
    "plt.legend(handles, labels)\n",
    "\n",
    "plt.show()"
   ]
  },
  {
   "cell_type": "markdown",
   "metadata": {},
   "source": [
    "##### Position error"
   ]
  },
  {
   "cell_type": "code",
   "execution_count": null,
   "metadata": {},
   "outputs": [],
   "source": [
    "# Generate subsets of position errors corresponding to AC types\n",
    "# A320\n",
    "indices_A320 = np.where(test_in_con[:, :, 4] == 1)[0].tolist()\n",
    "position_error_m_A320 = position_error_m[indices_A320,:][:, 1::2]\n",
    "\n",
    "# BCS3\n",
    "indices_BCS3 = np.where(test_in_con[:, :, 10] == 1)[0].tolist()\n",
    "position_error_m_BCS3 = position_error_m[indices_BCS3,:][:, 1::2]\n",
    "\n",
    "# A333\n",
    "indices_A333 = np.where(test_in_con[:, :, 6] == 1)[0].tolist()\n",
    "position_error_m_A333 = position_error_m[indices_A333,:][:, 1::2]\n",
    "\n",
    "# B77W\n",
    "indices_B77W = np.where(test_in_con[:, :, 8] == 1)[0].tolist()\n",
    "position_error_m_B77W = position_error_m[indices_B77W,:][:, 1::2]"
   ]
  },
  {
   "cell_type": "code",
   "execution_count": null,
   "metadata": {},
   "outputs": [],
   "source": [
    "# Generate lists of lists for visualisation\n",
    "group_A320 = [\n",
    "    position_error_m_A320[:, i]\n",
    "    for i in range(position_error_m_A320.shape[1])\n",
    "]\n",
    "group_BCS3 = [\n",
    "    position_error_m_BCS3[:, i]\n",
    "    for i in range(position_error_m_BCS3.shape[1])\n",
    "]\n",
    "group_A333 = [\n",
    "    position_error_m_A333[:, i]\n",
    "    for i in range(position_error_m_A333.shape[1])\n",
    "]\n",
    "group_B77W = [\n",
    "    position_error_m_B77W[:, i]\n",
    "    for i in range(position_error_m_B77W.shape[1])\n",
    "]\n",
    "\n",
    "# Plotting parameters\n",
    "labels = [\"A320\", \"BCS3\", \"A333\", \"B77W\"]\n",
    "colors = [\"#dd6044\", \"#6e77f4\", \"#5dc999\", \"#a167f4\"]\n",
    "data_groups = [group_A320, group_BCS3, group_A333, group_B77W]\n",
    "width = 0.1  # Width of a boxplot\n",
    "\n",
    "# Locations for boxplots\n",
    "xlocations = np.arange(len(group_A320))\n",
    "group_positions = [\n",
    "    xlocations - 4*(width / 2) - 0.08,\n",
    "    xlocations - 2*(width / 2) - 0.008,\n",
    "    xlocations + 2*(width / 2) + 0.008,\n",
    "    xlocations + 4*(width / 2) + 0.08,\n",
    "]\n",
    "\n",
    "# Create plot\n",
    "fig = plt.subplots(figsize=(20, 10))\n",
    "for dag, pos, col in zip(data_groups, group_positions, colors):\n",
    "    boxes = plt.boxplot(\n",
    "        dag,\n",
    "        positions=pos,\n",
    "        widths=width,\n",
    "        boxprops=dict(facecolor=col, alpha=0.75),\n",
    "        medianprops=dict(color=\"grey\"),\n",
    "        patch_artist=True,\n",
    "        showfliers=False,\n",
    "    )\n",
    "\n",
    "# Set plot axis labels and ticks\n",
    "plt.xlabel(\"Prediction horizon [s]\", fontsize=14)\n",
    "plt.ylabel(\"2D position prediction error [m]\", fontsize=14)\n",
    "plt.xticks(\n",
    "    ticks=range(0, 18, 1),\n",
    "    labels=[str(i + 10) for i in range(0, 180, 10)],\n",
    "    rotation=0,\n",
    ")\n",
    "# plt.yticks(ticks=np.arange(0, 12000, 1000))\n",
    "\n",
    "# Set plot grid\n",
    "plt.grid(True, which=\"both\", linestyle=\"--\", linewidth=0.5)\n",
    "plt.gca().patch.set_alpha(0.3)\n",
    "\n",
    "# Add legend\n",
    "handles = [plt.Line2D([0], [0], color=c, lw=4) for c in colors]\n",
    "plt.legend(handles, labels)\n",
    "\n",
    "plt.show()"
   ]
  }
 ],
 "metadata": {
  "kernelspec": {
   "display_name": "Poetry via SLURM MIAR",
   "language": "python",
   "name": "jupyter-eg-kernel-slurm-py39-poetry-1ho6psb1p"
  },
  "language_info": {
   "codemirror_mode": {
    "name": "ipython",
    "version": 3
   },
   "file_extension": ".py",
   "mimetype": "text/x-python",
   "name": "python",
   "nbconvert_exporter": "python",
   "pygments_lexer": "ipython3",
   "version": "3.11.7"
  }
 },
 "nbformat": 4,
 "nbformat_minor": 2
}
