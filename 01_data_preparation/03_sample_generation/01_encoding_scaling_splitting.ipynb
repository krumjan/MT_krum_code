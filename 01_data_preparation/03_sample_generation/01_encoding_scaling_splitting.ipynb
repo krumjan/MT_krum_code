{
 "cells": [
  {
   "cell_type": "markdown",
   "metadata": {},
   "source": [
    "***\n",
    "### Import of required libraries\n",
    "***"
   ]
  },
  {
   "cell_type": "code",
   "execution_count": null,
   "metadata": {},
   "outputs": [],
   "source": [
    "import random\n",
    "from pickle import dump\n",
    "\n",
    "import numpy as np\n",
    "import pandas as pd\n",
    "from sklearn.preprocessing import MinMaxScaler\n",
    "from sklearn.preprocessing import OneHotEncoder\n",
    "from traffic.core import Traffic"
   ]
  },
  {
   "cell_type": "markdown",
   "metadata": {},
   "source": [
    "***\n",
    "### Import of data\n",
    "***"
   ]
  },
  {
   "cell_type": "code",
   "execution_count": null,
   "metadata": {},
   "outputs": [],
   "source": [
    "t = Traffic.from_file(\n",
    "    \"/mnt/beegfs/store/krum/MT/traffic_complete/complete.parquet\"\n",
    ")"
   ]
  },
  {
   "cell_type": "markdown",
   "metadata": {},
   "source": [
    "***\n",
    "### One-hot encoding of typecode and SID\n",
    "***"
   ]
  },
  {
   "cell_type": "code",
   "execution_count": null,
   "metadata": {},
   "outputs": [],
   "source": [
    "# Definition of columns to be encoded\n",
    "categorical_variables = [\"typecode\", \"SID\"]\n",
    "\n",
    "# Definition and fitting of the encoder\n",
    "enc = OneHotEncoder()\n",
    "enc.fit(t.data[categorical_variables])\n",
    "\n",
    "# Encoding of the columns and adding them to the DataFrame\n",
    "encoded_variables = enc.transform(t.data[categorical_variables]).toarray()\n",
    "new_column_names = enc.get_feature_names_out(categorical_variables)\n",
    "encoded_df = pd.DataFrame(\n",
    "    encoded_variables, columns=new_column_names, index=t.data.index\n",
    ")\n",
    "t.data = pd.concat([t.data, encoded_df], axis=1)\n",
    "\n",
    "# Print overview of the columns\n",
    "t.data.columns"
   ]
  },
  {
   "cell_type": "markdown",
   "metadata": {},
   "source": [
    "***\n",
    "### Cyclic encoding of temporal features (hour, weekday, month)\n",
    "***"
   ]
  },
  {
   "cell_type": "code",
   "execution_count": null,
   "metadata": {},
   "outputs": [],
   "source": [
    "# Function to apply encoding to one column\n",
    "def cyclic_enc(df, feature, max_val):\n",
    "    df[feature + \"_sin\"] = (\n",
    "        0.5 * np.sin(2 * np.pi * df[feature] / max_val) + 0.5\n",
    "    )\n",
    "    df[feature + \"_cos\"] = (\n",
    "        0.5 * np.cos(2 * np.pi * df[feature] / max_val) + 0.5\n",
    "    )\n",
    "    return df\n",
    "\n",
    "\n",
    "# Encoding of hour, weekday and month\n",
    "t.data = cyclic_enc(t.data, \"hour\", 24)\n",
    "t.data = cyclic_enc(t.data, \"weekday\", 7)\n",
    "t.data = cyclic_enc(t.data, \"month\", 12)\n",
    "\n",
    "# Print overview of the columns\n",
    "t.data.columns"
   ]
  },
  {
   "cell_type": "markdown",
   "metadata": {},
   "source": [
    "***\n",
    "### Min-max scaling of numerical features\n",
    "***"
   ]
  },
  {
   "cell_type": "code",
   "execution_count": null,
   "metadata": {},
   "outputs": [],
   "source": [
    "# Definition of columns to be scaled\n",
    "num_columns = [\n",
    "    \"latitude\",\n",
    "    \"longitude\",\n",
    "    \"altitude\",\n",
    "    \"toff_weight_kg\",\n",
    "    \"wind_x_2min_avg\",\n",
    "    \"wind_y_2min_avg\",\n",
    "    \"temperature_gnd\",\n",
    "    \"humidity_gnd\",\n",
    "    \"pressure_gnd\",\n",
    "]\n",
    "\n",
    "# Definition and fitting of the scaler\n",
    "scaler = MinMaxScaler()\n",
    "scaler.fit(t.data[num_columns])\n",
    "\n",
    "# Scaling of the columns and adding them to the DataFrame\n",
    "scaled_values = scaler.transform(t.data[num_columns])\n",
    "scaled_df = pd.DataFrame(\n",
    "    scaled_values, columns=num_columns, index=t.data.index\n",
    ")\n",
    "scaled_df.columns = [col + \"_scaled\" for col in scaled_df.columns]\n",
    "t.data = pd.concat([t.data, scaled_df], axis=1)\n",
    "\n",
    "# Definition of fitting of second scaler for output variables only. This\n",
    "# simplifies reverse scaling of the output variables later on.\n",
    "output_var = [\"latitude\", \"longitude\", \"altitude\"]\n",
    "scaler_out = MinMaxScaler()\n",
    "scaler_out.fit(t.data[output_var])\n",
    "\n",
    "# Save the scaler for later use\n",
    "with open(\n",
    "    \"/mnt/beegfs/store/krum/MT/encoded_scaled_split/scaler_in.pkl\",\n",
    "    \"wb\",\n",
    ") as f:\n",
    "    dump(scaler, f)\n",
    "with open(\n",
    "    \"/mnt/beegfs/store/krum/MT/encoded_scaled_split/scaler_out.pkl\",\n",
    "    \"wb\",\n",
    ") as f:\n",
    "    dump(scaler_out, f)"
   ]
  },
  {
   "cell_type": "markdown",
   "metadata": {},
   "source": [
    "***\n",
    "### Splitting the data into training, validation and test sets\n",
    "***"
   ]
  },
  {
   "cell_type": "code",
   "execution_count": null,
   "metadata": {},
   "outputs": [],
   "source": [
    "# Generate list of all flight id's in the dataset\n",
    "ids = t.data.flight_id.unique().tolist()\n",
    "\n",
    "# Randomly shuffle the list\n",
    "random.shuffle(ids)\n",
    "\n",
    "# Define indices to split the list into training, validation and test set\n",
    "size = len(ids)\n",
    "first_split = int(0.6 * size)\n",
    "second_split = first_split + int(0.2 * size)\n",
    "\n",
    "# Define the id's for the training, validation and test sets\n",
    "ids_train = ids[:first_split]\n",
    "ids_val = ids[first_split:second_split]\n",
    "ids_test = ids[second_split:]\n",
    "\n",
    "# Split the data accordingly\n",
    "t_train = t[ids_train]\n",
    "t_val = t[ids_val]\n",
    "t_test = t[ids_test]\n",
    "\n",
    "# Save the data\n",
    "t_train.to_parquet(\n",
    "    \"/mnt/beegfs/store/krum/MT/encoded_scaled_split/t_train.parquet\"\n",
    ")\n",
    "t_val.to_parquet(\n",
    "    \"/mnt/beegfs/store/krum/MT/encoded_scaled_split/t_val.parquet\"\n",
    ")\n",
    "t_test.to_parquet(\n",
    "    \"/mnt/beegfs/store/krum/MT/encoded_scaled_split/t_test.parquet\"\n",
    ")"
   ]
  }
 ],
 "metadata": {
  "kernelspec": {
   "display_name": "Poetry via SLURM MIAR",
   "language": "python",
   "name": "jupyter-eg-kernel-slurm-py39-poetry-1ho6psb1p"
  },
  "language_info": {
   "codemirror_mode": {
    "name": "ipython",
    "version": 3
   },
   "file_extension": ".py",
   "mimetype": "text/x-python",
   "name": "python",
   "nbconvert_exporter": "python",
   "pygments_lexer": "ipython3",
   "version": "3.11.7"
  }
 },
 "nbformat": 4,
 "nbformat_minor": 2
}
