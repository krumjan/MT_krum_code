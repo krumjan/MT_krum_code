{
 "cells": [
  {
   "cell_type": "markdown",
   "metadata": {},
   "source": [
    "***\n",
    "### Import of required libraries\n",
    "***"
   ]
  },
  {
   "cell_type": "code",
   "execution_count": null,
   "metadata": {},
   "outputs": [],
   "source": [
    "import pickle\n",
    "\n",
    "import numpy as np\n",
    "import pandas as pd\n",
    "import matplotlib.pyplot as plt\n",
    "import tensorflow as tf\n",
    "from tensorflow.keras.models import load_model\n",
    "\n",
    "from traffic.core import Traffic"
   ]
  },
  {
   "cell_type": "markdown",
   "metadata": {},
   "source": [
    "***\n",
    "### Import of data, models and scalers\n",
    "***"
   ]
  },
  {
   "cell_type": "markdown",
   "metadata": {},
   "source": [
    "##### Data"
   ]
  },
  {
   "cell_type": "code",
   "execution_count": null,
   "metadata": {},
   "outputs": [],
   "source": [
    "test_in_con = np.load(\"/mnt/beegfs/store/krum/MT/samples/test_in32_con.npy\")\n",
    "test_in_var = np.load(\"/mnt/beegfs/store/krum/MT/samples/test_in32_var.npy\")\n",
    "test_out = np.load(\"/mnt/beegfs/store/krum/MT/samples/test_out32.npy\")"
   ]
  },
  {
   "cell_type": "markdown",
   "metadata": {},
   "source": [
    "##### Models"
   ]
  },
  {
   "cell_type": "code",
   "execution_count": null,
   "metadata": {},
   "outputs": [],
   "source": [
    "def rmse_lat():\n",
    "    return None\n",
    "\n",
    "\n",
    "def rmse_lon():\n",
    "    return None\n",
    "\n",
    "\n",
    "def rmse_alt():\n",
    "    return None\n",
    "\n",
    "\n",
    "model_with_mass = load_model(\n",
    "    f\"/home/krum/git/MT_krum_code/models/revived-snowflake-235.keras\",\n",
    "    custom_objects={\n",
    "        \"rmse_lat\": rmse_lat,\n",
    "        \"rmse_lon\": rmse_lon,\n",
    "        \"rmse_alt\": rmse_alt,\n",
    "        \"weighted_mse\": tf.keras.losses.MeanSquaredError(),\n",
    "    },\n",
    ")\n",
    "\n",
    "model_without_mass = load_model(\n",
    "    f\"/home/krum/git/MT_krum_code/models/flowing-totem-236.keras\",\n",
    "    custom_objects={\n",
    "        \"rmse_lat\": rmse_lat,\n",
    "        \"rmse_lon\": rmse_lon,\n",
    "        \"rmse_alt\": rmse_alt,\n",
    "        \"weighted_mse\": tf.keras.losses.MeanSquaredError(),\n",
    "    },\n",
    ")"
   ]
  },
  {
   "cell_type": "markdown",
   "metadata": {},
   "source": [
    "##### Scalers"
   ]
  },
  {
   "cell_type": "code",
   "execution_count": null,
   "metadata": {},
   "outputs": [],
   "source": [
    "with open(\n",
    "    \"/mnt/beegfs/store/krum/MT/encoded_scaled_split/scaler_in.pkl\",\n",
    "    \"rb\",\n",
    ") as file:\n",
    "    scaler_in = pickle.load(file)\n",
    "\n",
    "with open(\n",
    "    \"/mnt/beegfs/store/krum/MT/encoded_scaled_split/scaler_out.pkl\",\n",
    "    \"rb\",\n",
    ") as file:\n",
    "    scaler_out = pickle.load(file)"
   ]
  },
  {
   "cell_type": "markdown",
   "metadata": {},
   "source": [
    "***\n",
    "### Application of model to get predictions on test set\n",
    "***"
   ]
  },
  {
   "cell_type": "markdown",
   "metadata": {},
   "source": [
    "##### Model application"
   ]
  },
  {
   "cell_type": "code",
   "execution_count": null,
   "metadata": {},
   "outputs": [],
   "source": [
    "prediction_with_mass = model_with_mass.predict((test_in_var, test_in_con))\n",
    "prediction_without_mass = model_without_mass.predict(\n",
    "    (test_in_var, test_in_con[:, :, 1:])\n",
    ")"
   ]
  },
  {
   "cell_type": "markdown",
   "metadata": {},
   "source": [
    "##### Unscaling"
   ]
  },
  {
   "cell_type": "code",
   "execution_count": null,
   "metadata": {},
   "outputs": [],
   "source": [
    "# Predictions with mass\n",
    "prediction_unscaled_with_mass = scaler_out.inverse_transform(\n",
    "    prediction_with_mass.reshape(-1, 3)\n",
    ").reshape(-1, 37, 3)\n",
    "\n",
    "# Predictions without mass\n",
    "prediction_unscaled_without_mass = scaler_out.inverse_transform(\n",
    "    prediction_without_mass.reshape(-1, 3)\n",
    ").reshape(-1, 37, 3)\n",
    "\n",
    "# True values\n",
    "test_out_unscaled = scaler_out.inverse_transform(test_out.reshape(-1, 3)).reshape(\n",
    "    -1, 37, 3\n",
    ")"
   ]
  },
  {
   "cell_type": "markdown",
   "metadata": {},
   "source": [
    "##### Start at 10s and reduction to 10s intervals"
   ]
  },
  {
   "cell_type": "code",
   "execution_count": null,
   "metadata": {},
   "outputs": [],
   "source": [
    "prediction_unscaled_with_mass = prediction_unscaled_with_mass[:, 2::2, :]\n",
    "prediction_unscaled_without_mass = prediction_unscaled_without_mass[:, 2::2, :]\n",
    "test_out_unscaled = test_out_unscaled[:, 2::2, :]"
   ]
  },
  {
   "cell_type": "markdown",
   "metadata": {},
   "source": [
    "***\n",
    "### Analysis of altitude prediction error\n",
    "***"
   ]
  },
  {
   "cell_type": "markdown",
   "metadata": {},
   "source": [
    "##### Error calculation"
   ]
  },
  {
   "cell_type": "code",
   "execution_count": null,
   "metadata": {},
   "outputs": [],
   "source": [
    "# Computation of altitude error for the model with and without mass and\n",
    "# conversion from feet to meters\n",
    "altitude_diff_with_mass = (\n",
    "    prediction_unscaled_with_mass[:, :, 2] - test_out_unscaled[:, :, 2]\n",
    ")\n",
    "altitude_diff_with_mass_m = altitude_diff_with_mass / 3.281\n",
    "\n",
    "altitude_diff_without_mass = (\n",
    "    prediction_unscaled_without_mass[:, :, 2] - test_out_unscaled[:, :, 2]\n",
    ")\n",
    "altitude_diff_without_mass_m = altitude_diff_without_mass / 3.281"
   ]
  },
  {
   "cell_type": "markdown",
   "metadata": {},
   "source": [
    "##### Visualisation"
   ]
  },
  {
   "cell_type": "code",
   "execution_count": null,
   "metadata": {},
   "outputs": [],
   "source": [
    "# Generate lists of lists for visualisation\n",
    "group_with = [\n",
    "    altitude_diff_with_mass_m[:, i] for i in range(altitude_diff_with_mass_m.shape[1])\n",
    "]\n",
    "group_without = [\n",
    "    altitude_diff_without_mass_m[:, i]\n",
    "    for i in range(altitude_diff_with_mass_m.shape[1])\n",
    "]\n",
    "\n",
    "# Plotting parameters\n",
    "labels = [\"Model A (with mass)\", \"Model B (without mass)\"]\n",
    "colors = [\"lightblue\", \"salmon\"]\n",
    "data_groups = [group_with, group_without]\n",
    "width = 0.25  # Width of a boxplot\n",
    "\n",
    "# Locations for boxplots\n",
    "xlocations = np.arange(len(group_with))\n",
    "group_positions = [\n",
    "    xlocations - width / 2 - 0.04,\n",
    "    xlocations + width / 2 + 0.04,\n",
    "]\n",
    "\n",
    "# Create plot\n",
    "fig = plt.subplots(figsize=(20, 10))\n",
    "for dag, pos, col in zip(data_groups, group_positions, colors):\n",
    "    boxes = plt.boxplot(\n",
    "        dag,\n",
    "        positions=pos,\n",
    "        widths=width,\n",
    "        boxprops=dict(facecolor=col),\n",
    "        medianprops=dict(color=\"grey\"),\n",
    "        patch_artist=True,\n",
    "        showfliers=False,\n",
    "    )\n",
    "\n",
    "# Set plot axis labels and ticks\n",
    "plt.xlabel(\"Prediction horizon [s]\", fontsize=25, labelpad=20)\n",
    "plt.ylabel(\"Altitude prediction error [m]\", fontsize=25, labelpad=20)\n",
    "plt.xticks(\n",
    "    ticks=range(0, 18, 1),\n",
    "    labels=[str(i + 10) for i in range(0, 180, 10)],\n",
    "    rotation=0,\n",
    "    fontsize=20,\n",
    ")\n",
    "plt.yticks(ticks=np.arange(-600, 600, 100), fontsize=20)\n",
    "\n",
    "# Set plot grid\n",
    "plt.grid(True, which=\"both\", linestyle=\"--\", linewidth=0.5)\n",
    "plt.gca().patch.set_alpha(0.3)\n",
    "\n",
    "# Add legend\n",
    "handles = [plt.Line2D([0], [0], color=c, lw=4) for c in colors]\n",
    "plt.legend(handles, labels, fontsize=20)\n",
    "\n",
    "plt.show()"
   ]
  },
  {
   "cell_type": "markdown",
   "metadata": {},
   "source": [
    "***\n",
    "### Analysis of position prediction error\n",
    "***"
   ]
  },
  {
   "cell_type": "markdown",
   "metadata": {},
   "source": [
    "##### Error calculation"
   ]
  },
  {
   "cell_type": "code",
   "execution_count": null,
   "metadata": {},
   "outputs": [],
   "source": [
    "# Extraction of latitudes and longitudes\n",
    "pred_lat_with_mass = prediction_unscaled_with_mass[:, :, 0].flatten()\n",
    "pred_lon_with_mass = prediction_unscaled_with_mass[:, :, 1].flatten()\n",
    "pred_lat_without_mass = prediction_unscaled_without_mass[:, :, 0].flatten()\n",
    "pred_lon_without_mass = prediction_unscaled_without_mass[:, :, 1].flatten()\n",
    "test_lat = test_out_unscaled[:, :, 0].flatten()\n",
    "test_lon = test_out_unscaled[:, :, 1].flatten()\n",
    "\n",
    "# Latitude and longitude errors\n",
    "lat_error_with_mass = (pred_lat_with_mass - test_lat).reshape(\n",
    "    prediction_unscaled_with_mass.shape[0], 18\n",
    ")\n",
    "lon_error_with_mass = (pred_lon_with_mass - test_lon).reshape(\n",
    "    prediction_unscaled_with_mass.shape[0], 18\n",
    ")\n",
    "lat_error_without_mass = (pred_lat_without_mass - test_lat).reshape(\n",
    "    prediction_unscaled_without_mass.shape[0], 18\n",
    ")\n",
    "lon_error_without_mass = (pred_lon_without_mass - test_lon).reshape(\n",
    "    prediction_unscaled_without_mass.shape[0], 18\n",
    ")\n",
    "\n",
    "\n",
    "# 2d position errors\n",
    "def haversine(lat1, lon1, lat2, lon2):\n",
    "    lon1, lat1, lon2, lat2 = np.radians([lon1, lat1, lon2, lat2])\n",
    "    dlon = lon2 - lon1\n",
    "    dlat = lat2 - lat1\n",
    "\n",
    "    haver_formula = (\n",
    "        np.sin(dlat / 2) ** 2 + np.cos(lat1) * np.cos(lat2) * np.sin(dlon / 2) ** 2\n",
    "    )\n",
    "\n",
    "    r = 6371\n",
    "    dist = 2 * r * np.arcsin(np.sqrt(haver_formula))\n",
    "    return dist\n",
    "\n",
    "\n",
    "position_error_m_with_mass = (\n",
    "    haversine(\n",
    "        pred_lat_with_mass,\n",
    "        pred_lon_with_mass,\n",
    "        test_lat,\n",
    "        test_lon,\n",
    "    ).reshape(prediction_unscaled_with_mass.shape[0], 18)\n",
    "    * 1000\n",
    ")\n",
    "\n",
    "position_error_m_without_mass = (\n",
    "    haversine(\n",
    "        pred_lat_without_mass,\n",
    "        pred_lon_without_mass,\n",
    "        test_lat,\n",
    "        test_lon,\n",
    "    ).reshape(prediction_unscaled_without_mass.shape[0], 18)\n",
    "    * 1000\n",
    ")"
   ]
  },
  {
   "cell_type": "markdown",
   "metadata": {},
   "source": [
    "##### Visualisation 2d position error"
   ]
  },
  {
   "cell_type": "code",
   "execution_count": null,
   "metadata": {},
   "outputs": [],
   "source": [
    "# Generate lists of lists for visualisation\n",
    "group_with = [\n",
    "    position_error_m_with_mass[:, i] for i in range(position_error_m_with_mass.shape[1])\n",
    "]\n",
    "group_without = [\n",
    "    position_error_m_without_mass[:, i]\n",
    "    for i in range(position_error_m_with_mass.shape[1])\n",
    "]\n",
    "\n",
    "# Plotting parameters\n",
    "labels = [\"Model A (with mass)\", \"Model B (without mass)\"]\n",
    "colors = [\"lightblue\", \"salmon\"]\n",
    "data_groups = [group_with, group_without]\n",
    "width = 0.25  # Width of a boxplot\n",
    "\n",
    "# Locations for boxplots\n",
    "xlocations = np.arange(len(group_with))\n",
    "group_positions = [\n",
    "    xlocations - width / 2 - 0.04,\n",
    "    xlocations + width / 2 + 0.04,\n",
    "]\n",
    "\n",
    "# Create plot\n",
    "fig = plt.subplots(figsize=(20, 10))\n",
    "for dag, pos, col in zip(data_groups, group_positions, colors):\n",
    "    boxes = plt.boxplot(\n",
    "        dag,\n",
    "        positions=pos,\n",
    "        widths=width,\n",
    "        boxprops=dict(facecolor=col),\n",
    "        medianprops=dict(color=\"grey\"),\n",
    "        patch_artist=True,\n",
    "        showfliers=False,\n",
    "    )\n",
    "\n",
    "# Set plot axis labels and ticks\n",
    "plt.xlabel(\"Prediction horizon [s]\", fontsize=25, labelpad=20)\n",
    "plt.ylabel(\"2D position prediction error [m]\", fontsize=25, labelpad=20)\n",
    "plt.xticks(\n",
    "    ticks=range(0, 18, 1),\n",
    "    labels=[str(i + 10) for i in range(0, 180, 10)],\n",
    "    rotation=0,\n",
    "    fontsize=20,\n",
    ")\n",
    "plt.yticks(ticks=np.arange(0, 12000, 1000), fontsize=20)\n",
    "\n",
    "# Set plot grid\n",
    "plt.grid(True, which=\"both\", linestyle=\"--\", linewidth=0.5)\n",
    "plt.gca().patch.set_alpha(0.3)\n",
    "\n",
    "# Add legend\n",
    "handles = [plt.Line2D([0], [0], color=c, lw=4) for c in colors]\n",
    "plt.legend(handles, labels, fontsize=20)\n",
    "\n",
    "plt.show()"
   ]
  }
 ],
 "metadata": {
  "kernelspec": {
   "display_name": "Poetry via SLURM MIAR",
   "language": "python",
   "name": "jupyter-eg-kernel-slurm-py39-poetry-1ho6psb1p"
  },
  "language_info": {
   "codemirror_mode": {
    "name": "ipython",
    "version": 3
   },
   "file_extension": ".py",
   "mimetype": "text/x-python",
   "name": "python",
   "nbconvert_exporter": "python",
   "pygments_lexer": "ipython3",
   "version": "3.11.7"
  }
 },
 "nbformat": 4,
 "nbformat_minor": 2
}
