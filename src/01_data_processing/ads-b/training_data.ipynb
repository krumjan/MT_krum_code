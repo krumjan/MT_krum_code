{
 "cells": [
  {
   "cell_type": "markdown",
   "metadata": {},
   "source": [
    "***\n",
    "#### Import of required libraries"
   ]
  },
  {
   "cell_type": "code",
   "execution_count": null,
   "metadata": {},
   "outputs": [],
   "source": [
    "from traffic.core import Traffic\n",
    "from tqdm.notebook import tqdm"
   ]
  },
  {
   "cell_type": "markdown",
   "metadata": {},
   "source": [
    "***\n",
    "#### Import data"
   ]
  },
  {
   "cell_type": "code",
   "execution_count": null,
   "metadata": {},
   "outputs": [],
   "source": [
    "t = Traffic.from_file(\n",
    "    \"/mnt/beegfs/store/MIAR/merged/osn/takeoffs28_mass_may_22.parquet\"\n",
    ")\n",
    "\n",
    "# t = Traffic.from_file(\n",
    "#     \"/mnt/beegfs/store/MIAR/merged/osn/takeoffs28_mass_complete.parquet\"\n",
    "# )"
   ]
  },
  {
   "cell_type": "markdown",
   "metadata": {},
   "source": [
    "***"
   ]
  },
  {
   "cell_type": "code",
   "execution_count": null,
   "metadata": {},
   "outputs": [],
   "source": [
    "t_red = t.sample(100)"
   ]
  },
  {
   "cell_type": "code",
   "execution_count": null,
   "metadata": {},
   "outputs": [],
   "source": [
    "input_len = 10\n",
    "output_len = 60\n",
    "inputs = []\n",
    "outputs = []\n",
    "\n",
    "for flight in tqdm(t_red):\n",
    "    data = flight.data\n",
    "    for i in range(len(data) - input_len - output_len + 1):\n",
    "        inputs.append(\n",
    "            data.iloc[i : i + input_len][[\"latitude\", \"longitude\", \"altitude\"]]\n",
    "        )\n",
    "        outputs.append(\n",
    "            data.iloc[i + input_len : i + input_len + output_len][\n",
    "                [\"latitude\", \"longitude\", \"altitude\"]\n",
    "            ]\n",
    "        )"
   ]
  },
  {
   "cell_type": "code",
   "execution_count": null,
   "metadata": {},
   "outputs": [],
   "source": [
    "inputs[0].to_numpy()"
   ]
  },
  {
   "cell_type": "code",
   "execution_count": null,
   "metadata": {},
   "outputs": [],
   "source": [
    "outputs[0].to_numpy()"
   ]
  },
  {
   "cell_type": "code",
   "execution_count": null,
   "metadata": {},
   "outputs": [],
   "source": [
    "flightlist = []\n",
    "\n",
    "for flight in tqdm(t):\n",
    "    flightlist.append(flight)"
   ]
  },
  {
   "cell_type": "code",
   "execution_count": null,
   "metadata": {},
   "outputs": [],
   "source": [
    "from multiprocessing import Pool\n",
    "\n",
    "input_len = 10\n",
    "output_len = 60\n",
    "inputs = []\n",
    "outputs = []\n",
    "\n",
    "\n",
    "def process_element(flight):\n",
    "    data = flight.data\n",
    "    for i in range(len(data) - input_len - output_len + 1):\n",
    "        inputs.append(data.iloc[i : i + input_len])\n",
    "        outputs.append(data.iloc[i + input_len : i + input_len + output_len])\n",
    "    return (inputs, outputs)\n",
    "\n",
    "\n",
    "with Pool(processes=20) as pool:\n",
    "    result_dfs = pool.map(process_element, flightlist)\n",
    "    results = list(\n",
    "        tqdm(pool.imap(process_element, flightlist), total=len(flightlist))\n",
    "    )\n",
    "\n",
    "\n",
    "# def process_list(your_list):\n",
    "#     with Pool() as pool:\n",
    "#         result_dfs = pool.map(process_element, your_list)\n",
    "#     return result_dfs"
   ]
  },
  {
   "cell_type": "code",
   "execution_count": null,
   "metadata": {},
   "outputs": [],
   "source": [
    "def process_data(flight):\n",
    "    try:\n",
    "        t_start = flight.aligned_on_runway(\"LSZH\")[0].stop\n",
    "        flight.data = flight.data[flight.data.timestamp > t_start]\n",
    "        if len(flight) > 200:\n",
    "            return flight\n",
    "    except:\n",
    "        pass"
   ]
  },
  {
   "cell_type": "code",
   "execution_count": null,
   "metadata": {},
   "outputs": [],
   "source": [
    "import pandas as pd\n",
    "from multiprocessing import Pool, Manager\n",
    "\n",
    "# Assuming 'data', 'input_len', and 'output_len' are predefined\n",
    "\n",
    "\n",
    "def process_batch(args):\n",
    "    start, end, input_len, output_len = args\n",
    "    local_inputs = []\n",
    "    local_outputs = []\n",
    "    for i in range(start, end):\n",
    "        local_inputs.append(data.iloc[i : i + input_len])\n",
    "        local_outputs.append(\n",
    "            data.iloc[i + input_len : i + input_len + output_len]\n",
    "        )\n",
    "    return local_inputs, local_outputs\n",
    "\n",
    "\n",
    "def parallel_process(data, input_len, output_len, num_processes=1):\n",
    "\n",
    "    # Calculate batch size for each process\n",
    "    total_items = len(data) - input_len - output_len + 1\n",
    "    batch_size = total_items // num_processes\n",
    "\n",
    "    # Create arguments for each batch\n",
    "    batches = [\n",
    "        (i, min(i + batch_size, total_items), input_len, output_len)\n",
    "        for i in range(0, total_items, batch_size)\n",
    "    ]\n",
    "\n",
    "    # Process the batches in parallel\n",
    "    with Pool(processes=num_processes) as pool:\n",
    "        results = pool.map(process_batch, batches)\n",
    "\n",
    "    # Merge results from all processes\n",
    "    all_inputs = [input for result in results for input in result[0]]\n",
    "    all_outputs = [output for result in results for output in result[1]]\n",
    "\n",
    "    return all_inputs, all_outputs\n",
    "\n",
    "\n",
    "# Example usage\n",
    "num_processes = 20  # Adjust this based on your machine's capabilities\n",
    "inputs, outputs = parallel_process(data, input_len, output_len, num_processes)"
   ]
  },
  {
   "cell_type": "code",
   "execution_count": null,
   "metadata": {},
   "outputs": [],
   "source": [
    "input_len = 10\n",
    "output_len = 60\n",
    "inputs = []\n",
    "outputs = []\n",
    "\n",
    "for flight in tqdm(t):\n",
    "    data = flight.data\n",
    "    for i in range(len(data) - input_len - output_len + 1):\n",
    "        inputs.append(data.iloc[i : i + input_len])\n",
    "        outputs.append(data.iloc[i + input_len : i + input_len + output_len])"
   ]
  },
  {
   "cell_type": "code",
   "execution_count": null,
   "metadata": {},
   "outputs": [],
   "source": [
    "from multiprocessing import Pool"
   ]
  },
  {
   "cell_type": "code",
   "execution_count": null,
   "metadata": {},
   "outputs": [],
   "source": [
    "def process_slice(args):\n",
    "    i, input_len, output_len = args\n",
    "    input_slice = data.iloc[i : i + input_len]\n",
    "    output_slice = data.iloc[i + input_len : i + input_len + output_len]\n",
    "    return input_slice, output_slice\n",
    "\n",
    "\n",
    "def parallel_process(data, input_len, output_len, num_processes=20):\n",
    "    args = [\n",
    "        (i, input_len, output_len)\n",
    "        for i in range(len(data) - input_len - output_len + 1)\n",
    "    ]\n",
    "\n",
    "    with Pool(processes=num_processes) as pool:\n",
    "        results = pool.map(process_slice, args)\n",
    "\n",
    "    inputs, outputs = zip(*results)  # Unpack results\n",
    "    return list(inputs), list(outputs)\n",
    "\n",
    "\n",
    "# Example usage\n",
    "inputs, outputs = parallel_process(data, input_len, output_len)"
   ]
  },
  {
   "cell_type": "code",
   "execution_count": null,
   "metadata": {},
   "outputs": [],
   "source": [
    "for flight in tqdm(t):\n",
    "    data = flight.data"
   ]
  },
  {
   "cell_type": "code",
   "execution_count": null,
   "metadata": {},
   "outputs": [],
   "source": [
    "data"
   ]
  },
  {
   "cell_type": "code",
   "execution_count": null,
   "metadata": {},
   "outputs": [],
   "source": [
    "def generate_training_set(flight, index, input_len, output_len):\n",
    "    data = flight.data\n",
    "    for i in range(len(data) - input_len - output_len):\n",
    "        yield data.iloc[i : i + input_len], data.iloc[\n",
    "            i + input_len : i + input_len + output_len\n",
    "        ]"
   ]
  },
  {
   "cell_type": "code",
   "execution_count": null,
   "metadata": {},
   "outputs": [],
   "source": [
    "generate_training_set(flight, 0, 10, 5)"
   ]
  },
  {
   "cell_type": "code",
   "execution_count": null,
   "metadata": {},
   "outputs": [],
   "source": [
    "inputs = []\n",
    "outputs = []\n",
    "\n",
    "# for i in range(len(data) - input_len - output_len):\n",
    "#     inputs.append(\n",
    "#         data.iloc[i : i + input_len][[\"altitude\"]].reset_index(drop=True)\n",
    "#     )\n",
    "#     outputs.append(\n",
    "#         data.iloc[i + input_len : i + input_len + output_len][\n",
    "#             [\"altitude\"]\n",
    "#         ].reset_index(drop=True)\n",
    "#     )"
   ]
  },
  {
   "cell_type": "code",
   "execution_count": null,
   "metadata": {},
   "outputs": [],
   "source": [
    "for flight in tqdm(t):\n",
    "    data = flight.data\n",
    "    for i in range(len(data) - input_len - output_len + 1):\n",
    "        inputs.append(data.iloc[i : i + input_len])\n",
    "        outputs.append(data.iloc[i + input_len : i + input_len + output_len])"
   ]
  },
  {
   "cell_type": "code",
   "execution_count": null,
   "metadata": {},
   "outputs": [],
   "source": [
    "inputs"
   ]
  },
  {
   "cell_type": "code",
   "execution_count": null,
   "metadata": {},
   "outputs": [],
   "source": [
    "outputs[-1]"
   ]
  },
  {
   "cell_type": "code",
   "execution_count": null,
   "metadata": {},
   "outputs": [],
   "source": [
    "inputs[0]"
   ]
  },
  {
   "cell_type": "code",
   "execution_count": null,
   "metadata": {},
   "outputs": [],
   "source": [
    "inputs[1]"
   ]
  },
  {
   "cell_type": "code",
   "execution_count": null,
   "metadata": {},
   "outputs": [],
   "source": [
    "outputs[1]"
   ]
  },
  {
   "cell_type": "code",
   "execution_count": null,
   "metadata": {},
   "outputs": [],
   "source": [
    "input_len = 5\n",
    "output_len = 60\n",
    "i = 0\n",
    "\n",
    "end_input = i + input_len\n",
    "end_output = i + input_len + output_len"
   ]
  },
  {
   "cell_type": "code",
   "execution_count": null,
   "metadata": {},
   "outputs": [],
   "source": [
    "data.iloc[i:end_input][[\"latitude\", \"longitude\"]].reset_index(drop=True)"
   ]
  },
  {
   "cell_type": "code",
   "execution_count": null,
   "metadata": {},
   "outputs": [],
   "source": [
    "data.iloc[end_input:end_output][[\"latitude\", \"longitude\"]].reset_index(\n",
    "    drop=True\n",
    ")"
   ]
  },
  {
   "cell_type": "code",
   "execution_count": null,
   "metadata": {},
   "outputs": [],
   "source": [
    "for flight in tqdm(t):\n",
    "    pass"
   ]
  },
  {
   "cell_type": "code",
   "execution_count": null,
   "metadata": {},
   "outputs": [],
   "source": [
    "fig = px.scatter_mapbox(\n",
    "    t.sample(100).data,\n",
    "    lat=\"latitude\",\n",
    "    lon=\"longitude\",\n",
    "    color=\"altitude\",\n",
    "    mapbox_style=\"carto-positron\",\n",
    ")\n",
    "\n",
    "fig.update_layout(\n",
    "    width=1000,\n",
    "    height=600,\n",
    "    margin=dict(\n",
    "        l=0,  # left margin\n",
    "        r=0,  # right margin\n",
    "        b=0,  # bottom margin\n",
    "        t=0,  # top margin\n",
    "        pad=0,  # padding\n",
    "    ),\n",
    ")\n",
    "fig.show()"
   ]
  }
 ],
 "metadata": {
  "kernelspec": {
   "display_name": "Poetry via SLURM mt_krum",
   "language": "python",
   "name": "jupyter-eg-kernel-slurm-py39-poetry-1hn8hr8le"
  },
  "language_info": {
   "codemirror_mode": {
    "name": "ipython",
    "version": 3
   },
   "file_extension": ".py",
   "mimetype": "text/x-python",
   "name": "python",
   "nbconvert_exporter": "python",
   "pygments_lexer": "ipython3",
   "version": "3.11.7"
  }
 },
 "nbformat": 4,
 "nbformat_minor": 2
}
