{
 "cells": [
  {
   "cell_type": "markdown",
   "metadata": {},
   "source": [
    "***\n",
    "### Import of required libraries\n",
    "***"
   ]
  },
  {
   "cell_type": "code",
   "execution_count": null,
   "metadata": {},
   "outputs": [],
   "source": [
    "import pickle\n",
    "\n",
    "import numpy as np\n",
    "import pandas as pd\n",
    "import matplotlib.pyplot as plt\n",
    "import tensorflow as tf\n",
    "from tensorflow.keras.models import load_model\n",
    "from haversine import haversine_vector, Unit\n",
    "\n",
    "from traffic.core import Traffic"
   ]
  },
  {
   "cell_type": "markdown",
   "metadata": {},
   "source": [
    "***\n",
    "### Import of data, model and scalers\n",
    "***"
   ]
  },
  {
   "cell_type": "markdown",
   "metadata": {},
   "source": [
    "##### Data"
   ]
  },
  {
   "cell_type": "code",
   "execution_count": null,
   "metadata": {},
   "outputs": [],
   "source": [
    "test_in_con = np.load(\"/mnt/beegfs/store/krum/MT/samples/test_in32_con.npy\")\n",
    "test_in_var = np.load(\"/mnt/beegfs/store/krum/MT/samples/test_in32_var.npy\")\n",
    "test_out = np.load(\"/mnt/beegfs/store/krum/MT/samples/test_out32.npy\")"
   ]
  },
  {
   "cell_type": "markdown",
   "metadata": {},
   "source": [
    "##### Model"
   ]
  },
  {
   "cell_type": "code",
   "execution_count": null,
   "metadata": {},
   "outputs": [],
   "source": [
    "def rmse_lat():\n",
    "    return None\n",
    "\n",
    "\n",
    "def rmse_lon():\n",
    "    return None\n",
    "\n",
    "\n",
    "def rmse_alt():\n",
    "    return None\n",
    "\n",
    "\n",
    "model = load_model(\n",
    "    f\"/home/krum/git/MT_krum_code/models/snowy-gorge-126.keras\",\n",
    "    custom_objects={\n",
    "        \"rmse_lat\": rmse_lat,\n",
    "        \"rmse_lon\": rmse_lon,\n",
    "        \"rmse_alt\": rmse_alt,\n",
    "        \"weighted_mse\": tf.keras.losses.MeanSquaredError(),\n",
    "    },\n",
    ")"
   ]
  },
  {
   "cell_type": "markdown",
   "metadata": {},
   "source": [
    "##### Scalers"
   ]
  },
  {
   "cell_type": "code",
   "execution_count": null,
   "metadata": {},
   "outputs": [],
   "source": [
    "# scaler_in\n",
    "with open(\n",
    "    \"/mnt/beegfs/store/krum/MT/encoded_scaled_split/scaler_in.pkl\",\n",
    "    \"rb\",\n",
    ") as file:\n",
    "    scaler_in = pickle.load(file)\n",
    "\n",
    "# scaler_out\n",
    "with open(\n",
    "    \"/mnt/beegfs/store/krum/MT/encoded_scaled_split/scaler_out.pkl\",\n",
    "    \"rb\",\n",
    ") as file:\n",
    "    scaler_out = pickle.load(file)"
   ]
  },
  {
   "cell_type": "markdown",
   "metadata": {},
   "source": [
    "***\n",
    "### Application of model to get prediction on test set\n",
    "***"
   ]
  },
  {
   "cell_type": "markdown",
   "metadata": {},
   "source": [
    "##### Model application"
   ]
  },
  {
   "cell_type": "code",
   "execution_count": null,
   "metadata": {},
   "outputs": [],
   "source": [
    "# to be uncommented !\n",
    "# prediction = model.predict((test_in_var, test_in_con))"
   ]
  },
  {
   "cell_type": "code",
   "execution_count": null,
   "metadata": {},
   "outputs": [],
   "source": [
    "# Temp, to be removed !\n",
    "# np.save(\n",
    "#     f\"/home/krum/git/MT_krum_code/03_analysis/predictions_with_mass.npy\",\n",
    "#     prediction,\n",
    "# )\n",
    "prediction = np.load(\n",
    "    f\"/home/krum/git/MT_krum_code/03_analysis/predictions_with_mass.npy\",\n",
    ")"
   ]
  },
  {
   "cell_type": "markdown",
   "metadata": {},
   "source": [
    "##### Unscaling"
   ]
  },
  {
   "cell_type": "code",
   "execution_count": null,
   "metadata": {},
   "outputs": [],
   "source": [
    "# Predictions\n",
    "prediction_unscaled = scaler_out.inverse_transform(\n",
    "    prediction.reshape(-1, 3)\n",
    ").reshape(-1, 37, 3)[:, 1:, :]\n",
    "\n",
    "# True values\n",
    "test_out_unscaled = scaler_out.inverse_transform(\n",
    "    test_out.reshape(-1, 3)\n",
    ").reshape(-1, 37, 3)[:, 1:, :]"
   ]
  },
  {
   "cell_type": "markdown",
   "metadata": {},
   "source": [
    "***\n",
    "### Analysis of altitude prediction error\n",
    "***"
   ]
  },
  {
   "cell_type": "markdown",
   "metadata": {},
   "source": [
    "##### Error calculation"
   ]
  },
  {
   "cell_type": "code",
   "execution_count": null,
   "metadata": {},
   "outputs": [],
   "source": [
    "# Computation of altitude error and conversion from feet to meters\n",
    "altitude_diff_m = (\n",
    "    prediction_unscaled[:, :, 2] - test_out_unscaled[:, :, 2]\n",
    ") / 3.281"
   ]
  },
  {
   "cell_type": "markdown",
   "metadata": {},
   "source": [
    "##### Visualisation"
   ]
  },
  {
   "cell_type": "code",
   "execution_count": null,
   "metadata": {},
   "outputs": [],
   "source": [
    "# Generate boxplots\n",
    "plt.figure(figsize=(20, 10))\n",
    "\n",
    "# Create boxplot for each timestep (prediction horizon)\n",
    "plt.boxplot(\n",
    "    [altitude_diff_m[:, i] for i in range(36)],\n",
    "    positions=range(36),\n",
    "    patch_artist=True,\n",
    "    boxprops=dict(facecolor=\"lightblue\", color=\"black\"),\n",
    "    medianprops=dict(color=\"black\"),\n",
    "    whiskerprops=dict(color=\"black\"),\n",
    "    capprops=dict(color=\"black\"),\n",
    "    showfliers=False,\n",
    ")\n",
    "\n",
    "# Set plot axis labels and ticks\n",
    "plt.xlabel(\"Prediction horizon [s]\", fontsize=14)\n",
    "plt.ylabel(\"Altitude prediction error [m]\", fontsize=14)\n",
    "plt.xticks(\n",
    "    ticks=range(0, 36, 1),\n",
    "    labels=[str(i) for i in range(5, 185, 5)],\n",
    "    rotation=45,\n",
    ")\n",
    "plt.yticks(ticks=np.arange(-500, 500, 100))\n",
    "\n",
    "# Set grid\n",
    "plt.grid(True, which=\"both\", linestyle=\"--\", linewidth=0.5)\n",
    "plt.gca().patch.set_alpha(0.3)\n",
    "\n",
    "# Show plot\n",
    "plt.show()"
   ]
  },
  {
   "cell_type": "markdown",
   "metadata": {},
   "source": [
    "***\n",
    "### Analysis of position prediction error\n",
    "***"
   ]
  },
  {
   "cell_type": "markdown",
   "metadata": {},
   "source": [
    "##### Error calculation"
   ]
  },
  {
   "cell_type": "code",
   "execution_count": null,
   "metadata": {},
   "outputs": [],
   "source": [
    "# Extraction of latitudes and longitudes\n",
    "pred_lat = prediction_unscaled[:, :, 0].flatten()\n",
    "pred_lon = prediction_unscaled[:, :, 1].flatten()\n",
    "test_lat = test_out_unscaled[:, :, 0].flatten()\n",
    "test_lon = test_out_unscaled[:, :, 1].flatten()\n",
    "\n",
    "# Computation of latitude and longitude errors\n",
    "lat_error = (pred_lat - test_lat).reshape(prediction_unscaled.shape[0], 36)\n",
    "lon_error = (pred_lon - test_lon).reshape(prediction_unscaled.shape[0], 36)\n",
    "\n",
    "\n",
    "# Computation of 2d position errors [m] using haversine formula\n",
    "pred_lat = prediction_unscaled[:, :, 0].flatten()\n",
    "pred_lon = prediction_unscaled[:, :, 1].flatten()\n",
    "test_lat = test_out_unscaled[:, :, 0].flatten()\n",
    "test_lon = test_out_unscaled[:, :, 1].flatten()\n",
    "\n",
    "positions_pred = np.column_stack((pred_lat, pred_lon))\n",
    "positions_actual = np.column_stack((test_lat, test_lon))\n",
    "\n",
    "position_error_m = haversine_vector(positions_pred, positions_actual, unit=Unit.METERS)\n",
    "position_error_m = position_error_m.reshape(prediction_unscaled.shape[0], 36)"
   ]
  },
  {
   "cell_type": "markdown",
   "metadata": {},
   "source": [
    "##### Visualisation latitude error"
   ]
  },
  {
   "cell_type": "code",
   "execution_count": null,
   "metadata": {},
   "outputs": [],
   "source": [
    "# Generate boxplots\n",
    "plt.figure(figsize=(20, 10))\n",
    "\n",
    "# Create boxplot for each timestep (prediction horizon)\n",
    "plt.boxplot(\n",
    "    [lat_error[:, i] for i in range(36)],\n",
    "    positions=range(36),\n",
    "    patch_artist=True,\n",
    "    boxprops=dict(facecolor=\"lightblue\", color=\"black\"),\n",
    "    medianprops=dict(color=\"black\"),\n",
    "    whiskerprops=dict(color=\"black\"),\n",
    "    capprops=dict(color=\"black\"),\n",
    "    showfliers=False,\n",
    ")\n",
    "\n",
    "# Set plot axis labels and ticks\n",
    "plt.xlabel(\"Prediction horizon [s]\", fontsize=14)\n",
    "plt.ylabel(\"Latitude prediction error [°]\", fontsize=14)\n",
    "plt.xticks(\n",
    "    ticks=range(0, 36, 1),\n",
    "    labels=[str(i) for i in range(5, 185, 5)],\n",
    "    rotation=45,\n",
    ")\n",
    "plt.yticks(ticks=np.arange(-0.07, 0.07, 0.005))\n",
    "\n",
    "# Set grid\n",
    "plt.grid(True, which=\"both\", linestyle=\"--\", linewidth=0.5)\n",
    "plt.gca().patch.set_alpha(0.3)\n",
    "\n",
    "# Show plot\n",
    "plt.show()"
   ]
  },
  {
   "cell_type": "markdown",
   "metadata": {},
   "source": [
    "##### Visualisation longitude error"
   ]
  },
  {
   "cell_type": "code",
   "execution_count": null,
   "metadata": {},
   "outputs": [],
   "source": [
    "# Generate boxplots\n",
    "plt.figure(figsize=(20, 10))\n",
    "\n",
    "# Create boxplot for each timestep (prediction horizon)\n",
    "plt.boxplot(\n",
    "    [lon_error[:, i] for i in range(36)],\n",
    "    positions=range(36),\n",
    "    patch_artist=True,\n",
    "    boxprops=dict(facecolor=\"lightblue\", color=\"black\"),\n",
    "    medianprops=dict(color=\"black\"),\n",
    "    whiskerprops=dict(color=\"black\"),\n",
    "    capprops=dict(color=\"black\"),\n",
    "    showfliers=False,\n",
    ")\n",
    "\n",
    "# Set plot axis labels and ticks\n",
    "plt.xlabel(\"Prediction horizon [s]\", fontsize=14)\n",
    "plt.ylabel(\"Longitude prediction error [m]\", fontsize=14)\n",
    "plt.xticks(\n",
    "    ticks=range(0, 36, 1),\n",
    "    labels=[str(i) for i in range(5, 185, 5)],\n",
    "    rotation=45,\n",
    ")\n",
    "plt.yticks(ticks=np.arange(-0.085, 0.085, 0.005))\n",
    "\n",
    "# Set grid\n",
    "plt.grid(True, which=\"both\", linestyle=\"--\", linewidth=0.5)\n",
    "plt.gca().patch.set_alpha(0.3)\n",
    "\n",
    "# Show plot\n",
    "plt.show()"
   ]
  },
  {
   "cell_type": "markdown",
   "metadata": {},
   "source": [
    "##### Visualisation of 2d position error"
   ]
  },
  {
   "cell_type": "code",
   "execution_count": null,
   "metadata": {},
   "outputs": [],
   "source": [
    "# Generate boxplots\n",
    "plt.figure(figsize=(20, 10))\n",
    "\n",
    "# Create boxplot for each timestep (prediction horizon)\n",
    "plt.boxplot(\n",
    "    [position_error_m[:, i] for i in range(36)],\n",
    "    positions=range(36),\n",
    "    patch_artist=True,\n",
    "    boxprops=dict(facecolor=\"lightblue\", color=\"black\"),\n",
    "    medianprops=dict(color=\"black\"),\n",
    "    whiskerprops=dict(color=\"black\"),\n",
    "    capprops=dict(color=\"black\"),\n",
    "    showfliers=False,\n",
    ")\n",
    "\n",
    "# Set plot axis labels and ticks\n",
    "plt.xlabel(\"Prediction horizon [s]\", fontsize=14)\n",
    "plt.ylabel(\"2D position prediction error [m]\", fontsize=14)\n",
    "plt.xticks(\n",
    "    ticks=range(0, 36, 1),\n",
    "    labels=[str(i) for i in range(5, 185, 5)],\n",
    "    rotation=45,\n",
    ")\n",
    "plt.yticks(ticks=np.arange(0, 10000, 1000))\n",
    "\n",
    "# Set grid\n",
    "plt.grid(True, which=\"both\", linestyle=\"--\", linewidth=0.5)\n",
    "plt.gca().patch.set_alpha(0.3)\n",
    "\n",
    "# Show plot\n",
    "plt.show()"
   ]
  }
 ],
 "metadata": {
  "kernelspec": {
   "display_name": "Poetry via SLURM MIAR",
   "language": "python",
   "name": "jupyter-eg-kernel-slurm-py39-poetry-1ho6psb1p"
  }
 },
 "nbformat": 4,
 "nbformat_minor": 2
}
