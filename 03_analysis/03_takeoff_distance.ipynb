{
 "cells": [
  {
   "cell_type": "markdown",
   "metadata": {},
   "source": [
    "***\n",
    "### Import of required libraries\n",
    "***"
   ]
  },
  {
   "cell_type": "code",
   "execution_count": null,
   "metadata": {},
   "outputs": [],
   "source": [
    "import pickle\n",
    "\n",
    "import numpy as np\n",
    "import pandas as pd\n",
    "import matplotlib.pyplot as plt\n",
    "import tensorflow as tf\n",
    "from tensorflow.keras.models import load_model\n",
    "from geopy.distance import distance\n",
    "\n",
    "from traffic.core import Traffic\n",
    "from tqdm.auto import tqdm"
   ]
  },
  {
   "cell_type": "markdown",
   "metadata": {},
   "source": [
    "***\n",
    "### Import of data, model and scalers\n",
    "***"
   ]
  },
  {
   "cell_type": "markdown",
   "metadata": {},
   "source": [
    "##### Trajectory data"
   ]
  },
  {
   "cell_type": "code",
   "execution_count": null,
   "metadata": {},
   "outputs": [],
   "source": [
    "t = Traffic.from_file(\n",
    "    \"/mnt/beegfs/store/krum/MT/encoded_scaled_split/t_test.parquet\"\n",
    ")"
   ]
  },
  {
   "cell_type": "markdown",
   "metadata": {},
   "source": [
    "##### Model"
   ]
  },
  {
   "cell_type": "code",
   "execution_count": null,
   "metadata": {},
   "outputs": [],
   "source": [
    "def rmse_lat():\n",
    "    return None\n",
    "\n",
    "\n",
    "def rmse_lon():\n",
    "    return None\n",
    "\n",
    "\n",
    "def rmse_alt():\n",
    "    return None\n",
    "\n",
    "\n",
    "model = load_model(\n",
    "    f\"/home/krum/git/MT_krum_code/models/snowy-gorge-126.keras\",\n",
    "    custom_objects={\n",
    "        \"rmse_lat\": rmse_lat,\n",
    "        \"rmse_lon\": rmse_lon,\n",
    "        \"rmse_alt\": rmse_alt,\n",
    "        \"weighted_mse\": tf.keras.losses.MeanSquaredError(),\n",
    "    },\n",
    ")"
   ]
  },
  {
   "cell_type": "markdown",
   "metadata": {},
   "source": [
    "##### Scalers"
   ]
  },
  {
   "cell_type": "code",
   "execution_count": null,
   "metadata": {},
   "outputs": [],
   "source": [
    "# scaler_in\n",
    "with open(\n",
    "    \"/mnt/beegfs/store/krum/MT/encoded_scaled_split/scaler_in.pkl\",\n",
    "    \"rb\",\n",
    ") as file:\n",
    "    scaler_in = pickle.load(file)\n",
    "\n",
    "# scaler_out\n",
    "with open(\n",
    "    \"/mnt/beegfs/store/krum/MT/encoded_scaled_split/scaler_out.pkl\",\n",
    "    \"rb\",\n",
    ") as file:\n",
    "    scaler_out = pickle.load(file)"
   ]
  },
  {
   "cell_type": "markdown",
   "metadata": {},
   "source": [
    "***\n",
    "### First try (not working)\n",
    "***"
   ]
  },
  {
   "cell_type": "code",
   "execution_count": 251,
   "metadata": {},
   "outputs": [],
   "source": [
    "def calculate_distance(row1, row2):\n",
    "    coords_1 = (row1[\"latitude\"], row1[\"longitude\"])\n",
    "    coords_2 = (row2[\"latitude\"], row2[\"longitude\"])\n",
    "    return distance(coords_1, coords_2).meters"
   ]
  },
  {
   "cell_type": "code",
   "execution_count": 311,
   "metadata": {},
   "outputs": [
    {
     "data": {
      "text/html": [
       "<div>\n",
       "<style scoped>\n",
       "    .dataframe tbody tr th:only-of-type {\n",
       "        vertical-align: middle;\n",
       "    }\n",
       "\n",
       "    .dataframe tbody tr th {\n",
       "        vertical-align: top;\n",
       "    }\n",
       "\n",
       "    .dataframe thead th {\n",
       "        text-align: right;\n",
       "    }\n",
       "</style>\n",
       "<table border=\"1\" class=\"dataframe\">\n",
       "  <thead>\n",
       "    <tr style=\"text-align: right;\">\n",
       "      <th></th>\n",
       "      <th>latitude</th>\n",
       "      <th>longitude</th>\n",
       "      <th>altitude</th>\n",
       "    </tr>\n",
       "  </thead>\n",
       "  <tbody>\n",
       "    <tr>\n",
       "      <th>44930789</th>\n",
       "      <td>47.456691</td>\n",
       "      <td>8.569388</td>\n",
       "      <td>1125.0</td>\n",
       "    </tr>\n",
       "    <tr>\n",
       "      <th>44930793</th>\n",
       "      <td>47.456691</td>\n",
       "      <td>8.569157</td>\n",
       "      <td>1125.0</td>\n",
       "    </tr>\n",
       "    <tr>\n",
       "      <th>44930796</th>\n",
       "      <td>47.456715</td>\n",
       "      <td>8.568861</td>\n",
       "      <td>1125.0</td>\n",
       "    </tr>\n",
       "    <tr>\n",
       "      <th>44930798</th>\n",
       "      <td>47.456761</td>\n",
       "      <td>8.568554</td>\n",
       "      <td>1125.0</td>\n",
       "    </tr>\n",
       "    <tr>\n",
       "      <th>44930802</th>\n",
       "      <td>47.456782</td>\n",
       "      <td>8.568282</td>\n",
       "      <td>1125.0</td>\n",
       "    </tr>\n",
       "    <tr>\n",
       "      <th>44930803</th>\n",
       "      <td>47.456807</td>\n",
       "      <td>8.567777</td>\n",
       "      <td>1125.0</td>\n",
       "    </tr>\n",
       "    <tr>\n",
       "      <th>44930807</th>\n",
       "      <td>47.456842</td>\n",
       "      <td>8.567416</td>\n",
       "      <td>1125.0</td>\n",
       "    </tr>\n",
       "    <tr>\n",
       "      <th>44930809</th>\n",
       "      <td>47.456885</td>\n",
       "      <td>8.566920</td>\n",
       "      <td>1125.0</td>\n",
       "    </tr>\n",
       "    <tr>\n",
       "      <th>44930814</th>\n",
       "      <td>47.456908</td>\n",
       "      <td>8.566518</td>\n",
       "      <td>1125.0</td>\n",
       "    </tr>\n",
       "    <tr>\n",
       "      <th>44930816</th>\n",
       "      <td>47.456943</td>\n",
       "      <td>8.565864</td>\n",
       "      <td>1125.0</td>\n",
       "    </tr>\n",
       "  </tbody>\n",
       "</table>\n",
       "</div>"
      ],
      "text/plain": [
       "           latitude  longitude  altitude\n",
       "44930789  47.456691   8.569388    1125.0\n",
       "44930793  47.456691   8.569157    1125.0\n",
       "44930796  47.456715   8.568861    1125.0\n",
       "44930798  47.456761   8.568554    1125.0\n",
       "44930802  47.456782   8.568282    1125.0\n",
       "44930803  47.456807   8.567777    1125.0\n",
       "44930807  47.456842   8.567416    1125.0\n",
       "44930809  47.456885   8.566920    1125.0\n",
       "44930814  47.456908   8.566518    1125.0\n",
       "44930816  47.456943   8.565864    1125.0"
      ]
     },
     "execution_count": 311,
     "metadata": {},
     "output_type": "execute_result"
    }
   ],
   "source": [
    "flight.data[\n",
    "    [\n",
    "        \"latitude\",\n",
    "        \"longitude\",\n",
    "        \"altitude\",\n",
    "    ]\n",
    "].iloc[0:10]"
   ]
  },
  {
   "cell_type": "code",
   "execution_count": 324,
   "metadata": {},
   "outputs": [
    {
     "name": "stderr",
     "output_type": "stream",
     "text": [
      "100%|██████████| 100/100 [00:06<00:00, 14.48it/s]\n"
     ]
    }
   ],
   "source": [
    "actual_to_dist_m = []\n",
    "pred_to_dist_m = []\n",
    "\n",
    "for flight in tqdm(t[0:100]):\n",
    "    # Actual take-off distance\n",
    "    flightdata = flight.cumulative_distance().data\n",
    "    flightdata[\"cumdist_m\"] = flightdata[\"cumdist\"] * 1852\n",
    "    runalt_m = ((flightdata[0:10].altitude) / 3.281).mean()\n",
    "    flightdata[\"agl_m\"] = (flightdata.altitude / 3.281) - runalt_m\n",
    "    flightdata[\"status\"] = np.where(flightdata[\"agl_m\"] <= 20, \"ground\", \"air\")\n",
    "    to_dist_m = round(\n",
    "        flightdata[flightdata[\"status\"] == \"ground\"][\"cumdist_m\"].iloc[-1]\n",
    "    )\n",
    "    actual_to_dist_m.append(to_dist_m)\n",
    "\n",
    "    # Predicted\n",
    "    f_in_var_unscaled = flight.data[\n",
    "        [\n",
    "            \"latitude\",\n",
    "            \"longitude\",\n",
    "            \"altitude\",\n",
    "        ]\n",
    "    ].iloc[0:10]\n",
    "\n",
    "    input_var = (\n",
    "        flight.data[\n",
    "            [\n",
    "                \"latitude_scaled\",\n",
    "                \"longitude_scaled\",\n",
    "                \"altitude_scaled\",\n",
    "                \"wind_x_2min_avg_scaled\",\n",
    "                \"wind_y_2min_avg_scaled\",\n",
    "                \"temperature_gnd_scaled\",\n",
    "                \"humidity_gnd_scaled\",\n",
    "                \"pressure_gnd_scaled\",\n",
    "            ]\n",
    "        ]\n",
    "        .iloc[0:10]\n",
    "        .to_numpy()\n",
    "        .reshape(1, 10, 8)\n",
    "    )\n",
    "\n",
    "    input_con = (\n",
    "        flight.data[\n",
    "            [\n",
    "                \"toff_weight_kg_scaled\",\n",
    "                \"typecode_A20N\",\n",
    "                \"typecode_A21N\",\n",
    "                \"typecode_A319\",\n",
    "                \"typecode_A320\",\n",
    "                \"typecode_A321\",\n",
    "                \"typecode_A333\",\n",
    "                \"typecode_A343\",\n",
    "                \"typecode_B77W\",\n",
    "                \"typecode_BCS1\",\n",
    "                \"typecode_BCS3\",\n",
    "                \"typecode_CRJ9\",\n",
    "                \"typecode_DH8D\",\n",
    "                \"typecode_E190\",\n",
    "                \"typecode_E195\",\n",
    "                \"typecode_E290\",\n",
    "                \"typecode_E295\",\n",
    "                \"typecode_F100\",\n",
    "                \"typecode_SB20\",\n",
    "                \"SID_DEGES\",\n",
    "                \"SID_GERSA\",\n",
    "                \"SID_VEBIT\",\n",
    "                \"SID_ZUE\",\n",
    "                \"hour_sin\",\n",
    "                \"hour_cos\",\n",
    "                \"weekday_sin\",\n",
    "                \"weekday_cos\",\n",
    "                \"month_sin\",\n",
    "                \"month_cos\",\n",
    "            ]\n",
    "        ]\n",
    "        .iloc[10]\n",
    "        .to_numpy()\n",
    "        .reshape(1, 1, 29)\n",
    "    )\n",
    "\n",
    "    output = model.predict((input_var, input_con), verbose=0)\n",
    "    output_unscaled = scaler_out.inverse_transform(\n",
    "        output.reshape(-1, 3)\n",
    "    ).reshape(37, 3)[1:, :]\n",
    "\n",
    "    df_in = f_in_var_unscaled\n",
    "    df_out = pd.DataFrame(\n",
    "        output_unscaled, columns=[\"latitude\", \"longitude\", \"altitude\"]\n",
    "    )\n",
    "    df = pd.concat([df_in, df_out]).reset_index(drop=True)\n",
    "    df[\"agl_m\"] = (df.altitude / 3.281) - runalt_m\n",
    "\n",
    "    # Calculate travelled distance and add to new column\n",
    "    dist_diff = df.apply(\n",
    "        lambda row: (\n",
    "            calculate_distance(df.loc[row.name - 1], row)\n",
    "            if row.name > 0\n",
    "            else 0\n",
    "        ),\n",
    "        axis=1,\n",
    "    )\n",
    "\n",
    "    df[\"cumdist\"] = dist_diff.cumsum()\n",
    "\n",
    "    to_dist_pred = round(df[df[\"agl_m\"] <= 20][\"cumdist\"].iloc[-1])\n",
    "    pred_to_dist_m.append(to_dist_pred)"
   ]
  },
  {
   "cell_type": "code",
   "execution_count": 332,
   "metadata": {},
   "outputs": [],
   "source": [
    "# Convert lists to Pandas Series\n",
    "pred_to_dist_m_series = pd.Series(pred_to_dist_m, name=\"Predicted\")\n",
    "actual_to_dist_m_series = pd.Series(actual_to_dist_m, name=\"Actual\")\n",
    "\n",
    "# Calculate the error directly\n",
    "error_series = pred_to_dist_m_series - actual_to_dist_m_series"
   ]
  },
  {
   "cell_type": "code",
   "execution_count": 335,
   "metadata": {},
   "outputs": [
    {
     "data": {
      "image/png": "[encoded data removed]",
      "text/plain": [
       "<Figure size 1000x600 with 1 Axes>"
      ]
     },
     "metadata": {},
     "output_type": "display_data"
    }
   ],
   "source": [
    "# Plot a boxplot of the error series\n",
    "plt.figure(figsize=(10, 6))\n",
    "plt.boxplot(\n",
    "    error_series,\n",
    "    vert=False,\n",
    "    patch_artist=True,\n",
    "    boxprops=dict(facecolor=\"lightblue\"),\n",
    ")\n",
    "plt.title(\"Boxplot of Error (Predicted - Actual)\")\n",
    "plt.xlabel(\"Error\")\n",
    "\n",
    "# Display the plot\n",
    "plt.show()"
   ]
  },
  {
   "cell_type": "markdown",
   "metadata": {},
   "source": [
    "Idea multiple boxplot by aircraft type or weight category"
   ]
  },
  {
   "cell_type": "markdown",
   "metadata": {},
   "source": [
    "***\n",
    "### Visualisation\n",
    "***"
   ]
  },
  {
   "cell_type": "code",
   "execution_count": 290,
   "metadata": {},
   "outputs": [
    {
     "data": {
      "text/plain": [
       "[<matplotlib.lines.Line2D at 0x7ffab5d7ee50>]"
      ]
     },
     "execution_count": 290,
     "metadata": {},
     "output_type": "execute_result"
    },
    {
     "data": {
      "image/png": "[encoded data removed]",
      "text/plain": [
       "<Figure size 640x480 with 1 Axes>"
      ]
     },
     "metadata": {},
     "output_type": "display_data"
    }
   ],
   "source": [
    "plt.plot(df[\"cumdist\"][0:30], df[\"agl_m\"][0:30], label=\"Predicted\")\n",
    "plt.plot(\n",
    "    flightdata[\"cumdist\"][0:100] * 1852,\n",
    "    flightdata[\"agl_m\"][0:100],\n",
    "    label=\"Actual\",\n",
    ")"
   ]
  }
 ],
 "metadata": {
  "kernelspec": {
   "display_name": "Poetry via SLURM MIAR",
   "language": "python",
   "name": "jupyter-eg-kernel-slurm-py39-poetry-1ho6psb1p"
  },
  "language_info": {
   "codemirror_mode": {
    "name": "ipython",
    "version": 3
   },
   "file_extension": ".py",
   "mimetype": "text/x-python",
   "name": "python",
   "nbconvert_exporter": "python",
   "pygments_lexer": "ipython3",
   "version": "3.11.7"
  }
 },
 "nbformat": 4,
 "nbformat_minor": 2
}
